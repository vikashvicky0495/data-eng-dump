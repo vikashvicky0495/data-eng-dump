{
 "cells": [
  {
   "cell_type": "markdown",
   "metadata": {},
   "source": [
    "##########       Analyzing Amazon product review data set  using dataframe    #######################"
   ]
  },
  {
   "cell_type": "code",
   "execution_count": null,
   "metadata": {},
   "outputs": [],
   "source": [
    "spark"
   ]
  },
  {
   "cell_type": "code",
   "execution_count": null,
   "metadata": {},
   "outputs": [],
   "source": [
    "# Reading data from S3 to a DataFrame. Please change the path according to the path of the dataset in your S3 bucket.\r\n",
    "reviews_df = spark.read.json('s3a://sparkbucket123/Electronics_5.json')"
   ]
  },
  {
   "cell_type": "code",
   "execution_count": null,
   "metadata": {},
   "outputs": [],
   "source": [
    "reviews_df.show(5)"
   ]
  },
  {
   "cell_type": "code",
   "execution_count": null,
   "metadata": {},
   "outputs": [],
   "source": [
    "reviews_df.printSchema()"
   ]
  },
  {
   "cell_type": "code",
   "execution_count": null,
   "metadata": {},
   "outputs": [],
   "source": [
    "# Finding the number of individual reviewers\n",
    "distinct_reviewers = reviews_df.select(\"reviewerID\").distinct()\n",
    "distinct_reviewers.count()"
   ]
  },
  {
   "cell_type": "code",
   "execution_count": null,
   "metadata": {},
   "outputs": [],
   "source": [
    "# Finding the number of product counts\n",
    "reviews_df.select(\"asin\").distinct().count()\n"
   ]
  },
  {
   "cell_type": "code",
   "execution_count": null,
   "metadata": {},
   "outputs": [],
   "source": [
    "# Find the products with reviews\n",
    " reviews_df.select(\"asin\").groupBy(\"asin\").count().orderBy(\"count\" , ascending =False)\n"
   ]
  },
  {
   "cell_type": "code",
   "execution_count": null,
   "metadata": {},
   "outputs": [],
   "source": [
    "# Find the number of reviews given by each user\n",
    "reviews_df.select(\"reviewerID\").groupBy(\"reviewerID\").count().orderBy(\"count\" , ascending =False).show()"
   ]
  },
  {
   "cell_type": "code",
   "execution_count": null,
   "metadata": {},
   "outputs": [],
   "source": [
    "# Number of user reviews every month sorted in decreasing order of reviews count\n",
    "\n",
    "from pyspark.sql.functions import *\n",
    "reviews_df1= reviews_df.withColumn( \"ts\" , reviews_df['unixReviewTime'].cast('timestamp'))\n",
    "reviews_df1.printSchema()\n"
   ]
  },
  {
   "cell_type": "code",
   "execution_count": null,
   "metadata": {},
   "outputs": [],
   "source": [
    "reviews_df_with_year= reviews_df1.withColumn(\"year\" , year(\"ts\")).withColumn(\"month\" , month(\"ts\"))\n",
    "\n",
    "reviews_df_with_year.groupBy(\"year\", \"month\").count().orderBy('count', ascending = False).show()"
   ]
  },
  {
   "cell_type": "code",
   "execution_count": null,
   "metadata": {},
   "outputs": [],
   "source": [
    "# Find how many times each prodcut has been reviewed great"
   ]
  },
  {
   "cell_type": "code",
   "execution_count": null,
   "metadata": {},
   "outputs": [],
   "source": [
    "great_reviews = reviews_df.filter(reviews_df.reviewText.contains(\"great\"))\n",
    "great_reviews.groupBy(\"asin\").count().orderBy('count', ascending = False).show()\n"
   ]
  }
 ],
 "metadata": {
  "kernelspec": {
   "display_name": "Python 2",
   "language": "python",
   "name": "python2"
  },
  "language_info": {
   "codemirror_mode": {
    "name": "ipython",
    "version": 2
   },
   "file_extension": ".py",
   "mimetype": "text/x-python",
   "name": "python",
   "nbconvert_exporter": "python",
   "pygments_lexer": "ipython2",
   "version": "2.7.16"
  }
 },
 "nbformat": 4,
 "nbformat_minor": 2
}