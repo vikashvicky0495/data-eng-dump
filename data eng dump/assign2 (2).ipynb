{
 "cells": [
  {
   "cell_type": "code",
   "execution_count": 1,
   "id": "3ae0adb4",
   "metadata": {
    "execution": {
     "iopub.execute_input": "2022-02-09T04:24:45.427111Z",
     "iopub.status.busy": "2022-02-09T04:24:45.426770Z",
     "iopub.status.idle": "2022-02-09T04:25:34.644026Z",
     "shell.execute_reply": "2022-02-09T04:25:34.643238Z",
     "shell.execute_reply.started": "2022-02-09T04:24:45.427071Z"
    },
    "tags": []
   },
   "outputs": [
    {
     "data": {
      "application/vnd.jupyter.widget-view+json": {
       "model_id": "8734d885c80342768cc4425a6bad7207",
       "version_major": 2,
       "version_minor": 0
      },
      "text/plain": [
       "VBox()"
      ]
     },
     "metadata": {},
     "output_type": "display_data"
    },
    {
     "name": "stdout",
     "output_type": "stream",
     "text": [
      "Starting Spark application\n"
     ]
    },
    {
     "data": {
      "text/html": [
       "<table>\n",
       "<tr><th>ID</th><th>YARN Application ID</th><th>Kind</th><th>State</th><th>Spark UI</th><th>Driver log</th><th>Current session?</th></tr><tr><td>0</td><td>application_1644379932023_0002</td><td>pyspark</td><td>idle</td><td><a target=\"_blank\" href=\"http://ip-10-0-0-30.ec2.internal:20888/proxy/application_1644379932023_0002/\">Link</a></td><td><a target=\"_blank\" href=\"http://ip-10-0-0-30.ec2.internal:8042/node/containerlogs/container_1644379932023_0002_01_000001/livy\">Link</a></td><td>✔</td></tr></table>"
      ],
      "text/plain": [
       "<IPython.core.display.HTML object>"
      ]
     },
     "metadata": {},
     "output_type": "display_data"
    },
    {
     "data": {
      "application/vnd.jupyter.widget-view+json": {
       "model_id": "",
       "version_major": 2,
       "version_minor": 0
      },
      "text/plain": [
       "FloatProgress(value=0.0, bar_style='info', description='Progress:', layout=Layout(height='25px', width='50%'),…"
      ]
     },
     "metadata": {},
     "output_type": "display_data"
    },
    {
     "name": "stdout",
     "output_type": "stream",
     "text": [
      "SparkSession available as 'spark'.\n"
     ]
    },
    {
     "data": {
      "application/vnd.jupyter.widget-view+json": {
       "model_id": "",
       "version_major": 2,
       "version_minor": 0
      },
      "text/plain": [
       "FloatProgress(value=0.0, bar_style='info', description='Progress:', layout=Layout(height='25px', width='50%'),…"
      ]
     },
     "metadata": {},
     "output_type": "display_data"
    },
    {
     "name": "stdout",
     "output_type": "stream",
     "text": [
      "<pyspark.sql.session.SparkSession object at 0x7f3566adfad0>"
     ]
    }
   ],
   "source": [
    "spark"
   ]
  },
  {
   "cell_type": "code",
   "execution_count": 2,
   "id": "0d5d11f8",
   "metadata": {
    "execution": {
     "iopub.execute_input": "2022-02-09T04:31:48.082969Z",
     "iopub.status.busy": "2022-02-09T04:31:48.082721Z",
     "iopub.status.idle": "2022-02-09T04:32:03.813047Z",
     "shell.execute_reply": "2022-02-09T04:32:03.811091Z",
     "shell.execute_reply.started": "2022-02-09T04:31:48.082942Z"
    },
    "tags": []
   },
   "outputs": [
    {
     "data": {
      "application/vnd.jupyter.widget-view+json": {
       "model_id": "823b176f8c444e7fa924ccfb8cdba850",
       "version_major": 2,
       "version_minor": 0
      },
      "text/plain": [
       "VBox()"
      ]
     },
     "metadata": {},
     "output_type": "display_data"
    },
    {
     "data": {
      "application/vnd.jupyter.widget-view+json": {
       "model_id": "",
       "version_major": 2,
       "version_minor": 0
      },
      "text/plain": [
       "FloatProgress(value=0.0, bar_style='info', description='Progress:', layout=Layout(height='25px', width='50%'),…"
      ]
     },
     "metadata": {},
     "output_type": "display_data"
    }
   ],
   "source": [
    "df = spark.read.option(\"sep\", \",\").option(\"header\", \"false\").csv(\"part-m-00000\")"
   ]
  },
  {
   "cell_type": "code",
   "execution_count": 3,
   "id": "63d12c52",
   "metadata": {
    "execution": {
     "iopub.execute_input": "2022-02-09T04:32:09.141531Z",
     "iopub.status.busy": "2022-02-09T04:32:09.141184Z",
     "iopub.status.idle": "2022-02-09T04:32:09.427402Z",
     "shell.execute_reply": "2022-02-09T04:32:09.426553Z",
     "shell.execute_reply.started": "2022-02-09T04:32:09.141500Z"
    },
    "tags": []
   },
   "outputs": [
    {
     "data": {
      "application/vnd.jupyter.widget-view+json": {
       "model_id": "af8f34a3e4c64309936d9d20291c850b",
       "version_major": 2,
       "version_minor": 0
      },
      "text/plain": [
       "VBox()"
      ]
     },
     "metadata": {},
     "output_type": "display_data"
    },
    {
     "data": {
      "application/vnd.jupyter.widget-view+json": {
       "model_id": "",
       "version_major": 2,
       "version_minor": 0
      },
      "text/plain": [
       "FloatProgress(value=0.0, bar_style='info', description='Progress:', layout=Layout(height='25px', width='50%'),…"
      ]
     },
     "metadata": {},
     "output_type": "display_data"
    },
    {
     "name": "stdout",
     "output_type": "stream",
     "text": [
      "root\n",
      " |-- _c0: string (nullable = true)\n",
      " |-- _c1: string (nullable = true)\n",
      " |-- _c2: string (nullable = true)\n",
      " |-- _c3: string (nullable = true)\n",
      " |-- _c4: string (nullable = true)\n",
      " |-- _c5: string (nullable = true)\n",
      " |-- _c6: string (nullable = true)\n",
      " |-- _c7: string (nullable = true)\n",
      " |-- _c8: string (nullable = true)\n",
      " |-- _c9: string (nullable = true)\n",
      " |-- _c10: string (nullable = true)\n",
      " |-- _c11: string (nullable = true)\n",
      " |-- _c12: string (nullable = true)\n",
      " |-- _c13: string (nullable = true)\n",
      " |-- _c14: string (nullable = true)\n",
      " |-- _c15: string (nullable = true)\n",
      " |-- _c16: string (nullable = true)\n",
      " |-- _c17: string (nullable = true)\n",
      " |-- _c18: string (nullable = true)\n",
      " |-- _c19: string (nullable = true)\n",
      " |-- _c20: string (nullable = true)\n",
      " |-- _c21: string (nullable = true)\n",
      " |-- _c22: string (nullable = true)\n",
      " |-- _c23: string (nullable = true)\n",
      " |-- _c24: string (nullable = true)\n",
      " |-- _c25: string (nullable = true)\n",
      " |-- _c26: string (nullable = true)\n",
      " |-- _c27: string (nullable = true)\n",
      " |-- _c28: string (nullable = true)\n",
      " |-- _c29: string (nullable = true)\n",
      " |-- _c30: string (nullable = true)\n",
      " |-- _c31: string (nullable = true)\n",
      " |-- _c32: string (nullable = true)\n",
      " |-- _c33: string (nullable = true)"
     ]
    }
   ],
   "source": [
    "df.printSchema()"
   ]
  },
  {
   "cell_type": "code",
   "execution_count": 4,
   "id": "a06495e0",
   "metadata": {
    "execution": {
     "iopub.execute_input": "2022-02-09T04:32:14.818005Z",
     "iopub.status.busy": "2022-02-09T04:32:14.817762Z",
     "iopub.status.idle": "2022-02-09T04:32:15.782469Z",
     "shell.execute_reply": "2022-02-09T04:32:15.781686Z",
     "shell.execute_reply.started": "2022-02-09T04:32:14.817977Z"
    },
    "tags": []
   },
   "outputs": [
    {
     "data": {
      "application/vnd.jupyter.widget-view+json": {
       "model_id": "318f5c117c2c405cab38ca828028fae9",
       "version_major": 2,
       "version_minor": 0
      },
      "text/plain": [
       "VBox()"
      ]
     },
     "metadata": {},
     "output_type": "display_data"
    },
    {
     "data": {
      "application/vnd.jupyter.widget-view+json": {
       "model_id": "",
       "version_major": 2,
       "version_minor": 0
      },
      "text/plain": [
       "FloatProgress(value=0.0, bar_style='info', description='Progress:', layout=Layout(height='25px', width='50%'),…"
      ]
     },
     "metadata": {},
     "output_type": "display_data"
    },
    {
     "name": "stdout",
     "output_type": "stream",
     "text": [
      "+----+-------+---+------+---+--------+---+---+----------+-----------+----+----+------+------+----+----------+----+----------+----+----+------+------+-------+--------------+-------+----+----+----+----+-----+----+----+----+----------+\n",
      "| _c0|    _c1|_c2|   _c3|_c4|     _c5|_c6|_c7|       _c8|        _c9|_c10|_c11|  _c12|  _c13|_c14|      _c15|_c16|      _c17|_c18|_c19|  _c20|  _c21|   _c22|          _c23|   _c24|_c25|_c26|_c27|_c28| _c29|_c30|_c31|_c32|      _c33|\n",
      "+----+-------+---+------+---+--------+---+---+----------+-----------+----+----+------+------+----+----------+----+----------+----+----+------+------+-------+--------------+-------+----+----+----+----+-----+----+----+----+----------+\n",
      "|2017|January|  1|Sunday|  0|  Active|  1|NCR|NÃƒÂ¦stved|Farimagsvej|   8|4700|55.233|11.763| DKK|MasterCard|5643|Withdrawal|null|null|55.230|11.761|2616038|      Naestved|281.150|1014|  87|   7| 260|0.215|  92| 500|Rain|light rain|\n",
      "|2017|January|  1|Sunday|  0|Inactive|  2|NCR|  Vejgaard| Hadsundvej|  20|9000|57.043| 9.950| DKK|MasterCard|1764|Withdrawal|null|null|57.048| 9.935|2616235|NÃƒÂ¸rresundby|280.640|1020|  93|   9| 250|0.590|  92| 500|Rain|light rain|\n",
      "|2017|January|  1|Sunday|  0|Inactive|  2|NCR|  Vejgaard| Hadsundvej|  20|9000|57.043| 9.950| DKK|      VISA|1891|Withdrawal|null|null|57.048| 9.935|2616235|NÃƒÂ¸rresundby|280.640|1020|  93|   9| 250|0.590|  92| 500|Rain|light rain|\n",
      "+----+-------+---+------+---+--------+---+---+----------+-----------+----+----+------+------+----+----------+----+----------+----+----+------+------+-------+--------------+-------+----+----+----+----+-----+----+----+----+----------+\n",
      "only showing top 3 rows"
     ]
    }
   ],
   "source": [
    "df.show(3)"
   ]
  },
  {
   "cell_type": "code",
   "execution_count": 5,
   "id": "bb4f560a",
   "metadata": {
    "execution": {
     "iopub.execute_input": "2022-02-09T04:32:28.031570Z",
     "iopub.status.busy": "2022-02-09T04:32:28.031317Z",
     "iopub.status.idle": "2022-02-09T04:32:28.254893Z",
     "shell.execute_reply": "2022-02-09T04:32:28.254256Z",
     "shell.execute_reply.started": "2022-02-09T04:32:28.031529Z"
    },
    "tags": []
   },
   "outputs": [
    {
     "data": {
      "application/vnd.jupyter.widget-view+json": {
       "model_id": "ca4a2e0f03f340218285237413a404bc",
       "version_major": 2,
       "version_minor": 0
      },
      "text/plain": [
       "VBox()"
      ]
     },
     "metadata": {},
     "output_type": "display_data"
    },
    {
     "data": {
      "application/vnd.jupyter.widget-view+json": {
       "model_id": "",
       "version_major": 2,
       "version_minor": 0
      },
      "text/plain": [
       "FloatProgress(value=0.0, bar_style='info', description='Progress:', layout=Layout(height='25px', width='50%'),…"
      ]
     },
     "metadata": {},
     "output_type": "display_data"
    },
    {
     "name": "stdout",
     "output_type": "stream",
     "text": [
      "StructType(List(StructField(_c0,StringType,true),StructField(_c1,StringType,true),StructField(_c2,StringType,true),StructField(_c3,StringType,true),StructField(_c4,StringType,true),StructField(_c5,StringType,true),StructField(_c6,StringType,true),StructField(_c7,StringType,true),StructField(_c8,StringType,true),StructField(_c9,StringType,true),StructField(_c10,StringType,true),StructField(_c11,StringType,true),StructField(_c12,StringType,true),StructField(_c13,StringType,true),StructField(_c14,StringType,true),StructField(_c15,StringType,true),StructField(_c16,StringType,true),StructField(_c17,StringType,true),StructField(_c18,StringType,true),StructField(_c19,StringType,true),StructField(_c20,StringType,true),StructField(_c21,StringType,true),StructField(_c22,StringType,true),StructField(_c23,StringType,true),StructField(_c24,StringType,true),StructField(_c25,StringType,true),StructField(_c26,StringType,true),StructField(_c27,StringType,true),StructField(_c28,StringType,true),StructField(_c29,StringType,true),StructField(_c30,StringType,true),StructField(_c31,StringType,true),StructField(_c32,StringType,true),StructField(_c33,StringType,true)))"
     ]
    }
   ],
   "source": [
    "df.schema"
   ]
  },
  {
   "cell_type": "code",
   "execution_count": 6,
   "id": "1cc5e3a4",
   "metadata": {
    "execution": {
     "iopub.execute_input": "2022-02-09T04:32:34.180777Z",
     "iopub.status.busy": "2022-02-09T04:32:34.180536Z",
     "iopub.status.idle": "2022-02-09T04:32:34.359760Z",
     "shell.execute_reply": "2022-02-09T04:32:34.358954Z",
     "shell.execute_reply.started": "2022-02-09T04:32:34.180748Z"
    },
    "tags": []
   },
   "outputs": [
    {
     "data": {
      "application/vnd.jupyter.widget-view+json": {
       "model_id": "b682111ceb204617ad0b8fb099696bf7",
       "version_major": 2,
       "version_minor": 0
      },
      "text/plain": [
       "VBox()"
      ]
     },
     "metadata": {},
     "output_type": "display_data"
    },
    {
     "data": {
      "application/vnd.jupyter.widget-view+json": {
       "model_id": "",
       "version_major": 2,
       "version_minor": 0
      },
      "text/plain": [
       "FloatProgress(value=0.0, bar_style='info', description='Progress:', layout=Layout(height='25px', width='50%'),…"
      ]
     },
     "metadata": {},
     "output_type": "display_data"
    }
   ],
   "source": [
    "from pyspark.sql import SparkSession\n",
    "from pyspark.sql.types import *"
   ]
  },
  {
   "cell_type": "code",
   "execution_count": 7,
   "id": "183f677a",
   "metadata": {
    "execution": {
     "iopub.execute_input": "2022-02-09T04:32:38.292236Z",
     "iopub.status.busy": "2022-02-09T04:32:38.291973Z",
     "iopub.status.idle": "2022-02-09T04:32:38.453919Z",
     "shell.execute_reply": "2022-02-09T04:32:38.453226Z",
     "shell.execute_reply.started": "2022-02-09T04:32:38.292208Z"
    },
    "tags": []
   },
   "outputs": [
    {
     "data": {
      "application/vnd.jupyter.widget-view+json": {
       "model_id": "d814a2ac80a84f5ca2585b2423234d46",
       "version_major": 2,
       "version_minor": 0
      },
      "text/plain": [
       "VBox()"
      ]
     },
     "metadata": {},
     "output_type": "display_data"
    },
    {
     "data": {
      "application/vnd.jupyter.widget-view+json": {
       "model_id": "",
       "version_major": 2,
       "version_minor": 0
      },
      "text/plain": [
       "FloatProgress(value=0.0, bar_style='info', description='Progress:', layout=Layout(height='25px', width='50%'),…"
      ]
     },
     "metadata": {},
     "output_type": "display_data"
    }
   ],
   "source": [
    "fschema = StructType(\n",
    "    [StructField(\"_c0\", IntegerType(),True),\n",
    "    StructField(\"_c1\", StringType(),True),\n",
    "    StructField(\"_c2\", IntegerType(),True),\n",
    "    StructField(\"_c3\", StringType(), True),\n",
    "    StructField(\"_c4\", IntegerType(), True),\n",
    "    StructField(\"_c5\", StringType(), True),\n",
    "    StructField(\"_c6\", StringType(),True),\n",
    "    StructField(\"_c7\", DoubleType(),True),\n",
    "    StructField(\"_c8\", StringType(),True),\n",
    "    StructField(\"_c9\", StringType(), True),\n",
    "    StructField(\"_c10\", IntegerType(), True),\n",
    "    StructField(\"_c11\", IntegerType(), True),\n",
    "    StructField(\"_c12\", DoubleType(),True),\n",
    "    StructField(\"_c13\", DoubleType(),True),\n",
    "    StructField(\"_c14\", StringType(),True),\n",
    "    StructField(\"_c15\", StringType(), True),\n",
    "    StructField(\"_c16\", IntegerType(), True),\n",
    "    StructField(\"_c17\", StringType(), True),\n",
    "    StructField(\"_c18\", StringType(),True),\n",
    "    StructField(\"_c19\", StringType(),True),\n",
    "    StructField(\"_c20\", DoubleType(),True),\n",
    "    StructField(\"_c21\", DoubleType(), True),\n",
    "    StructField(\"_c22\", IntegerType(), True),\n",
    "    StructField(\"_c23\", StringType(), True),\n",
    "    StructField(\"_c24\", DoubleType(), True),\n",
    "    StructField(\"_c25\", IntegerType(),True),\n",
    "    StructField(\"_c26\", IntegerType(),True),\n",
    "    StructField(\"_c27\", IntegerType(),True),\n",
    "    StructField(\"_c28\", IntegerType(),True),\n",
    "    StructField(\"_c29\", DoubleType(), True),\n",
    "    StructField(\"_c30\", IntegerType(), True),\n",
    "    StructField(\"_c31\", IntegerType(), True),\n",
    "    StructField(\"_c32\", StringType(), True),\n",
    "    StructField(\"_c33\", StringType(), True)\n",
    "])"
   ]
  },
  {
   "cell_type": "code",
   "execution_count": 33,
   "id": "255c1a7c",
   "metadata": {},
   "outputs": [
    {
     "data": {
      "application/vnd.jupyter.widget-view+json": {
       "model_id": "a74711049a2b46df8541e48c50ba529f",
       "version_major": 2,
       "version_minor": 0
      },
      "text/plain": [
       "VBox()"
      ]
     },
     "metadata": {},
     "output_type": "display_data"
    },
    {
     "data": {
      "application/vnd.jupyter.widget-view+json": {
       "model_id": "",
       "version_major": 2,
       "version_minor": 0
      },
      "text/plain": [
       "FloatProgress(value=0.0, bar_style='info', description='Progress:', layout=Layout(height='25px', width='50%'),…"
      ]
     },
     "metadata": {},
     "output_type": "display_data"
    },
    {
     "name": "stderr",
     "output_type": "stream",
     "text": [
      "'StructType' object has no attribute 'printSchema'\n",
      "Traceback (most recent call last):\n",
      "AttributeError: 'StructType' object has no attribute 'printSchema'\n",
      "\n"
     ]
    }
   ],
   "source": [
    "fschema.printSchema()"
   ]
  },
  {
   "cell_type": "code",
   "execution_count": 21,
   "id": "c1721777",
   "metadata": {
    "execution": {
     "iopub.execute_input": "2022-02-07T20:03:09.453660Z",
     "iopub.status.busy": "2022-02-07T20:03:09.453383Z",
     "iopub.status.idle": "2022-02-07T20:03:09.701459Z",
     "shell.execute_reply": "2022-02-07T20:03:09.700768Z",
     "shell.execute_reply.started": "2022-02-07T20:03:09.453633Z"
    },
    "tags": []
   },
   "outputs": [
    {
     "data": {
      "application/vnd.jupyter.widget-view+json": {
       "model_id": "be9f08acc1f14d16ba0d062fab5ff846",
       "version_major": 2,
       "version_minor": 0
      },
      "text/plain": [
       "VBox()"
      ]
     },
     "metadata": {},
     "output_type": "display_data"
    },
    {
     "data": {
      "application/vnd.jupyter.widget-view+json": {
       "model_id": "",
       "version_major": 2,
       "version_minor": 0
      },
      "text/plain": [
       "FloatProgress(value=0.0, bar_style='info', description='Progress:', layout=Layout(height='25px', width='50%'),…"
      ]
     },
     "metadata": {},
     "output_type": "display_data"
    }
   ],
   "source": [
    "df2 = spark.read.load(\"part-m-00000\", format=\"csv\", sep=\",\", schema = fschema, header=\"false\")"
   ]
  },
  {
   "cell_type": "code",
   "execution_count": 9,
   "id": "c8fe1f3f",
   "metadata": {
    "execution": {
     "iopub.execute_input": "2022-02-07T18:59:34.793239Z",
     "iopub.status.busy": "2022-02-07T18:59:34.792964Z",
     "iopub.status.idle": "2022-02-07T18:59:44.596229Z",
     "shell.execute_reply": "2022-02-07T18:59:44.595599Z",
     "shell.execute_reply.started": "2022-02-07T18:59:34.793210Z"
    }
   },
   "outputs": [
    {
     "data": {
      "application/vnd.jupyter.widget-view+json": {
       "model_id": "b139b54a1a544e0e975a9fbac46773d1",
       "version_major": 2,
       "version_minor": 0
      },
      "text/plain": [
       "VBox()"
      ]
     },
     "metadata": {},
     "output_type": "display_data"
    },
    {
     "data": {
      "application/vnd.jupyter.widget-view+json": {
       "model_id": "",
       "version_major": 2,
       "version_minor": 0
      },
      "text/plain": [
       "FloatProgress(value=0.0, bar_style='info', description='Progress:', layout=Layout(height='25px', width='50%'),…"
      ]
     },
     "metadata": {},
     "output_type": "display_data"
    },
    {
     "name": "stdout",
     "output_type": "stream",
     "text": [
      "+----+----+----+----+----+----+----+----+----+----+----+----+----+----+----+----+----+----+----+----+----+----+----+----+----+----+----+----+----+----+----+----+----+----+\n",
      "| _c0| _c1| _c2| _c3| _c4| _c5| _c6| _c7| _c8| _c9|_c10|_c11|_c12|_c13|_c14|_c15|_c16|_c17|_c18|_c19|_c20|_c21|_c22|_c23|_c24|_c25|_c26|_c27|_c28|_c29|_c30|_c31|_c32|_c33|\n",
      "+----+----+----+----+----+----+----+----+----+----+----+----+----+----+----+----+----+----+----+----+----+----+----+----+----+----+----+----+----+----+----+----+----+----+\n",
      "|null|null|null|null|null|null|null|null|null|null|null|null|null|null|null|null|null|null|null|null|null|null|null|null|null|null|null|null|null|null|null|null|null|null|\n",
      "|null|null|null|null|null|null|null|null|null|null|null|null|null|null|null|null|null|null|null|null|null|null|null|null|null|null|null|null|null|null|null|null|null|null|\n",
      "|null|null|null|null|null|null|null|null|null|null|null|null|null|null|null|null|null|null|null|null|null|null|null|null|null|null|null|null|null|null|null|null|null|null|\n",
      "+----+----+----+----+----+----+----+----+----+----+----+----+----+----+----+----+----+----+----+----+----+----+----+----+----+----+----+----+----+----+----+----+----+----+\n",
      "only showing top 3 rows"
     ]
    }
   ],
   "source": [
    "df2.show(3)"
   ]
  },
  {
   "cell_type": "code",
   "execution_count": 13,
   "id": "d8430768",
   "metadata": {
    "execution": {
     "iopub.execute_input": "2022-02-07T19:15:55.232342Z",
     "iopub.status.busy": "2022-02-07T19:15:55.232108Z",
     "iopub.status.idle": "2022-02-07T19:15:55.398327Z",
     "shell.execute_reply": "2022-02-07T19:15:55.397490Z",
     "shell.execute_reply.started": "2022-02-07T19:15:55.232317Z"
    }
   },
   "outputs": [
    {
     "data": {
      "application/vnd.jupyter.widget-view+json": {
       "model_id": "46f6cda030d14d7a825c0899c1d56de9",
       "version_major": 2,
       "version_minor": 0
      },
      "text/plain": [
       "VBox()"
      ]
     },
     "metadata": {},
     "output_type": "display_data"
    },
    {
     "data": {
      "application/vnd.jupyter.widget-view+json": {
       "model_id": "",
       "version_major": 2,
       "version_minor": 0
      },
      "text/plain": [
       "FloatProgress(value=0.0, bar_style='info', description='Progress:', layout=Layout(height='25px', width='50%'),…"
      ]
     },
     "metadata": {},
     "output_type": "display_data"
    },
    {
     "name": "stderr",
     "output_type": "stream",
     "text": [
      "data is already a DataFrame\n",
      "Traceback (most recent call last):\n",
      "  File \"/usr/lib/spark/python/lib/pyspark.zip/pyspark/sql/session.py\", line 672, in createDataFrame\n",
      "    raise TypeError(\"data is already a DataFrame\")\n",
      "TypeError: data is already a DataFrame\n",
      "\n"
     ]
    }
   ],
   "source": [
    "df3 = spark.createDataFrame(df, schema = fschema)"
   ]
  },
  {
   "cell_type": "code",
   "execution_count": 8,
   "id": "ec79e53c",
   "metadata": {
    "execution": {
     "iopub.execute_input": "2022-02-09T04:32:52.838624Z",
     "iopub.status.busy": "2022-02-09T04:32:52.838382Z",
     "iopub.status.idle": "2022-02-09T04:32:53.803569Z",
     "shell.execute_reply": "2022-02-09T04:32:53.802911Z",
     "shell.execute_reply.started": "2022-02-09T04:32:52.838597Z"
    },
    "tags": []
   },
   "outputs": [
    {
     "data": {
      "application/vnd.jupyter.widget-view+json": {
       "model_id": "73a757eb7b1a4c499b1293aee94a761f",
       "version_major": 2,
       "version_minor": 0
      },
      "text/plain": [
       "VBox()"
      ]
     },
     "metadata": {},
     "output_type": "display_data"
    },
    {
     "data": {
      "application/vnd.jupyter.widget-view+json": {
       "model_id": "",
       "version_major": 2,
       "version_minor": 0
      },
      "text/plain": [
       "FloatProgress(value=0.0, bar_style='info', description='Progress:', layout=Layout(height='25px', width='50%'),…"
      ]
     },
     "metadata": {},
     "output_type": "display_data"
    }
   ],
   "source": [
    "df = df.withColumn(\"year\", df[\"_c0\"].cast(IntegerType())).drop(\"_c0\").withColumnRenamed(\"year\", \"_c0\")\n",
    "df = df.withColumn(\"day\", df[\"_c2\"].cast(IntegerType())).drop(\"_c2\").withColumnRenamed(\"day\", \"_c2\")\n",
    "df = df.withColumn(\"hour\", df[\"_c4\"].cast(IntegerType())).drop(\"_c4\").withColumnRenamed(\"hour\", \"_c4\")\n",
    "df = df.withColumn(\"atm_street_number\", df[\"_c7\"].cast(DoubleType())).drop(\"_c7\").withColumnRenamed(\"atm_street_number\", \"_c7\")\n",
    "df = df.withColumn(\"atm_street_number\", df[\"_c10\"].cast(IntegerType())).drop(\"_c10\").withColumnRenamed(\"atm_street_number\", \"_c10\")\n",
    "df = df.withColumn(\"atm_zipcode\", df[\"_c11\"].cast(IntegerType())).drop(\"_c11\").withColumnRenamed(\"atm_zipcode\", \"_c11\")\n",
    "df = df.withColumn(\"atm_lat\", df[\"_c12\"].cast(DoubleType())).drop(\"_c12\").withColumnRenamed(\"atm_lat\", \"_c12\")\n",
    "df = df.withColumn(\"atm_lon\", df[\"_c13\"].cast(DoubleType())).drop(\"_c13\").withColumnRenamed(\"atm_lon\", \"_c13\")\n",
    "df = df.withColumn(\"transaction_amount\", df[\"_c16\"].cast(IntegerType())).drop(\"_c16\").withColumnRenamed(\"transaction_amount\", \"_c16\")\n",
    "df = df.withColumn(\"weather_lat\", df[\"_c20\"].cast(DoubleType())).drop(\"_c20\").withColumnRenamed(\"weather_lat\", \"_c20\")\n",
    "df = df.withColumn(\"weather_lon\", df[\"_c21\"].cast(DoubleType())).drop(\"_c21\").withColumnRenamed(\"weather_lon\", \"_c21\")\n",
    "df = df.withColumn(\"weather_city_id\", df[\"_c22\"].cast(IntegerType())).drop(\"_c22\").withColumnRenamed(\"weather_city_id\", \"_c22\")\n",
    "df = df.withColumn(\"teamp\", df[\"_c24\"].cast(DoubleType())).drop(\"_c24\").withColumnRenamed(\"temp\", \"_c24\")\n",
    "df = df.withColumn(\"pressure\", df[\"_c25\"].cast(DoubleType())).drop(\"_c25\").withColumnRenamed(\"pressure\", \"_c25\")\n",
    "df = df.withColumn(\"humidity\", df[\"_c26\"].cast(IntegerType())).drop(\"_c26\").withColumnRenamed(\"humidity\", \"_c26\")\n",
    "df = df.withColumn(\"wind_speed\", df[\"_c27\"].cast(IntegerType())).drop(\"_c27\").withColumnRenamed(\"wind_speed\", \"_c27\")\n",
    "df = df.withColumn(\"wind_deg\", df[\"_c28\"].cast(IntegerType())).drop(\"_c28\").withColumnRenamed(\"wind_deg\", \"_c28\")\n",
    "df = df.withColumn(\"rain_3h\", df[\"_c29\"].cast(IntegerType())).drop(\"_c29\").withColumnRenamed(\"rain_3h\", \"_c29\")\n",
    "df = df.withColumn(\"clouds_all\", df[\"_c30\"].cast(IntegerType())).drop(\"_c30\").withColumnRenamed(\"clouds_all\", \"_c30\")\n",
    "df = df.withColumn(\"weather_id\", df[\"_c31\"].cast(IntegerType())).drop(\"_c31\").withColumnRenamed(\"weather_id\", \"_c31\")"
   ]
  },
  {
   "cell_type": "code",
   "execution_count": 9,
   "id": "046d1454",
   "metadata": {
    "execution": {
     "iopub.execute_input": "2022-02-09T04:32:59.227674Z",
     "iopub.status.busy": "2022-02-09T04:32:59.227371Z",
     "iopub.status.idle": "2022-02-09T04:32:59.451656Z",
     "shell.execute_reply": "2022-02-09T04:32:59.450734Z",
     "shell.execute_reply.started": "2022-02-09T04:32:59.227646Z"
    },
    "tags": []
   },
   "outputs": [
    {
     "data": {
      "application/vnd.jupyter.widget-view+json": {
       "model_id": "bbaa3c6657d94b22bc1705b5ac180ddd",
       "version_major": 2,
       "version_minor": 0
      },
      "text/plain": [
       "VBox()"
      ]
     },
     "metadata": {},
     "output_type": "display_data"
    },
    {
     "data": {
      "application/vnd.jupyter.widget-view+json": {
       "model_id": "",
       "version_major": 2,
       "version_minor": 0
      },
      "text/plain": [
       "FloatProgress(value=0.0, bar_style='info', description='Progress:', layout=Layout(height='25px', width='50%'),…"
      ]
     },
     "metadata": {},
     "output_type": "display_data"
    },
    {
     "name": "stdout",
     "output_type": "stream",
     "text": [
      "root\n",
      " |-- _c1: string (nullable = true)\n",
      " |-- _c3: string (nullable = true)\n",
      " |-- _c5: string (nullable = true)\n",
      " |-- _c6: string (nullable = true)\n",
      " |-- _c8: string (nullable = true)\n",
      " |-- _c9: string (nullable = true)\n",
      " |-- _c14: string (nullable = true)\n",
      " |-- _c15: string (nullable = true)\n",
      " |-- _c17: string (nullable = true)\n",
      " |-- _c18: string (nullable = true)\n",
      " |-- _c19: string (nullable = true)\n",
      " |-- _c23: string (nullable = true)\n",
      " |-- _c32: string (nullable = true)\n",
      " |-- _c33: string (nullable = true)\n",
      " |-- _c0: integer (nullable = true)\n",
      " |-- _c2: integer (nullable = true)\n",
      " |-- _c4: integer (nullable = true)\n",
      " |-- _c7: double (nullable = true)\n",
      " |-- _c10: integer (nullable = true)\n",
      " |-- _c11: integer (nullable = true)\n",
      " |-- _c12: double (nullable = true)\n",
      " |-- _c13: double (nullable = true)\n",
      " |-- _c16: integer (nullable = true)\n",
      " |-- _c20: double (nullable = true)\n",
      " |-- _c21: double (nullable = true)\n",
      " |-- _c22: integer (nullable = true)\n",
      " |-- teamp: double (nullable = true)\n",
      " |-- _c25: double (nullable = true)\n",
      " |-- _c26: integer (nullable = true)\n",
      " |-- _c27: integer (nullable = true)\n",
      " |-- _c28: integer (nullable = true)\n",
      " |-- _c29: integer (nullable = true)\n",
      " |-- _c30: integer (nullable = true)\n",
      " |-- _c31: integer (nullable = true)"
     ]
    }
   ],
   "source": [
    "df.printSchema()"
   ]
  },
  {
   "cell_type": "code",
   "execution_count": 41,
   "id": "e12f2994",
   "metadata": {
    "execution": {
     "iopub.execute_input": "2022-02-07T21:20:50.576538Z",
     "iopub.status.busy": "2022-02-07T21:20:50.576303Z",
     "iopub.status.idle": "2022-02-07T21:20:50.783863Z",
     "shell.execute_reply": "2022-02-07T21:20:50.782995Z",
     "shell.execute_reply.started": "2022-02-07T21:20:50.576511Z"
    },
    "tags": []
   },
   "outputs": [
    {
     "data": {
      "application/vnd.jupyter.widget-view+json": {
       "model_id": "594c1661e0544d45805d1b3a28f9ea6f",
       "version_major": 2,
       "version_minor": 0
      },
      "text/plain": [
       "VBox()"
      ]
     },
     "metadata": {},
     "output_type": "display_data"
    },
    {
     "data": {
      "application/vnd.jupyter.widget-view+json": {
       "model_id": "",
       "version_major": 2,
       "version_minor": 0
      },
      "text/plain": [
       "FloatProgress(value=0.0, bar_style='info', description='Progress:', layout=Layout(height='25px', width='50%'),…"
      ]
     },
     "metadata": {},
     "output_type": "display_data"
    },
    {
     "name": "stdout",
     "output_type": "stream",
     "text": [
      "root\n",
      " |-- _c1: string (nullable = true)\n",
      " |-- _c3: string (nullable = true)\n",
      " |-- _c5: string (nullable = true)\n",
      " |-- _c6: string (nullable = true)\n",
      " |-- _c8: string (nullable = true)\n",
      " |-- _c9: string (nullable = true)\n",
      " |-- _c14: string (nullable = true)\n",
      " |-- _c15: string (nullable = true)\n",
      " |-- _c17: string (nullable = true)\n",
      " |-- _c18: string (nullable = true)\n",
      " |-- _c19: string (nullable = true)\n",
      " |-- _c23: string (nullable = true)\n",
      " |-- _c32: string (nullable = true)\n",
      " |-- _c33: string (nullable = true)\n",
      " |-- year: integer (nullable = true)\n",
      " |-- _c2: integer (nullable = true)\n",
      " |-- _c4: integer (nullable = true)\n",
      " |-- _c7: double (nullable = true)\n",
      " |-- _c10: integer (nullable = true)\n",
      " |-- _c11: integer (nullable = true)\n",
      " |-- _c12: double (nullable = true)\n",
      " |-- _c13: double (nullable = true)\n",
      " |-- _c16: integer (nullable = true)\n",
      " |-- _c20: double (nullable = true)\n",
      " |-- _c21: double (nullable = true)\n",
      " |-- _c22: integer (nullable = true)\n",
      " |-- teamp: double (nullable = true)\n",
      " |-- _c25: double (nullable = true)\n",
      " |-- _c26: integer (nullable = true)\n",
      " |-- _c27: integer (nullable = true)\n",
      " |-- _c28: integer (nullable = true)\n",
      " |-- _c29: integer (nullable = true)\n",
      " |-- _c30: integer (nullable = true)\n",
      " |-- _c31: integer (nullable = true)"
     ]
    }
   ],
   "source": [
    "df.withColumnRenamed(\"_c0\",\"year\").printSchema()"
   ]
  },
  {
   "cell_type": "code",
   "execution_count": 42,
   "id": "d63d0d11-a9a6-427d-a8a9-343f44ccbb48",
   "metadata": {
    "execution": {
     "iopub.execute_input": "2022-02-07T21:21:31.319597Z",
     "iopub.status.busy": "2022-02-07T21:21:31.319335Z",
     "iopub.status.idle": "2022-02-07T21:21:43.012359Z",
     "shell.execute_reply": "2022-02-07T21:21:43.011581Z",
     "shell.execute_reply.started": "2022-02-07T21:21:31.319569Z"
    }
   },
   "outputs": [
    {
     "data": {
      "application/vnd.jupyter.widget-view+json": {
       "model_id": "0b40b03e2bfe4818ae35fc36168d143f",
       "version_major": 2,
       "version_minor": 0
      },
      "text/plain": [
       "VBox()"
      ]
     },
     "metadata": {},
     "output_type": "display_data"
    },
    {
     "data": {
      "application/vnd.jupyter.widget-view+json": {
       "model_id": "",
       "version_major": 2,
       "version_minor": 0
      },
      "text/plain": [
       "FloatProgress(value=0.0, bar_style='info', description='Progress:', layout=Layout(height='25px', width='50%'),…"
      ]
     },
     "metadata": {},
     "output_type": "display_data"
    },
    {
     "name": "stdout",
     "output_type": "stream",
     "text": [
      "+-------+------+--------+---+----------+-----------+----+----------+----------+----+----+--------------+----+----------+----+---+---+----+----+----+------+------+----+------+------+-------+------+------+----+----+----+----+----+----+\n",
      "|    _c1|   _c3|     _c5|_c6|       _c8|        _c9|_c14|      _c15|      _c17|_c18|_c19|          _c23|_c32|      _c33| _c0|_c2|_c4| _c7|_c10|_c11|  _c12|  _c13|_c16|  _c20|  _c21|   _c22| teamp|  _c25|_c26|_c27|_c28|_c29|_c30|_c31|\n",
      "+-------+------+--------+---+----------+-----------+----+----------+----------+----+----+--------------+----+----------+----+---+---+----+----+----+------+------+----+------+------+-------+------+------+----+----+----+----+----+----+\n",
      "|January|Sunday|  Active|  1|NÃƒÂ¦stved|Farimagsvej| DKK|MasterCard|Withdrawal|null|null|      Naestved|Rain|light rain|2017|  1|  0|null|   8|4700|55.233|11.763|5643| 55.23|11.761|2616038|281.15|1014.0|  87|   7| 260|   0|  92| 500|\n",
      "|January|Sunday|Inactive|  2|  Vejgaard| Hadsundvej| DKK|MasterCard|Withdrawal|null|null|NÃƒÂ¸rresundby|Rain|light rain|2017|  1|  0|null|  20|9000|57.043|  9.95|1764|57.048| 9.935|2616235|280.64|1020.0|  93|   9| 250|   0|  92| 500|\n",
      "|January|Sunday|Inactive|  2|  Vejgaard| Hadsundvej| DKK|      VISA|Withdrawal|null|null|NÃƒÂ¸rresundby|Rain|light rain|2017|  1|  0|null|  20|9000|57.043|  9.95|1891|57.048| 9.935|2616235|280.64|1020.0|  93|   9| 250|   0|  92| 500|\n",
      "+-------+------+--------+---+----------+-----------+----+----------+----------+----+----+--------------+----+----------+----+---+---+----+----+----+------+------+----+------+------+-------+------+------+----+----+----+----+----+----+\n",
      "only showing top 3 rows"
     ]
    }
   ],
   "source": [
    "df.show(3)"
   ]
  },
  {
   "cell_type": "code",
   "execution_count": 43,
   "id": "e32276a7-21ad-44a1-b588-e886ee9a5cdb",
   "metadata": {
    "execution": {
     "iopub.execute_input": "2022-02-07T21:32:39.941088Z",
     "iopub.status.busy": "2022-02-07T21:32:39.940847Z",
     "iopub.status.idle": "2022-02-07T21:32:40.325876Z",
     "shell.execute_reply": "2022-02-07T21:32:40.325188Z",
     "shell.execute_reply.started": "2022-02-07T21:32:39.941061Z"
    }
   },
   "outputs": [
    {
     "data": {
      "application/vnd.jupyter.widget-view+json": {
       "model_id": "db96d716c4da40239a9b9a1598f4124b",
       "version_major": 2,
       "version_minor": 0
      },
      "text/plain": [
       "VBox()"
      ]
     },
     "metadata": {},
     "output_type": "display_data"
    },
    {
     "data": {
      "application/vnd.jupyter.widget-view+json": {
       "model_id": "",
       "version_major": 2,
       "version_minor": 0
      },
      "text/plain": [
       "FloatProgress(value=0.0, bar_style='info', description='Progress:', layout=Layout(height='25px', width='50%'),…"
      ]
     },
     "metadata": {},
     "output_type": "display_data"
    },
    {
     "name": "stdout",
     "output_type": "stream",
     "text": [
      "DataFrame[_c1: string, _c3: string, _c5: string, _c6: string, _c8: string, _c9: string, _c14: string, _c15: string, _c17: string, _c18: string, _c19: string, _c23: string, _c32: string, weather_description: string, _c0: int, _c2: int, _c4: int, _c7: double, _c10: int, _c11: int, _c12: double, _c13: double, _c16: int, _c20: double, _c21: double, _c22: int, teamp: double, _c25: double, _c26: int, _c27: int, _c28: int, _c29: int, _c30: int, _c31: int]"
     ]
    }
   ],
   "source": [
    "df.withColumnRenamed(\"_c1\",\"month\")\n",
    "df.withColumnRenamed(\"_c2\",\"day\")\n",
    "df.withColumnRenamed(\"_c3\",\"weekday\")\n",
    "df.withColumnRenamed(\"_c4\",\"hour\")\n",
    "df.withColumnRenamed(\"_c5\",\"atm_status\")\n",
    "df.withColumnRenamed(\"_c6\",\"atm_id\")\n",
    "df.withColumnRenamed(\"_c7\",\"atm_manufacturer\")\n",
    "df.withColumnRenamed(\"_c8\",\"atm_location\")\n",
    "df.withColumnRenamed(\"_c9\",\"atm_streetname\")\n",
    "df.withColumnRenamed(\"_c10\",\"atm_street_number\")\n",
    "df.withColumnRenamed(\"_c11\",\"atm_zipcode\")\n",
    "df.withColumnRenamed(\"_c12\",\"atm_lat\")\n",
    "df.withColumnRenamed(\"_c13\",\"atm_lon\")\n",
    "df.withColumnRenamed(\"_c14\",\"currency\")\n",
    "df.withColumnRenamed(\"_c15\",\"card_type\")\n",
    "df.withColumnRenamed(\"_c16\",\"transaction_amount\")\n",
    "df.withColumnRenamed(\"_c17\",\"service\")\n",
    "df.withColumnRenamed(\"_c18\",\"message_code\")\n",
    "df.withColumnRenamed(\"_c19\",\"message_text\")\n",
    "df.withColumnRenamed(\"_c20\",\"weather_lat\")\n",
    "df.withColumnRenamed(\"_c21\",\"weather_lon\")\n",
    "df.withColumnRenamed(\"_c22\",\"weather_city_id\")\n",
    "df.withColumnRenamed(\"_c23\",\"weather_city_name\")\n",
    "df.withColumnRenamed(\"teamp\",\"temp\")\n",
    "df.withColumnRenamed(\"_c25\",\"pressure\")\n",
    "df.withColumnRenamed(\"_c26\",\"humidity\")\n",
    "df.withColumnRenamed(\"_c27\",\"wind_speed\")\n",
    "df.withColumnRenamed(\"_c28\",\"wind_deg\")\n",
    "df.withColumnRenamed(\"_c29\",\"rain_3h\")\n",
    "df.withColumnRenamed(\"_c30\",\"clouds_all\")\n",
    "df.withColumnRenamed(\"_c31\",\"weather_id\")\n",
    "df.withColumnRenamed(\"_c32\",\"weather_main\")\n",
    "df.withColumnRenamed(\"_c33\",\"weather_description\")"
   ]
  },
  {
   "cell_type": "code",
   "execution_count": 44,
   "id": "0a403011-3b10-43ed-b04e-b25e16bcf038",
   "metadata": {
    "execution": {
     "iopub.execute_input": "2022-02-07T21:32:58.314698Z",
     "iopub.status.busy": "2022-02-07T21:32:58.314387Z",
     "iopub.status.idle": "2022-02-07T21:32:58.495463Z",
     "shell.execute_reply": "2022-02-07T21:32:58.494754Z",
     "shell.execute_reply.started": "2022-02-07T21:32:58.314670Z"
    }
   },
   "outputs": [
    {
     "data": {
      "application/vnd.jupyter.widget-view+json": {
       "model_id": "832dad2af38d469ab613a740e302539d",
       "version_major": 2,
       "version_minor": 0
      },
      "text/plain": [
       "VBox()"
      ]
     },
     "metadata": {},
     "output_type": "display_data"
    },
    {
     "data": {
      "application/vnd.jupyter.widget-view+json": {
       "model_id": "",
       "version_major": 2,
       "version_minor": 0
      },
      "text/plain": [
       "FloatProgress(value=0.0, bar_style='info', description='Progress:', layout=Layout(height='25px', width='50%'),…"
      ]
     },
     "metadata": {},
     "output_type": "display_data"
    },
    {
     "name": "stdout",
     "output_type": "stream",
     "text": [
      "root\n",
      " |-- _c1: string (nullable = true)\n",
      " |-- _c3: string (nullable = true)\n",
      " |-- _c5: string (nullable = true)\n",
      " |-- _c6: string (nullable = true)\n",
      " |-- _c8: string (nullable = true)\n",
      " |-- _c9: string (nullable = true)\n",
      " |-- _c14: string (nullable = true)\n",
      " |-- _c15: string (nullable = true)\n",
      " |-- _c17: string (nullable = true)\n",
      " |-- _c18: string (nullable = true)\n",
      " |-- _c19: string (nullable = true)\n",
      " |-- _c23: string (nullable = true)\n",
      " |-- _c32: string (nullable = true)\n",
      " |-- _c33: string (nullable = true)\n",
      " |-- _c0: integer (nullable = true)\n",
      " |-- _c2: integer (nullable = true)\n",
      " |-- _c4: integer (nullable = true)\n",
      " |-- _c7: double (nullable = true)\n",
      " |-- _c10: integer (nullable = true)\n",
      " |-- _c11: integer (nullable = true)\n",
      " |-- _c12: double (nullable = true)\n",
      " |-- _c13: double (nullable = true)\n",
      " |-- _c16: integer (nullable = true)\n",
      " |-- _c20: double (nullable = true)\n",
      " |-- _c21: double (nullable = true)\n",
      " |-- _c22: integer (nullable = true)\n",
      " |-- teamp: double (nullable = true)\n",
      " |-- _c25: double (nullable = true)\n",
      " |-- _c26: integer (nullable = true)\n",
      " |-- _c27: integer (nullable = true)\n",
      " |-- _c28: integer (nullable = true)\n",
      " |-- _c29: integer (nullable = true)\n",
      " |-- _c30: integer (nullable = true)\n",
      " |-- _c31: integer (nullable = true)"
     ]
    }
   ],
   "source": [
    "df.printSchema()"
   ]
  },
  {
   "cell_type": "code",
   "execution_count": null,
   "id": "e4556923-aca9-4bc6-9ff7-fc16a5c4de4a",
   "metadata": {},
   "outputs": [],
   "source": [
    "new_col_names = ['A', 'colB', 'C', 'colD']\n",
    "df = df.toDF(*new_col_names)"
   ]
  },
  {
   "cell_type": "code",
   "execution_count": 10,
   "id": "35809f4c-fd14-4172-9a4d-c04eaabf11af",
   "metadata": {
    "execution": {
     "iopub.execute_input": "2022-02-09T04:38:21.652849Z",
     "iopub.status.busy": "2022-02-09T04:38:21.652471Z",
     "iopub.status.idle": "2022-02-09T04:38:21.850936Z",
     "shell.execute_reply": "2022-02-09T04:38:21.850180Z",
     "shell.execute_reply.started": "2022-02-09T04:38:21.652817Z"
    }
   },
   "outputs": [
    {
     "data": {
      "application/vnd.jupyter.widget-view+json": {
       "model_id": "1d9157c24d1c40ac85c0f9b2e09ddfe2",
       "version_major": 2,
       "version_minor": 0
      },
      "text/plain": [
       "VBox()"
      ]
     },
     "metadata": {},
     "output_type": "display_data"
    },
    {
     "data": {
      "application/vnd.jupyter.widget-view+json": {
       "model_id": "",
       "version_major": 2,
       "version_minor": 0
      },
      "text/plain": [
       "FloatProgress(value=0.0, bar_style='info', description='Progress:', layout=Layout(height='25px', width='50%'),…"
      ]
     },
     "metadata": {},
     "output_type": "display_data"
    },
    {
     "name": "stderr",
     "output_type": "stream",
     "text": [
      "name 'col' is not defined\n",
      "Traceback (most recent call last):\n",
      "NameError: name 'col' is not defined\n",
      "\n"
     ]
    }
   ],
   "source": [
    "df.select(col(\"_c0\").cast(fsceham))"
   ]
  },
  {
   "cell_type": "code",
   "execution_count": 14,
   "id": "56cb42da-6f35-4207-af02-6889954de6f7",
   "metadata": {
    "execution": {
     "iopub.execute_input": "2022-02-09T04:51:08.687491Z",
     "iopub.status.busy": "2022-02-09T04:51:08.687257Z",
     "iopub.status.idle": "2022-02-09T04:51:09.093842Z",
     "shell.execute_reply": "2022-02-09T04:51:09.093121Z",
     "shell.execute_reply.started": "2022-02-09T04:51:08.687463Z"
    },
    "tags": []
   },
   "outputs": [
    {
     "data": {
      "application/vnd.jupyter.widget-view+json": {
       "model_id": "a07ac4dbf1a84f9088f202c821b877a9",
       "version_major": 2,
       "version_minor": 0
      },
      "text/plain": [
       "VBox()"
      ]
     },
     "metadata": {},
     "output_type": "display_data"
    },
    {
     "data": {
      "application/vnd.jupyter.widget-view+json": {
       "model_id": "",
       "version_major": 2,
       "version_minor": 0
      },
      "text/plain": [
       "FloatProgress(value=0.0, bar_style='info', description='Progress:', layout=Layout(height='25px', width='50%'),…"
      ]
     },
     "metadata": {},
     "output_type": "display_data"
    }
   ],
   "source": [
    "df2 = df.withColumnRenamed(\"_c0\",\"year\") \\\n",
    "    .withColumnRenamed(\"_c1\",\"month\") \\\n",
    "    .withColumnRenamed(\"_c2\",\"day\") \\\n",
    "    .withColumnRenamed(\"_c3\",\"weekday\") \\\n",
    "    .withColumnRenamed(\"_c4\",\"hour\") \\\n",
    "    .withColumnRenamed(\"_c5\",\"atm_status\") \\\n",
    "    .withColumnRenamed(\"_c6\",\"atm_id\") \\\n",
    "    .withColumnRenamed(\"_c7\",\"atm_manufacturer\") \\\n",
    "    .withColumnRenamed(\"_c8\",\"atm_location\") \\\n",
    "    .withColumnRenamed(\"_c9\",\"atm_streetname\") \\\n",
    "    .withColumnRenamed(\"_c10\",\"atm_street_number\") \\\n",
    "    .withColumnRenamed(\"_c11\",\"atm_zipcode\") \\\n",
    "    .withColumnRenamed(\"_c12\",\"atm_lat\") \\\n",
    "    .withColumnRenamed(\"_c13\",\"atm_lon\") \\\n",
    "    .withColumnRenamed(\"_c14\",\"currency\") \\\n",
    "    .withColumnRenamed(\"_c15\",\"card_type\") \\\n",
    "    .withColumnRenamed(\"_c16\",\"transaction_amount\") \\\n",
    "    .withColumnRenamed(\"_c17\",\"service\") \\\n",
    "    .withColumnRenamed(\"_c18\",\"message_code\") \\\n",
    "    .withColumnRenamed(\"_c19\",\"message_text\") \\\n",
    "    .withColumnRenamed(\"_c20\",\"weather_lat\") \\\n",
    "    .withColumnRenamed(\"_c21\",\"weather_lon\") \\\n",
    "    .withColumnRenamed(\"_c22\",\"weather_city_id\") \\\n",
    "    .withColumnRenamed(\"_c23\",\"weather_city_name\") \\\n",
    "    .withColumnRenamed(\"teamp\",\"temp\") \\\n",
    "    .withColumnRenamed(\"_c25\",\"pressure\") \\\n",
    "    .withColumnRenamed(\"_c26\",\"humidity\") \\\n",
    "    .withColumnRenamed(\"_c27\",\"wind_speed\") \\\n",
    "    .withColumnRenamed(\"_c28\",\"wind_deg\") \\\n",
    "    .withColumnRenamed(\"_c29\",\"rain_3h\") \\\n",
    "    .withColumnRenamed(\"_c30\",\"clouds_all\") \\\n",
    "    .withColumnRenamed(\"_c31\",\"weather_id\") \\\n",
    "    .withColumnRenamed(\"_c32\",\"weather_main\") \\\n",
    "    .withColumnRenamed(\"_c33\",\"weather_description\")"
   ]
  },
  {
   "cell_type": "code",
   "execution_count": 15,
   "id": "fa7542ed-9b1f-49fb-a420-c4d8a6cf7ee8",
   "metadata": {
    "execution": {
     "iopub.execute_input": "2022-02-09T04:51:12.898153Z",
     "iopub.status.busy": "2022-02-09T04:51:12.897907Z",
     "iopub.status.idle": "2022-02-09T04:51:13.063364Z",
     "shell.execute_reply": "2022-02-09T04:51:13.062725Z",
     "shell.execute_reply.started": "2022-02-09T04:51:12.898124Z"
    },
    "tags": []
   },
   "outputs": [
    {
     "data": {
      "application/vnd.jupyter.widget-view+json": {
       "model_id": "c148797116e740d3848be143805eda97",
       "version_major": 2,
       "version_minor": 0
      },
      "text/plain": [
       "VBox()"
      ]
     },
     "metadata": {},
     "output_type": "display_data"
    },
    {
     "data": {
      "application/vnd.jupyter.widget-view+json": {
       "model_id": "",
       "version_major": 2,
       "version_minor": 0
      },
      "text/plain": [
       "FloatProgress(value=0.0, bar_style='info', description='Progress:', layout=Layout(height='25px', width='50%'),…"
      ]
     },
     "metadata": {},
     "output_type": "display_data"
    },
    {
     "name": "stdout",
     "output_type": "stream",
     "text": [
      "root\n",
      " |-- month: string (nullable = true)\n",
      " |-- weekday: string (nullable = true)\n",
      " |-- atm_status: string (nullable = true)\n",
      " |-- atm_id: string (nullable = true)\n",
      " |-- atm_location: string (nullable = true)\n",
      " |-- atm_streetname: string (nullable = true)\n",
      " |-- currency: string (nullable = true)\n",
      " |-- card_type: string (nullable = true)\n",
      " |-- service: string (nullable = true)\n",
      " |-- message_code: string (nullable = true)\n",
      " |-- message_text: string (nullable = true)\n",
      " |-- weather_city_name: string (nullable = true)\n",
      " |-- weather_main: string (nullable = true)\n",
      " |-- weather_description: string (nullable = true)\n",
      " |-- year: integer (nullable = true)\n",
      " |-- day: integer (nullable = true)\n",
      " |-- hour: integer (nullable = true)\n",
      " |-- atm_manufacturer: double (nullable = true)\n",
      " |-- atm_street_number: integer (nullable = true)\n",
      " |-- atm_zipcode: integer (nullable = true)\n",
      " |-- atm_lat: double (nullable = true)\n",
      " |-- atm_lon: double (nullable = true)\n",
      " |-- transaction_amount: integer (nullable = true)\n",
      " |-- weather_lat: double (nullable = true)\n",
      " |-- weather_lon: double (nullable = true)\n",
      " |-- weather_city_id: integer (nullable = true)\n",
      " |-- temp: double (nullable = true)\n",
      " |-- pressure: double (nullable = true)\n",
      " |-- humidity: integer (nullable = true)\n",
      " |-- wind_speed: integer (nullable = true)\n",
      " |-- wind_deg: integer (nullable = true)\n",
      " |-- rain_3h: integer (nullable = true)\n",
      " |-- clouds_all: integer (nullable = true)\n",
      " |-- weather_id: integer (nullable = true)"
     ]
    }
   ],
   "source": [
    "df2.printSchema()"
   ]
  },
  {
   "cell_type": "code",
   "execution_count": 16,
   "id": "c5049167-3087-49e4-b6d3-ee8f618374d2",
   "metadata": {
    "execution": {
     "iopub.execute_input": "2022-02-09T04:51:26.428734Z",
     "iopub.status.busy": "2022-02-09T04:51:26.428486Z",
     "iopub.status.idle": "2022-02-09T04:51:38.298135Z",
     "shell.execute_reply": "2022-02-09T04:51:38.297338Z",
     "shell.execute_reply.started": "2022-02-09T04:51:26.428705Z"
    }
   },
   "outputs": [
    {
     "data": {
      "application/vnd.jupyter.widget-view+json": {
       "model_id": "8f38cedc04a0420c9b147c6068ad9617",
       "version_major": 2,
       "version_minor": 0
      },
      "text/plain": [
       "VBox()"
      ]
     },
     "metadata": {},
     "output_type": "display_data"
    },
    {
     "data": {
      "application/vnd.jupyter.widget-view+json": {
       "model_id": "",
       "version_major": 2,
       "version_minor": 0
      },
      "text/plain": [
       "FloatProgress(value=0.0, bar_style='info', description='Progress:', layout=Layout(height='25px', width='50%'),…"
      ]
     },
     "metadata": {},
     "output_type": "display_data"
    },
    {
     "name": "stdout",
     "output_type": "stream",
     "text": [
      "+-------+-------+----------+------+------------+--------------+--------+----------+----------+------------+------------+-----------------+------------+-------------------+----+---+----+----------------+-----------------+-----------+-------+-------+------------------+-----------+-----------+---------------+------+--------+--------+----------+--------+-------+----------+----------+\n",
      "|  month|weekday|atm_status|atm_id|atm_location|atm_streetname|currency| card_type|   service|message_code|message_text|weather_city_name|weather_main|weather_description|year|day|hour|atm_manufacturer|atm_street_number|atm_zipcode|atm_lat|atm_lon|transaction_amount|weather_lat|weather_lon|weather_city_id|  temp|pressure|humidity|wind_speed|wind_deg|rain_3h|clouds_all|weather_id|\n",
      "+-------+-------+----------+------+------------+--------------+--------+----------+----------+------------+------------+-----------------+------------+-------------------+----+---+----+----------------+-----------------+-----------+-------+-------+------------------+-----------+-----------+---------------+------+--------+--------+----------+--------+-------+----------+----------+\n",
      "|January| Sunday|    Active|     1|  NÃƒÂ¦stved|   Farimagsvej|     DKK|MasterCard|Withdrawal|        null|        null|         Naestved|        Rain|         light rain|2017|  1|   0|            null|                8|       4700| 55.233| 11.763|              5643|      55.23|     11.761|        2616038|281.15|  1014.0|      87|         7|     260|      0|        92|       500|\n",
      "|January| Sunday|  Inactive|     2|    Vejgaard|    Hadsundvej|     DKK|MasterCard|Withdrawal|        null|        null|   NÃƒÂ¸rresundby|        Rain|         light rain|2017|  1|   0|            null|               20|       9000| 57.043|   9.95|              1764|     57.048|      9.935|        2616235|280.64|  1020.0|      93|         9|     250|      0|        92|       500|\n",
      "|January| Sunday|  Inactive|     2|    Vejgaard|    Hadsundvej|     DKK|      VISA|Withdrawal|        null|        null|   NÃƒÂ¸rresundby|        Rain|         light rain|2017|  1|   0|            null|               20|       9000| 57.043|   9.95|              1891|     57.048|      9.935|        2616235|280.64|  1020.0|      93|         9|     250|      0|        92|       500|\n",
      "+-------+-------+----------+------+------------+--------------+--------+----------+----------+------------+------------+-----------------+------------+-------------------+----+---+----+----------------+-----------------+-----------+-------+-------+------------------+-----------+-----------+---------------+------+--------+--------+----------+--------+-------+----------+----------+\n",
      "only showing top 3 rows"
     ]
    }
   ],
   "source": [
    "df2.show(3)"
   ]
  },
  {
   "cell_type": "code",
   "execution_count": 18,
   "id": "27a1b2c4-fa04-49a7-86be-f6aa6c9ab2c9",
   "metadata": {
    "execution": {
     "iopub.execute_input": "2022-02-09T04:59:28.382303Z",
     "iopub.status.busy": "2022-02-09T04:59:28.382058Z",
     "iopub.status.idle": "2022-02-09T04:59:38.233481Z",
     "shell.execute_reply": "2022-02-09T04:59:38.231765Z",
     "shell.execute_reply.started": "2022-02-09T04:59:28.382274Z"
    },
    "tags": []
   },
   "outputs": [
    {
     "data": {
      "application/vnd.jupyter.widget-view+json": {
       "model_id": "be665947de754ac88bcb1d04dc11d8ef",
       "version_major": 2,
       "version_minor": 0
      },
      "text/plain": [
       "VBox()"
      ]
     },
     "metadata": {},
     "output_type": "display_data"
    },
    {
     "data": {
      "application/vnd.jupyter.widget-view+json": {
       "model_id": "",
       "version_major": 2,
       "version_minor": 0
      },
      "text/plain": [
       "FloatProgress(value=0.0, bar_style='info', description='Progress:', layout=Layout(height='25px', width='50%'),…"
      ]
     },
     "metadata": {},
     "output_type": "display_data"
    },
    {
     "name": "stdout",
     "output_type": "stream",
     "text": [
      "12"
     ]
    }
   ],
   "source": [
    "df2.select(\"month\").distinct().count()"
   ]
  },
  {
   "cell_type": "code",
   "execution_count": 19,
   "id": "64a0d0ae-b8ed-46ab-a2ac-d16e8614c176",
   "metadata": {
    "execution": {
     "iopub.execute_input": "2022-02-09T05:21:32.043646Z",
     "iopub.status.busy": "2022-02-09T05:21:32.043317Z",
     "iopub.status.idle": "2022-02-09T05:21:32.477500Z",
     "shell.execute_reply": "2022-02-09T05:21:32.476567Z",
     "shell.execute_reply.started": "2022-02-09T05:21:32.043614Z"
    }
   },
   "outputs": [
    {
     "data": {
      "application/vnd.jupyter.widget-view+json": {
       "model_id": "a9b9d90cdf9b4e1b879465a1c42bc306",
       "version_major": 2,
       "version_minor": 0
      },
      "text/plain": [
       "VBox()"
      ]
     },
     "metadata": {},
     "output_type": "display_data"
    },
    {
     "data": {
      "application/vnd.jupyter.widget-view+json": {
       "model_id": "",
       "version_major": 2,
       "version_minor": 0
      },
      "text/plain": [
       "FloatProgress(value=0.0, bar_style='info', description='Progress:', layout=Layout(height='25px', width='50%'),…"
      ]
     },
     "metadata": {},
     "output_type": "display_data"
    }
   ],
   "source": [
    "df2.registerTempTable(\"bank_data\")"
   ]
  },
  {
   "cell_type": "code",
   "execution_count": 20,
   "id": "0f3ce887-9141-4c50-8830-62514c1ccafc",
   "metadata": {
    "execution": {
     "iopub.execute_input": "2022-02-09T05:22:30.802994Z",
     "iopub.status.busy": "2022-02-09T05:22:30.802718Z",
     "iopub.status.idle": "2022-02-09T05:22:42.689845Z",
     "shell.execute_reply": "2022-02-09T05:22:42.688965Z",
     "shell.execute_reply.started": "2022-02-09T05:22:30.802966Z"
    }
   },
   "outputs": [
    {
     "data": {
      "application/vnd.jupyter.widget-view+json": {
       "model_id": "893994ad287f46d3890ddea7dff8b0fa",
       "version_major": 2,
       "version_minor": 0
      },
      "text/plain": [
       "VBox()"
      ]
     },
     "metadata": {},
     "output_type": "display_data"
    },
    {
     "data": {
      "application/vnd.jupyter.widget-view+json": {
       "model_id": "",
       "version_major": 2,
       "version_minor": 0
      },
      "text/plain": [
       "FloatProgress(value=0.0, bar_style='info', description='Progress:', layout=Layout(height='25px', width='50%'),…"
      ]
     },
     "metadata": {},
     "output_type": "display_data"
    },
    {
     "name": "stdout",
     "output_type": "stream",
     "text": [
      "+-------+-------+----------+------+------------+--------------+--------+----------+----------+------------+------------+-----------------+------------+-------------------+----+---+----+----------------+-----------------+-----------+-------+-------+------------------+-----------+-----------+---------------+------+--------+--------+----------+--------+-------+----------+----------+\n",
      "|  month|weekday|atm_status|atm_id|atm_location|atm_streetname|currency| card_type|   service|message_code|message_text|weather_city_name|weather_main|weather_description|year|day|hour|atm_manufacturer|atm_street_number|atm_zipcode|atm_lat|atm_lon|transaction_amount|weather_lat|weather_lon|weather_city_id|  temp|pressure|humidity|wind_speed|wind_deg|rain_3h|clouds_all|weather_id|\n",
      "+-------+-------+----------+------+------------+--------------+--------+----------+----------+------------+------------+-----------------+------------+-------------------+----+---+----+----------------+-----------------+-----------+-------+-------+------------------+-----------+-----------+---------------+------+--------+--------+----------+--------+-------+----------+----------+\n",
      "|January| Sunday|    Active|     1|  NÃƒÂ¦stved|   Farimagsvej|     DKK|MasterCard|Withdrawal|        null|        null|         Naestved|        Rain|         light rain|2017|  1|   0|            null|                8|       4700| 55.233| 11.763|              5643|      55.23|     11.761|        2616038|281.15|  1014.0|      87|         7|     260|      0|        92|       500|\n",
      "|January| Sunday|  Inactive|     2|    Vejgaard|    Hadsundvej|     DKK|MasterCard|Withdrawal|        null|        null|   NÃƒÂ¸rresundby|        Rain|         light rain|2017|  1|   0|            null|               20|       9000| 57.043|   9.95|              1764|     57.048|      9.935|        2616235|280.64|  1020.0|      93|         9|     250|      0|        92|       500|\n",
      "|January| Sunday|  Inactive|     2|    Vejgaard|    Hadsundvej|     DKK|      VISA|Withdrawal|        null|        null|   NÃƒÂ¸rresundby|        Rain|         light rain|2017|  1|   0|            null|               20|       9000| 57.043|   9.95|              1891|     57.048|      9.935|        2616235|280.64|  1020.0|      93|         9|     250|      0|        92|       500|\n",
      "+-------+-------+----------+------+------------+--------------+--------+----------+----------+------------+------------+-----------------+------------+-------------------+----+---+----+----------------+-----------------+-----------+-------+-------+------------------+-----------+-----------+---------------+------+--------+--------+----------+--------+-------+----------+----------+\n",
      "only showing top 3 rows"
     ]
    }
   ],
   "source": [
    "spark.sql(\"SELECT * FROM bank_data\").show(3)"
   ]
  },
  {
   "cell_type": "code",
   "execution_count": 49,
   "id": "12dea733-8f40-477e-8ed8-9b44f0f14092",
   "metadata": {
    "execution": {
     "iopub.execute_input": "2022-02-09T08:07:31.860923Z",
     "iopub.status.busy": "2022-02-09T08:07:31.860599Z",
     "iopub.status.idle": "2022-02-09T08:07:39.741057Z",
     "shell.execute_reply": "2022-02-09T08:07:39.740283Z",
     "shell.execute_reply.started": "2022-02-09T08:07:31.860888Z"
    },
    "tags": []
   },
   "outputs": [
    {
     "data": {
      "application/vnd.jupyter.widget-view+json": {
       "model_id": "2cce0e5e65e24c65867eed58eb961f4c",
       "version_major": 2,
       "version_minor": 0
      },
      "text/plain": [
       "VBox()"
      ]
     },
     "metadata": {},
     "output_type": "display_data"
    },
    {
     "data": {
      "application/vnd.jupyter.widget-view+json": {
       "model_id": "",
       "version_major": 2,
       "version_minor": 0
      },
      "text/plain": [
       "FloatProgress(value=0.0, bar_style='info', description='Progress:', layout=Layout(height='25px', width='50%'),…"
      ]
     },
     "metadata": {},
     "output_type": "display_data"
    },
    {
     "name": "stdout",
     "output_type": "stream",
     "text": [
      "106"
     ]
    }
   ],
   "source": [
    "df2.select(\"atm_location\").distinct().count()"
   ]
  },
  {
   "cell_type": "code",
   "execution_count": 48,
   "id": "5af44542-af62-4895-ba50-a10d15466153",
   "metadata": {
    "execution": {
     "iopub.execute_input": "2022-02-09T08:07:01.863809Z",
     "iopub.status.busy": "2022-02-09T08:07:01.863511Z",
     "iopub.status.idle": "2022-02-09T08:07:15.812812Z",
     "shell.execute_reply": "2022-02-09T08:07:15.807708Z",
     "shell.execute_reply.started": "2022-02-09T08:07:01.863779Z"
    }
   },
   "outputs": [
    {
     "data": {
      "application/vnd.jupyter.widget-view+json": {
       "model_id": "0d0f5f351abe4a4580511d2225472470",
       "version_major": 2,
       "version_minor": 0
      },
      "text/plain": [
       "VBox()"
      ]
     },
     "metadata": {},
     "output_type": "display_data"
    },
    {
     "data": {
      "application/vnd.jupyter.widget-view+json": {
       "model_id": "",
       "version_major": 2,
       "version_minor": 0
      },
      "text/plain": [
       "FloatProgress(value=0.0, bar_style='info', description='Progress:', layout=Layout(height='25px', width='50%'),…"
      ]
     },
     "metadata": {},
     "output_type": "display_data"
    },
    {
     "name": "stdout",
     "output_type": "stream",
     "text": [
      "2468572"
     ]
    }
   ],
   "source": [
    "df.count()"
   ]
  },
  {
   "cell_type": "code",
   "execution_count": 158,
   "id": "8694097a-d4fc-4119-a4ec-decc19579980",
   "metadata": {
    "execution": {
     "iopub.execute_input": "2022-02-09T13:04:56.481801Z",
     "iopub.status.busy": "2022-02-09T13:04:56.481558Z",
     "iopub.status.idle": "2022-02-09T13:04:56.652813Z",
     "shell.execute_reply": "2022-02-09T13:04:56.652026Z",
     "shell.execute_reply.started": "2022-02-09T13:04:56.481773Z"
    },
    "tags": []
   },
   "outputs": [
    {
     "data": {
      "application/vnd.jupyter.widget-view+json": {
       "model_id": "cd68102012fc4cf78630452336bf5412",
       "version_major": 2,
       "version_minor": 0
      },
      "text/plain": [
       "VBox()"
      ]
     },
     "metadata": {},
     "output_type": "display_data"
    },
    {
     "data": {
      "application/vnd.jupyter.widget-view+json": {
       "model_id": "",
       "version_major": 2,
       "version_minor": 0
      },
      "text/plain": [
       "FloatProgress(value=0.0, bar_style='info', description='Progress:', layout=Layout(height='25px', width='50%'),…"
      ]
     },
     "metadata": {},
     "output_type": "display_data"
    }
   ],
   "source": [
    "df5 = df5.drop(\"loc_id\")"
   ]
  },
  {
   "cell_type": "code",
   "execution_count": 159,
   "id": "2fb6965b-7c47-4121-b114-37854e31677c",
   "metadata": {
    "execution": {
     "iopub.execute_input": "2022-02-09T13:05:00.254669Z",
     "iopub.status.busy": "2022-02-09T13:05:00.254412Z",
     "iopub.status.idle": "2022-02-09T13:05:00.496008Z",
     "shell.execute_reply": "2022-02-09T13:05:00.495038Z",
     "shell.execute_reply.started": "2022-02-09T13:05:00.254640Z"
    },
    "tags": []
   },
   "outputs": [
    {
     "data": {
      "application/vnd.jupyter.widget-view+json": {
       "model_id": "9caf8fbd1c3b421aa01e0aedc31e21c0",
       "version_major": 2,
       "version_minor": 0
      },
      "text/plain": [
       "VBox()"
      ]
     },
     "metadata": {},
     "output_type": "display_data"
    },
    {
     "data": {
      "application/vnd.jupyter.widget-view+json": {
       "model_id": "",
       "version_major": 2,
       "version_minor": 0
      },
      "text/plain": [
       "FloatProgress(value=0.0, bar_style='info', description='Progress:', layout=Layout(height='25px', width='50%'),…"
      ]
     },
     "metadata": {},
     "output_type": "display_data"
    }
   ],
   "source": [
    "from pyspark.sql.functions import lit\n",
    "\n",
    "df4 = df2.withColumn('loc_id', lit(None).cast(IntegerType()))"
   ]
  },
  {
   "cell_type": "code",
   "execution_count": 160,
   "id": "b98c678b-0e0a-46a2-9650-8c85ec65ceba",
   "metadata": {
    "execution": {
     "iopub.execute_input": "2022-02-09T13:05:09.949192Z",
     "iopub.status.busy": "2022-02-09T13:05:09.948931Z",
     "iopub.status.idle": "2022-02-09T13:05:10.237438Z",
     "shell.execute_reply": "2022-02-09T13:05:10.236678Z",
     "shell.execute_reply.started": "2022-02-09T13:05:09.949165Z"
    },
    "tags": []
   },
   "outputs": [
    {
     "data": {
      "application/vnd.jupyter.widget-view+json": {
       "model_id": "39b3693431964d788df1219267252faa",
       "version_major": 2,
       "version_minor": 0
      },
      "text/plain": [
       "VBox()"
      ]
     },
     "metadata": {},
     "output_type": "display_data"
    },
    {
     "data": {
      "application/vnd.jupyter.widget-view+json": {
       "model_id": "",
       "version_major": 2,
       "version_minor": 0
      },
      "text/plain": [
       "FloatProgress(value=0.0, bar_style='info', description='Progress:', layout=Layout(height='25px', width='50%'),…"
      ]
     },
     "metadata": {},
     "output_type": "display_data"
    }
   ],
   "source": [
    "from pyspark.sql.functions import *\n",
    "from pyspark.sql.window import Window\n",
    "\n",
    "df5 =  df5.withColumn(\"loc_id\", rank().over(Window.partitionBy(\"year\").orderBy(\"atm_location\")))"
   ]
  },
  {
   "cell_type": "code",
   "execution_count": 161,
   "id": "d1d93443-1846-4e28-b892-78fb12760a51",
   "metadata": {
    "execution": {
     "iopub.execute_input": "2022-02-09T13:05:14.043105Z",
     "iopub.status.busy": "2022-02-09T13:05:14.042842Z",
     "iopub.status.idle": "2022-02-09T13:06:08.517438Z",
     "shell.execute_reply": "2022-02-09T13:06:08.516763Z",
     "shell.execute_reply.started": "2022-02-09T13:05:14.043058Z"
    },
    "tags": []
   },
   "outputs": [
    {
     "data": {
      "application/vnd.jupyter.widget-view+json": {
       "model_id": "c8f8f328c10f4af69ee7f6f9945ac14c",
       "version_major": 2,
       "version_minor": 0
      },
      "text/plain": [
       "VBox()"
      ]
     },
     "metadata": {},
     "output_type": "display_data"
    },
    {
     "data": {
      "application/vnd.jupyter.widget-view+json": {
       "model_id": "",
       "version_major": 2,
       "version_minor": 0
      },
      "text/plain": [
       "FloatProgress(value=0.0, bar_style='info', description='Progress:', layout=Layout(height='25px', width='50%'),…"
      ]
     },
     "metadata": {},
     "output_type": "display_data"
    },
    {
     "name": "stdout",
     "output_type": "stream",
     "text": [
      "+--------+---------+----------+------+------------+--------------+--------+--------------------+----------+------------+--------------------+-----------------+------------+-------------------+----+---+----+----------------+-----------------+-----------+-------+-------+------------------+-----------+-----------+---------------+----+--------+--------+----------+--------+-------+----------+----------+--------+------+\n",
      "|   month|  weekday|atm_status|atm_id|atm_location|atm_streetname|currency|           card_type|   service|message_code|        message_text|weather_city_name|weather_main|weather_description|year|day|hour|atm_manufacturer|atm_street_number|atm_zipcode|atm_lat|atm_lon|transaction_amount|weather_lat|weather_lon|weather_city_id|temp|pressure|humidity|wind_speed|wind_deg|rain_3h|clouds_all|weather_id|trans_id|loc_id|\n",
      "+--------+---------+----------+------+------------+--------------+--------+--------------------+----------+------------+--------------------+-----------------+------------+-------------------+----+---+----+----------------+-----------------+-----------+-------+-------+------------------+-----------+-----------+---------------+----+--------+--------+----------+--------+-------+----------+----------+--------+------+\n",
      "| January|   Sunday|    Active|    35|     Aabybro|  ÃƒËœstergade|     DKK|          MasterCard|Withdrawal|        4017|Suspected malfunc...|             null|        null|               null|2017|  1|  17|            null|                6|       9440| 57.162|   9.73|              7387|       null|       null|           null|null|    null|    null|      null|    null|   null|      null|      null|       1|     1|\n",
      "| January|   Monday|    Active|    35|     Aabybro|  ÃƒËœstergade|     DKK|Visa Dankort - on-us|Withdrawal|        4017|Suspected malfunc...|             null|        null|               null|2017|  2|  13|            null|                6|       9440| 57.162|   9.73|              7814|       null|       null|           null|null|    null|    null|      null|    null|   null|      null|      null|       2|     1|\n",
      "| January|Wednesday|    Active|    35|     Aabybro|  ÃƒËœstergade|     DKK|Visa Dankort - on-us|Withdrawal|        4017|Suspected malfunc...|             null|        null|               null|2017|  4|  13|            null|                6|       9440| 57.162|   9.73|              1226|       null|       null|           null|null|    null|    null|      null|    null|   null|      null|      null|       3|     1|\n",
      "| January|   Friday|    Active|    35|     Aabybro|  ÃƒËœstergade|     DKK|Visa Dankort - on-us|Withdrawal|        4017|Suspected malfunc...|             null|        null|               null|2017| 13|  15|            null|                6|       9440| 57.162|   9.73|              6868|       null|       null|           null|null|    null|    null|      null|    null|   null|      null|      null|       4|     1|\n",
      "| January|  Tuesday|    Active|    35|     Aabybro|  ÃƒËœstergade|     DKK|        Visa Dankort|Withdrawal|        4017|Suspected malfunc...|             null|        null|               null|2017| 17|  14|            null|                6|       9440| 57.162|   9.73|              2041|       null|       null|           null|null|    null|    null|      null|    null|   null|      null|      null|       5|     1|\n",
      "| January|   Monday|    Active|    35|     Aabybro|  ÃƒËœstergade|     DKK|             Dankort|Withdrawal|        4017|Suspected malfunc...|             null|        null|               null|2017| 23|   1|            null|                6|       9440| 57.162|   9.73|              9413|       null|       null|           null|null|    null|    null|      null|    null|   null|      null|      null|       6|     1|\n",
      "| January|   Monday|    Active|    35|     Aabybro|  ÃƒËœstergade|     DKK|     Dankort - on-us|Withdrawal|        4017|Suspected malfunc...|             null|        null|               null|2017| 23|  14|            null|                6|       9440| 57.162|   9.73|              3568|       null|       null|           null|null|    null|    null|      null|    null|   null|      null|      null|       7|     1|\n",
      "| January|   Monday|    Active|    35|     Aabybro|  ÃƒËœstergade|     DKK|     Dankort - on-us|Withdrawal|        4017|Suspected malfunc...|             null|        null|               null|2017| 23|  15|            null|                6|       9440| 57.162|   9.73|              2252|       null|       null|           null|null|    null|    null|      null|    null|   null|      null|      null|       8|     1|\n",
      "|February| Thursday|    Active|    35|     Aabybro|  ÃƒËœstergade|     DKK|     Dankort - on-us|Withdrawal|        4017|Suspected malfunc...|             null|        null|               null|2017|  9|  15|            null|                6|       9440| 57.162|   9.73|              5804|       null|       null|           null|null|    null|    null|      null|    null|   null|      null|      null|       9|     1|\n",
      "|February|   Friday|    Active|    35|     Aabybro|  ÃƒËœstergade|     DKK|Visa Dankort - on-us|Withdrawal|        4017|Suspected malfunc...|             null|        null|               null|2017| 10|  12|            null|                6|       9440| 57.162|   9.73|              8221|       null|       null|           null|null|    null|    null|      null|    null|   null|      null|      null|      10|     1|\n",
      "|February|  Tuesday|    Active|    35|     Aabybro|  ÃƒËœstergade|     DKK|Visa Dankort - on-us|Withdrawal|        4017|Suspected malfunc...|             null|        null|               null|2017| 21|  12|            null|                6|       9440| 57.162|   9.73|                24|       null|       null|           null|null|    null|    null|      null|    null|   null|      null|      null|      11|     1|\n",
      "|February|   Friday|    Active|    35|     Aabybro|  ÃƒËœstergade|     DKK|  Mastercard - on-us|Withdrawal|        4017|Suspected malfunc...|             null|        null|               null|2017| 24|  16|            null|                6|       9440| 57.162|   9.73|              4010|       null|       null|           null|null|    null|    null|      null|    null|   null|      null|      null|      12|     1|\n",
      "|February|  Tuesday|    Active|    35|     Aabybro|  ÃƒËœstergade|     EUR|Visa Dankort - on-us|Withdrawal|        4017|Suspected malfunc...|             null|        null|               null|2017| 28|  10|            null|                6|       9440| 57.162|   9.73|              7498|       null|       null|           null|null|    null|    null|      null|    null|   null|      null|      null|      13|     1|\n",
      "|   March|Wednesday|    Active|    35|     Aabybro|  ÃƒËœstergade|     DKK|  Mastercard - on-us|Withdrawal|        4017|Suspected malfunc...|             null|        null|               null|2017|  1|  11|            null|                6|       9440| 57.162|   9.73|              9501|       null|       null|           null|null|    null|    null|      null|    null|   null|      null|      null|      14|     1|\n",
      "|   March|   Monday|    Active|    35|     Aabybro|  ÃƒËœstergade|     DKK|Visa Dankort - on-us|Withdrawal|        4017|Suspected malfunc...|             null|        null|               null|2017|  6|  10|            null|                6|       9440| 57.162|   9.73|              7692|       null|       null|           null|null|    null|    null|      null|    null|   null|      null|      null|      15|     1|\n",
      "|   March| Thursday|    Active|    35|     Aabybro|  ÃƒËœstergade|     DKK|        Visa Dankort|Withdrawal|        4017|Suspected malfunc...|             null|        null|               null|2017|  9|  15|            null|                6|       9440| 57.162|   9.73|              4565|       null|       null|           null|null|    null|    null|      null|    null|   null|      null|      null|      16|     1|\n",
      "|   March|   Friday|    Active|    35|     Aabybro|  ÃƒËœstergade|     DKK|Visa Dankort - on-us|Withdrawal|        4017|Suspected malfunc...|             null|        null|               null|2017| 10|  16|            null|                6|       9440| 57.162|   9.73|              2170|       null|       null|           null|null|    null|    null|      null|    null|   null|      null|      null|      17|     1|\n",
      "|   March|   Monday|    Active|    35|     Aabybro|  ÃƒËœstergade|     DKK|Visa Dankort - on-us|Withdrawal|        4017|Suspected malfunc...|             null|        null|               null|2017| 13|  12|            null|                6|       9440| 57.162|   9.73|              1178|       null|       null|           null|null|    null|    null|      null|    null|   null|      null|      null|      18|     1|\n",
      "|   March| Thursday|    Active|    35|     Aabybro|  ÃƒËœstergade|     DKK| HÃƒÂ¦vekort - on-us|Withdrawal|        4017|Suspected malfunc...|             null|        null|               null|2017| 16|   8|            null|                6|       9440| 57.162|   9.73|               802|       null|       null|           null|null|    null|    null|      null|    null|   null|      null|      null|      19|     1|\n",
      "|   March|   Friday|    Active|    35|     Aabybro|  ÃƒËœstergade|     DKK|Visa Dankort - on-us|Withdrawal|        4017|Suspected malfunc...|             null|        null|               null|2017| 24|   8|            null|                6|       9440| 57.162|   9.73|              7060|       null|       null|           null|null|    null|    null|      null|    null|   null|      null|      null|      20|     1|\n",
      "+--------+---------+----------+------+------------+--------------+--------+--------------------+----------+------------+--------------------+-----------------+------------+-------------------+----+---+----+----------------+-----------------+-----------+-------+-------+------------------+-----------+-----------+---------------+----+--------+--------+----------+--------+-------+----------+----------+--------+------+\n",
      "only showing top 20 rows"
     ]
    }
   ],
   "source": [
    "df5.show()"
   ]
  },
  {
   "cell_type": "code",
   "execution_count": 140,
   "id": "19678922-26ea-4e5e-89a1-3dc057d61db2",
   "metadata": {
    "execution": {
     "iopub.execute_input": "2022-02-09T12:36:02.309389Z",
     "iopub.status.busy": "2022-02-09T12:36:02.308899Z",
     "iopub.status.idle": "2022-02-09T12:36:16.331261Z",
     "shell.execute_reply": "2022-02-09T12:36:16.330412Z",
     "shell.execute_reply.started": "2022-02-09T12:36:02.309320Z"
    },
    "tags": []
   },
   "outputs": [
    {
     "data": {
      "application/vnd.jupyter.widget-view+json": {
       "model_id": "810b7ceba6184d69afe94f4cc2ddf7da",
       "version_major": 2,
       "version_minor": 0
      },
      "text/plain": [
       "VBox()"
      ]
     },
     "metadata": {},
     "output_type": "display_data"
    },
    {
     "data": {
      "application/vnd.jupyter.widget-view+json": {
       "model_id": "",
       "version_major": 2,
       "version_minor": 0
      },
      "text/plain": [
       "FloatProgress(value=0.0, bar_style='info', description='Progress:', layout=Layout(height='25px', width='50%'),…"
      ]
     },
     "metadata": {},
     "output_type": "display_data"
    },
    {
     "name": "stdout",
     "output_type": "stream",
     "text": [
      "106"
     ]
    }
   ],
   "source": [
    "df5.select(\"loc_id\").distinct().count()"
   ]
  },
  {
   "cell_type": "code",
   "execution_count": 71,
   "id": "07bf5ab2-74d6-4b5c-bc77-8f1d538be0a3",
   "metadata": {
    "execution": {
     "iopub.execute_input": "2022-02-09T09:51:21.356956Z",
     "iopub.status.busy": "2022-02-09T09:51:21.356705Z",
     "iopub.status.idle": "2022-02-09T09:51:29.333235Z",
     "shell.execute_reply": "2022-02-09T09:51:29.332177Z",
     "shell.execute_reply.started": "2022-02-09T09:51:21.356926Z"
    }
   },
   "outputs": [
    {
     "data": {
      "application/vnd.jupyter.widget-view+json": {
       "model_id": "b900efe7cc6a4559968a619151f9c9d5",
       "version_major": 2,
       "version_minor": 0
      },
      "text/plain": [
       "VBox()"
      ]
     },
     "metadata": {},
     "output_type": "display_data"
    },
    {
     "data": {
      "application/vnd.jupyter.widget-view+json": {
       "model_id": "",
       "version_major": 2,
       "version_minor": 0
      },
      "text/plain": [
       "FloatProgress(value=0.0, bar_style='info', description='Progress:', layout=Layout(height='25px', width='50%'),…"
      ]
     },
     "metadata": {},
     "output_type": "display_data"
    },
    {
     "name": "stdout",
     "output_type": "stream",
     "text": [
      "12"
     ]
    }
   ],
   "source": [
    "df5.select(\"card_type\").distinct().count()"
   ]
  },
  {
   "cell_type": "code",
   "execution_count": 162,
   "id": "fc8ea384-bddf-45bd-86fb-4ac4cadfb0f5",
   "metadata": {
    "execution": {
     "iopub.execute_input": "2022-02-09T13:06:46.881787Z",
     "iopub.status.busy": "2022-02-09T13:06:46.881536Z",
     "iopub.status.idle": "2022-02-09T13:06:47.049842Z",
     "shell.execute_reply": "2022-02-09T13:06:47.049142Z",
     "shell.execute_reply.started": "2022-02-09T13:06:46.881760Z"
    },
    "tags": []
   },
   "outputs": [
    {
     "data": {
      "application/vnd.jupyter.widget-view+json": {
       "model_id": "3c5443ae44bf47dfbb42fb7e56f35f1c",
       "version_major": 2,
       "version_minor": 0
      },
      "text/plain": [
       "VBox()"
      ]
     },
     "metadata": {},
     "output_type": "display_data"
    },
    {
     "data": {
      "application/vnd.jupyter.widget-view+json": {
       "model_id": "",
       "version_major": 2,
       "version_minor": 0
      },
      "text/plain": [
       "FloatProgress(value=0.0, bar_style='info', description='Progress:', layout=Layout(height='25px', width='50%'),…"
      ]
     },
     "metadata": {},
     "output_type": "display_data"
    }
   ],
   "source": [
    "df5 = df5.withColumn('card_type_id', lit(None).cast(IntegerType()))"
   ]
  },
  {
   "cell_type": "code",
   "execution_count": 163,
   "id": "cb01575c-dbb3-4371-8f92-b70d27eed364",
   "metadata": {
    "execution": {
     "iopub.execute_input": "2022-02-09T13:06:55.210231Z",
     "iopub.status.busy": "2022-02-09T13:06:55.209925Z",
     "iopub.status.idle": "2022-02-09T13:06:55.606715Z",
     "shell.execute_reply": "2022-02-09T13:06:55.605737Z",
     "shell.execute_reply.started": "2022-02-09T13:06:55.210202Z"
    },
    "tags": []
   },
   "outputs": [
    {
     "data": {
      "application/vnd.jupyter.widget-view+json": {
       "model_id": "61f38fa3105449c895b14710a15e1f0a",
       "version_major": 2,
       "version_minor": 0
      },
      "text/plain": [
       "VBox()"
      ]
     },
     "metadata": {},
     "output_type": "display_data"
    },
    {
     "data": {
      "application/vnd.jupyter.widget-view+json": {
       "model_id": "",
       "version_major": 2,
       "version_minor": 0
      },
      "text/plain": [
       "FloatProgress(value=0.0, bar_style='info', description='Progress:', layout=Layout(height='25px', width='50%'),…"
      ]
     },
     "metadata": {},
     "output_type": "display_data"
    }
   ],
   "source": [
    "df5 =  df5.withColumn(\"card_type_id\", rank().over(Window.partitionBy(\"year\").orderBy((\"card_type\"))))"
   ]
  },
  {
   "cell_type": "code",
   "execution_count": 101,
   "id": "7a90bb7b-8064-4c8e-a106-f6f2e635d987",
   "metadata": {
    "execution": {
     "iopub.execute_input": "2022-02-09T10:39:53.486806Z",
     "iopub.status.busy": "2022-02-09T10:39:53.486531Z",
     "iopub.status.idle": "2022-02-09T10:39:53.644286Z",
     "shell.execute_reply": "2022-02-09T10:39:53.643646Z",
     "shell.execute_reply.started": "2022-02-09T10:39:53.486777Z"
    },
    "tags": []
   },
   "outputs": [
    {
     "data": {
      "application/vnd.jupyter.widget-view+json": {
       "model_id": "b20c3335735d40acb43e6fcdaa5ebc3a",
       "version_major": 2,
       "version_minor": 0
      },
      "text/plain": [
       "VBox()"
      ]
     },
     "metadata": {},
     "output_type": "display_data"
    },
    {
     "data": {
      "application/vnd.jupyter.widget-view+json": {
       "model_id": "",
       "version_major": 2,
       "version_minor": 0
      },
      "text/plain": [
       "FloatProgress(value=0.0, bar_style='info', description='Progress:', layout=Layout(height='25px', width='50%'),…"
      ]
     },
     "metadata": {},
     "output_type": "display_data"
    }
   ],
   "source": [
    "df5 = df5.drop(\"card_type_id1\",\"card_type_id2\")"
   ]
  },
  {
   "cell_type": "code",
   "execution_count": 164,
   "id": "c7b7d334-3b32-457c-ac8d-9f1f23191fe6",
   "metadata": {
    "execution": {
     "iopub.execute_input": "2022-02-09T13:06:58.862598Z",
     "iopub.status.busy": "2022-02-09T13:06:58.862347Z",
     "iopub.status.idle": "2022-02-09T13:07:49.139508Z",
     "shell.execute_reply": "2022-02-09T13:07:49.138768Z",
     "shell.execute_reply.started": "2022-02-09T13:06:58.862567Z"
    },
    "tags": []
   },
   "outputs": [
    {
     "data": {
      "application/vnd.jupyter.widget-view+json": {
       "model_id": "eda220b9824a4f2180b7f809a3b29e81",
       "version_major": 2,
       "version_minor": 0
      },
      "text/plain": [
       "VBox()"
      ]
     },
     "metadata": {},
     "output_type": "display_data"
    },
    {
     "data": {
      "application/vnd.jupyter.widget-view+json": {
       "model_id": "",
       "version_major": 2,
       "version_minor": 0
      },
      "text/plain": [
       "FloatProgress(value=0.0, bar_style='info', description='Progress:', layout=Layout(height='25px', width='50%'),…"
      ]
     },
     "metadata": {},
     "output_type": "display_data"
    },
    {
     "name": "stdout",
     "output_type": "stream",
     "text": [
      "+---------+---------+----------+------+------------+--------------+--------+---------+----------+------------+------------+-----------------+------------+--------------------+----+---+----+----------------+-----------------+-----------+-------+-------+------------------+-----------+-----------+---------------+-------+--------+--------+----------+--------+-------+----------+----------+--------+------+------------+\n",
      "|    month|  weekday|atm_status|atm_id|atm_location|atm_streetname|currency|card_type|   service|message_code|message_text|weather_city_name|weather_main| weather_description|year|day|hour|atm_manufacturer|atm_street_number|atm_zipcode|atm_lat|atm_lon|transaction_amount|weather_lat|weather_lon|weather_city_id|   temp|pressure|humidity|wind_speed|wind_deg|rain_3h|clouds_all|weather_id|trans_id|loc_id|card_type_id|\n",
      "+---------+---------+----------+------+------------+--------------+--------+---------+----------+------------+------------+-----------------+------------+--------------------+----+---+----+----------------+-----------------+-----------+-------+-------+------------------+-----------+-----------+---------------+-------+--------+--------+----------+--------+-------+----------+----------+--------+------+------------+\n",
      "| November|Wednesday|    Active|    35|     Aabybro|  ÃƒËœstergade|     DKK|   CIRRUS|Withdrawal|        null|        null|           Abybro|     Drizzle|light intensity d...|2017|  1|  11|            null|                6|       9440| 57.162|   9.73|              6316|     57.158|      9.737|        2625037| 285.15|  1006.0|      93|         8|     250|      0|        75|       300|     384|     1|           1|\n",
      "|September|Wednesday|    Active|    35|     Aabybro|  ÃƒËœstergade|     DKK|   CIRRUS|Withdrawal|        null|        null|           Abybro|        Rain|          light rain|2017| 13|  20|            null|                6|       9440| 57.162|   9.73|              9329|     57.158|      9.737|        2625037|285.843|   993.0|      94|         6|      30|      0|       100|       500|    2385|     1|           1|\n",
      "|  January|Wednesday|    Active|    35|     Aabybro|  ÃƒËœstergade|     DKK|   CIRRUS|Withdrawal|        null|        null|           Abybro|        Rain|          light rain|2017| 25|  19|            null|                6|       9440| 57.162|   9.73|              1887|     57.158|      9.737|        2625037|276.537|  1040.0|      94|         5|     227|      0|        80|       500|    3952|     1|           1|\n",
      "|     July|   Friday|    Active|    35|     Aabybro|  ÃƒËœstergade|     DKK|   CIRRUS|Withdrawal|        null|        null|           Abybro|        Rain|          light rain|2017| 21|  18|            null|                6|       9440| 57.162|   9.73|              6670|     57.158|      9.737|        2625037|289.051|  1027.0|      98|         8|     119|      0|       100|       500|    5445|     1|           1|\n",
      "|   August| Thursday|    Active|    35|     Aabybro|  ÃƒËœstergade|     DKK|   CIRRUS|Withdrawal|        null|        null|           Abybro|        Rain|          light rain|2017|  3|  11|            null|                6|       9440| 57.162|   9.73|               288|     57.158|      9.737|        2625037| 288.15|  1005.0|     100|         7|     150|      0|        75|       500|    5757|     1|           1|\n",
      "|   August|   Monday|    Active|    35|     Aabybro|  ÃƒËœstergade|     DKK|   CIRRUS|Withdrawal|        null|        null|           Abybro|        Rain|          light rain|2017|  7|  11|            null|                6|       9440| 57.162|   9.73|              9420|     57.158|      9.737|        2625037| 290.15|  1017.0|      77|         6|     190|      0|        75|       500|    5853|     1|           1|\n",
      "|     June|   Friday|    Active|    35|     Aabybro|  ÃƒËœstergade|     DKK|   CIRRUS|Withdrawal|        null|        null|           Abybro|        Rain|       moderate rain|2017|  9|  13|            null|                6|       9440| 57.162|   9.73|              9354|     57.158|      9.737|        2625037|  288.6|  1020.0|     100|         3|     119|      3|        92|       501|    7321|     1|           1|\n",
      "|      May| Saturday|    Active|    35|     Aabybro|  ÃƒËœstergade|     DKK|   CIRRUS|Withdrawal|        null|        null|           Abybro|        Rain|       moderate rain|2017| 13|  10|            null|                6|       9440| 57.162|   9.73|              1818|     57.158|      9.737|        2625037|282.397|  1024.0|      99|         7|     109|      3|        92|       501|    7646|     1|           1|\n",
      "|     July|   Friday|    Active|    35|     Aabybro|  ÃƒËœstergade|     DKK|   CIRRUS|Withdrawal|        null|        null|           Abybro|        Rain|proximity shower ...|2017|  7|  13|            null|                6|       9440| 57.162|   9.73|              5511|     57.158|      9.737|        2625037| 288.15|  1013.0|      87|         2|     260|      0|        75|       521|    9155|     1|           1|\n",
      "|     July|  Tuesday|    Active|    35|     Aabybro|  ÃƒËœstergade|     DKK|   CIRRUS|Withdrawal|        null|        null|           Abybro|        Rain|proximity shower ...|2017| 11|  15|            null|                6|       9440| 57.162|   9.73|              8168|     57.158|      9.737|        2625037| 291.15|  1004.0|      77|         3|     220|      0|        75|       521|    9160|     1|           1|\n",
      "| February|   Monday|    Active|    35|     Aabybro|  ÃƒËœstergade|     DKK|   CIRRUS|Withdrawal|        null|        null|           Abybro|        Snow|          light snow|2017|  6|  13|            null|                6|       9440| 57.162|   9.73|              3688|     57.158|      9.737|        2625037| 274.15|  1028.0|      69|         6|      70|      0|        75|       600|    9500|     1|           1|\n",
      "|      May|Wednesday|    Active|    35|     Aabybro|  ÃƒËœstergade|     DKK|   CIRRUS|Withdrawal|        null|        null|           Abybro|       Clear|        Sky is Clear|2017| 24|  10|            null|                6|       9440| 57.162|   9.73|              1343|     57.158|      9.737|        2625037| 289.15|  1015.0|      67|         4|     280|      0|         0|       800|   11716|     1|           1|\n",
      "|      May| Thursday|    Active|    35|     Aabybro|  ÃƒËœstergade|     DKK|   CIRRUS|Withdrawal|        null|        null|           Abybro|       Clear|        Sky is Clear|2017| 25|  15|            null|                6|       9440| 57.162|   9.73|              9232|     57.158|      9.737|        2625037|291.349|  1029.0|      63|         8|     292|      0|         0|       800|   11882|     1|           1|\n",
      "|      May| Saturday|    Active|    35|     Aabybro|  ÃƒËœstergade|     DKK|   CIRRUS|Withdrawal|        null|        null|           Abybro|       Clear|        Sky is Clear|2017| 27|  15|            null|                6|       9440| 57.162|   9.73|               754|     57.158|      9.737|        2625037|296.196|  1031.0|      60|         2|     164|      0|         0|       800|   12106|     1|           1|\n",
      "|      May| Saturday|    Active|    35|     Aabybro|  ÃƒËœstergade|     DKK|   CIRRUS|Withdrawal|        null|        null|           Abybro|       Clear|        Sky is Clear|2017| 27|  15|            null|                6|       9440| 57.162|   9.73|              9146|     57.158|      9.737|        2625037|296.196|  1031.0|      60|         2|     164|      0|         0|       800|   12107|     1|           1|\n",
      "|     June|Wednesday|    Active|    35|     Aabybro|  ÃƒËœstergade|     DKK|   CIRRUS|Withdrawal|        null|        null|           Abybro|       Clear|        Sky is Clear|2017| 14|  15|            null|                6|       9440| 57.162|   9.73|              4264|     57.158|      9.737|        2625037| 291.15|  1016.0|      68|         9|     260|      0|         0|       800|   12470|     1|           1|\n",
      "|   August|   Monday|    Active|    35|     Aabybro|  ÃƒËœstergade|     DKK|   CIRRUS|Withdrawal|        null|        null|           Abybro|       Clear|        Sky is Clear|2017| 21|  18|            null|                6|       9440| 57.162|   9.73|              5782|     57.158|      9.737|        2625037|290.299|  1028.0|      71|         5|     288|      0|         0|       800|   13024|     1|           1|\n",
      "|   August|Wednesday|    Active|    35|     Aabybro|  ÃƒËœstergade|     DKK|   CIRRUS|Withdrawal|        null|        null|           Abybro|       Clear|        Sky is Clear|2017| 23|  17|            null|                6|       9440| 57.162|   9.73|              9786|     57.158|      9.737|        2625037|288.869|  1029.0|      68|         3|     134|      0|         0|       800|   13126|     1|           1|\n",
      "| December|   Friday|    Active|    35|     Aabybro|  ÃƒËœstergade|     DKK|   CIRRUS|Withdrawal|        null|        null|           Abybro|       Clear|        Sky is Clear|2017| 22|  11|            null|                6|       9440| 57.162|   9.73|              5133|     57.158|      9.737|        2625037| 280.15|  1025.0|      81|         6|     290|      0|         0|       800|   14217|     1|           1|\n",
      "|  January|   Monday|    Active|    35|     Aabybro|  ÃƒËœstergade|     DKK|   CIRRUS|Withdrawal|        null|        null|           Abybro|       Clear|        Sky is Clear|2017|  2|  14|            null|                6|       9440| 57.162|   9.73|              5092|     57.158|      9.737|        2625037| 277.15|  1013.0|      41|         1|     270|      0|         0|       800|   14400|     1|           1|\n",
      "+---------+---------+----------+------+------------+--------------+--------+---------+----------+------------+------------+-----------------+------------+--------------------+----+---+----+----------------+-----------------+-----------+-------+-------+------------------+-----------+-----------+---------------+-------+--------+--------+----------+--------+-------+----------+----------+--------+------+------------+\n",
      "only showing top 20 rows"
     ]
    }
   ],
   "source": [
    "df5.show()"
   ]
  },
  {
   "cell_type": "code",
   "execution_count": 97,
   "id": "625afddc-ef73-4792-923e-a1684a15f8bd",
   "metadata": {
    "execution": {
     "iopub.execute_input": "2022-02-09T10:33:23.015810Z",
     "iopub.status.busy": "2022-02-09T10:33:23.015562Z",
     "iopub.status.idle": "2022-02-09T10:33:49.034756Z",
     "shell.execute_reply": "2022-02-09T10:33:49.033833Z",
     "shell.execute_reply.started": "2022-02-09T10:33:23.015782Z"
    },
    "tags": []
   },
   "outputs": [
    {
     "data": {
      "application/vnd.jupyter.widget-view+json": {
       "model_id": "9db99d0922e34498a0fa00b90cbbae09",
       "version_major": 2,
       "version_minor": 0
      },
      "text/plain": [
       "VBox()"
      ]
     },
     "metadata": {},
     "output_type": "display_data"
    },
    {
     "data": {
      "application/vnd.jupyter.widget-view+json": {
       "model_id": "",
       "version_major": 2,
       "version_minor": 0
      },
      "text/plain": [
       "FloatProgress(value=0.0, bar_style='info', description='Progress:', layout=Layout(height='25px', width='50%'),…"
      ]
     },
     "metadata": {},
     "output_type": "display_data"
    },
    {
     "name": "stdout",
     "output_type": "stream",
     "text": [
      "12"
     ]
    }
   ],
   "source": [
    "df5.select(\"card_type_id\").distinct().count()"
   ]
  },
  {
   "cell_type": "code",
   "execution_count": 165,
   "id": "2d321a69-ddd7-4b3a-9f6c-1295e9fa9fec",
   "metadata": {
    "execution": {
     "iopub.execute_input": "2022-02-09T13:08:18.601281Z",
     "iopub.status.busy": "2022-02-09T13:08:18.601035Z",
     "iopub.status.idle": "2022-02-09T13:08:18.998379Z",
     "shell.execute_reply": "2022-02-09T13:08:18.997711Z",
     "shell.execute_reply.started": "2022-02-09T13:08:18.601253Z"
    },
    "tags": []
   },
   "outputs": [
    {
     "data": {
      "application/vnd.jupyter.widget-view+json": {
       "model_id": "6f7d3f983b8047099a779262631b9ae3",
       "version_major": 2,
       "version_minor": 0
      },
      "text/plain": [
       "VBox()"
      ]
     },
     "metadata": {},
     "output_type": "display_data"
    },
    {
     "data": {
      "application/vnd.jupyter.widget-view+json": {
       "model_id": "",
       "version_major": 2,
       "version_minor": 0
      },
      "text/plain": [
       "FloatProgress(value=0.0, bar_style='info', description='Progress:', layout=Layout(height='25px', width='50%'),…"
      ]
     },
     "metadata": {},
     "output_type": "display_data"
    }
   ],
   "source": [
    "df5 = df5.withColumn('full_date_time', lit(None).cast(IntegerType()))"
   ]
  },
  {
   "cell_type": "code",
   "execution_count": 166,
   "id": "02d23557-2130-4586-bb65-51284ee457ec",
   "metadata": {
    "execution": {
     "iopub.execute_input": "2022-02-09T13:08:37.986831Z",
     "iopub.status.busy": "2022-02-09T13:08:37.986590Z",
     "iopub.status.idle": "2022-02-09T13:08:38.389935Z",
     "shell.execute_reply": "2022-02-09T13:08:38.388836Z",
     "shell.execute_reply.started": "2022-02-09T13:08:37.986803Z"
    },
    "tags": []
   },
   "outputs": [
    {
     "data": {
      "application/vnd.jupyter.widget-view+json": {
       "model_id": "65e60e3598c0409f9a20ac9d94c38a8a",
       "version_major": 2,
       "version_minor": 0
      },
      "text/plain": [
       "VBox()"
      ]
     },
     "metadata": {},
     "output_type": "display_data"
    },
    {
     "data": {
      "application/vnd.jupyter.widget-view+json": {
       "model_id": "",
       "version_major": 2,
       "version_minor": 0
      },
      "text/plain": [
       "FloatProgress(value=0.0, bar_style='info', description='Progress:', layout=Layout(height='25px', width='50%'),…"
      ]
     },
     "metadata": {},
     "output_type": "display_data"
    }
   ],
   "source": [
    "from pyspark.sql import functions as sf\n",
    "df5 = df5.withColumn('full_date_time', \n",
    "                    sf.concat(sf.col('day'),sf.lit('/'), sf.col('month')[0:3], sf.lit('/'), sf.col('year')))"
   ]
  },
  {
   "cell_type": "code",
   "execution_count": 167,
   "id": "a1be1f26-8d5c-4cd3-a0b6-6624ffcf9307",
   "metadata": {
    "execution": {
     "iopub.execute_input": "2022-02-09T13:08:42.898297Z",
     "iopub.status.busy": "2022-02-09T13:08:42.898056Z",
     "iopub.status.idle": "2022-02-09T13:09:29.206969Z",
     "shell.execute_reply": "2022-02-09T13:09:29.206147Z",
     "shell.execute_reply.started": "2022-02-09T13:08:42.898268Z"
    },
    "tags": []
   },
   "outputs": [
    {
     "data": {
      "application/vnd.jupyter.widget-view+json": {
       "model_id": "f878186370b34ba5915dd612c58a1f29",
       "version_major": 2,
       "version_minor": 0
      },
      "text/plain": [
       "VBox()"
      ]
     },
     "metadata": {},
     "output_type": "display_data"
    },
    {
     "data": {
      "application/vnd.jupyter.widget-view+json": {
       "model_id": "",
       "version_major": 2,
       "version_minor": 0
      },
      "text/plain": [
       "FloatProgress(value=0.0, bar_style='info', description='Progress:', layout=Layout(height='25px', width='50%'),…"
      ]
     },
     "metadata": {},
     "output_type": "display_data"
    },
    {
     "name": "stdout",
     "output_type": "stream",
     "text": [
      "+---------+---------+----------+------+------------+--------------+--------+---------+----------+------------+------------+-----------------+------------+--------------------+----+---+----+----------------+-----------------+-----------+-------+-------+------------------+-----------+-----------+---------------+-------+--------+--------+----------+--------+-------+----------+----------+--------+------+------------+--------------+\n",
      "|    month|  weekday|atm_status|atm_id|atm_location|atm_streetname|currency|card_type|   service|message_code|message_text|weather_city_name|weather_main| weather_description|year|day|hour|atm_manufacturer|atm_street_number|atm_zipcode|atm_lat|atm_lon|transaction_amount|weather_lat|weather_lon|weather_city_id|   temp|pressure|humidity|wind_speed|wind_deg|rain_3h|clouds_all|weather_id|trans_id|loc_id|card_type_id|full_date_time|\n",
      "+---------+---------+----------+------+------------+--------------+--------+---------+----------+------------+------------+-----------------+------------+--------------------+----+---+----+----------------+-----------------+-----------+-------+-------+------------------+-----------+-----------+---------------+-------+--------+--------+----------+--------+-------+----------+----------+--------+------+------------+--------------+\n",
      "| November|Wednesday|    Active|    35|     Aabybro|  ÃƒËœstergade|     DKK|   CIRRUS|Withdrawal|        null|        null|           Abybro|     Drizzle|light intensity d...|2017|  1|  11|            null|                6|       9440| 57.162|   9.73|              6316|     57.158|      9.737|        2625037| 285.15|  1006.0|      93|         8|     250|      0|        75|       300|     384|     1|           1|    1/Nov/2017|\n",
      "|  January|Wednesday|    Active|    35|     Aabybro|  ÃƒËœstergade|     DKK|   CIRRUS|Withdrawal|        null|        null|           Abybro|        Rain|          light rain|2017| 25|  19|            null|                6|       9440| 57.162|   9.73|              1887|     57.158|      9.737|        2625037|276.537|  1040.0|      94|         5|     227|      0|        80|       500|     727|     1|           1|   25/Jan/2017|\n",
      "|     July|   Friday|    Active|    35|     Aabybro|  ÃƒËœstergade|     DKK|   CIRRUS|Withdrawal|        null|        null|           Abybro|        Rain|          light rain|2017| 21|  18|            null|                6|       9440| 57.162|   9.73|              6670|     57.158|      9.737|        2625037|289.051|  1027.0|      98|         8|     119|      0|       100|       500|    3635|     1|           1|   21/Jul/2017|\n",
      "|   August| Thursday|    Active|    35|     Aabybro|  ÃƒËœstergade|     DKK|   CIRRUS|Withdrawal|        null|        null|           Abybro|        Rain|          light rain|2017|  3|  11|            null|                6|       9440| 57.162|   9.73|               288|     57.158|      9.737|        2625037| 288.15|  1005.0|     100|         7|     150|      0|        75|       500|    3947|     1|           1|    3/Aug/2017|\n",
      "|   August|   Monday|    Active|    35|     Aabybro|  ÃƒËœstergade|     DKK|   CIRRUS|Withdrawal|        null|        null|           Abybro|        Rain|          light rain|2017|  7|  11|            null|                6|       9440| 57.162|   9.73|              9420|     57.158|      9.737|        2625037| 290.15|  1017.0|      77|         6|     190|      0|        75|       500|    4043|     1|           1|    7/Aug/2017|\n",
      "|September|Wednesday|    Active|    35|     Aabybro|  ÃƒËœstergade|     DKK|   CIRRUS|Withdrawal|        null|        null|           Abybro|        Rain|          light rain|2017| 13|  20|            null|                6|       9440| 57.162|   9.73|              9329|     57.158|      9.737|        2625037|285.843|   993.0|      94|         6|      30|      0|       100|       500|    4556|     1|           1|   13/Sep/2017|\n",
      "|      May| Saturday|    Active|    35|     Aabybro|  ÃƒËœstergade|     DKK|   CIRRUS|Withdrawal|        null|        null|           Abybro|        Rain|       moderate rain|2017| 13|  10|            null|                6|       9440| 57.162|   9.73|              1818|     57.158|      9.737|        2625037|282.397|  1024.0|      99|         7|     109|      3|        92|       501|    7327|     1|           1|   13/May/2017|\n",
      "|     June|   Friday|    Active|    35|     Aabybro|  ÃƒËœstergade|     DKK|   CIRRUS|Withdrawal|        null|        null|           Abybro|        Rain|       moderate rain|2017|  9|  13|            null|                6|       9440| 57.162|   9.73|              9354|     57.158|      9.737|        2625037|  288.6|  1020.0|     100|         3|     119|      3|        92|       501|    7483|     1|           1|    9/Jun/2017|\n",
      "|     July|   Friday|    Active|    35|     Aabybro|  ÃƒËœstergade|     DKK|   CIRRUS|Withdrawal|        null|        null|           Abybro|        Rain|proximity shower ...|2017|  7|  13|            null|                6|       9440| 57.162|   9.73|              5511|     57.158|      9.737|        2625037| 288.15|  1013.0|      87|         2|     260|      0|        75|       521|    8895|     1|           1|    7/Jul/2017|\n",
      "|     July|  Tuesday|    Active|    35|     Aabybro|  ÃƒËœstergade|     DKK|   CIRRUS|Withdrawal|        null|        null|           Abybro|        Rain|proximity shower ...|2017| 11|  15|            null|                6|       9440| 57.162|   9.73|              8168|     57.158|      9.737|        2625037| 291.15|  1004.0|      77|         3|     220|      0|        75|       521|    8900|     1|           1|   11/Jul/2017|\n",
      "| February|   Monday|    Active|    35|     Aabybro|  ÃƒËœstergade|     DKK|   CIRRUS|Withdrawal|        null|        null|           Abybro|        Snow|          light snow|2017|  6|  13|            null|                6|       9440| 57.162|   9.73|              3688|     57.158|      9.737|        2625037| 274.15|  1028.0|      69|         6|      70|      0|        75|       600|    9444|     1|           1|    6/Feb/2017|\n",
      "|  January|   Monday|    Active|    35|     Aabybro|  ÃƒËœstergade|     DKK|   CIRRUS|Withdrawal|        null|        null|           Abybro|       Clear|        Sky is Clear|2017|  2|  14|            null|                6|       9440| 57.162|   9.73|              5092|     57.158|      9.737|        2625037| 277.15|  1013.0|      41|         1|     270|      0|         0|       800|   10526|     1|           1|    2/Jan/2017|\n",
      "|    April|  Tuesday|    Active|    35|     Aabybro|  ÃƒËœstergade|     DKK|   CIRRUS|Withdrawal|        null|        null|           Abybro|       Clear|        sky is clear|2017| 11|  16|            null|                6|       9440| 57.162|   9.73|              3654|     57.158|      9.737|        2625037|280.731|  1026.0|      71|         8|     282|      0|         8|       800|   12970|     1|           1|   11/Apr/2017|\n",
      "|    April|   Friday|    Active|    35|     Aabybro|  ÃƒËœstergade|     DKK|   CIRRUS|Withdrawal|        null|        null|           Abybro|       Clear|        Sky is Clear|2017| 21|  18|            null|                6|       9440| 57.162|   9.73|              7031|     57.158|      9.737|        2625037|279.903|  1021.0|      68|        14|     297|      0|         0|       800|   13175|     1|           1|   21/Apr/2017|\n",
      "|      May| Saturday|    Active|    35|     Aabybro|  ÃƒËœstergade|     DKK|   CIRRUS|Withdrawal|        null|        null|           Abybro|       Clear|        Sky is Clear|2017|  6|   9|            null|                6|       9440| 57.162|   9.73|              5442|     57.158|      9.737|        2625037|287.094|  1030.0|      69|         1|     347|      0|         0|       800|   14062|     1|           1|    6/May/2017|\n",
      "|      May|Wednesday|    Active|    35|     Aabybro|  ÃƒËœstergade|     DKK|   CIRRUS|Withdrawal|        null|        null|           Abybro|       Clear|        Sky is Clear|2017| 24|  10|            null|                6|       9440| 57.162|   9.73|              1343|     57.158|      9.737|        2625037| 289.15|  1015.0|      67|         4|     280|      0|         0|       800|   14505|     1|           1|   24/May/2017|\n",
      "|      May| Thursday|    Active|    35|     Aabybro|  ÃƒËœstergade|     DKK|   CIRRUS|Withdrawal|        null|        null|           Abybro|       Clear|        Sky is Clear|2017| 25|  15|            null|                6|       9440| 57.162|   9.73|              9232|     57.158|      9.737|        2625037|291.349|  1029.0|      63|         8|     292|      0|         0|       800|   14671|     1|           1|   25/May/2017|\n",
      "|      May| Saturday|    Active|    35|     Aabybro|  ÃƒËœstergade|     DKK|   CIRRUS|Withdrawal|        null|        null|           Abybro|       Clear|        Sky is Clear|2017| 27|  15|            null|                6|       9440| 57.162|   9.73|               754|     57.158|      9.737|        2625037|296.196|  1031.0|      60|         2|     164|      0|         0|       800|   14895|     1|           1|   27/May/2017|\n",
      "|      May| Saturday|    Active|    35|     Aabybro|  ÃƒËœstergade|     DKK|   CIRRUS|Withdrawal|        null|        null|           Abybro|       Clear|        Sky is Clear|2017| 27|  15|            null|                6|       9440| 57.162|   9.73|              9146|     57.158|      9.737|        2625037|296.196|  1031.0|      60|         2|     164|      0|         0|       800|   14896|     1|           1|   27/May/2017|\n",
      "|     June|Wednesday|    Active|    35|     Aabybro|  ÃƒËœstergade|     DKK|   CIRRUS|Withdrawal|        null|        null|           Abybro|       Clear|        Sky is Clear|2017| 14|  15|            null|                6|       9440| 57.162|   9.73|              4264|     57.158|      9.737|        2625037| 291.15|  1016.0|      68|         9|     260|      0|         0|       800|   15259|     1|           1|   14/Jun/2017|\n",
      "+---------+---------+----------+------+------------+--------------+--------+---------+----------+------------+------------+-----------------+------------+--------------------+----+---+----+----------------+-----------------+-----------+-------+-------+------------------+-----------+-----------+---------------+-------+--------+--------+----------+--------+-------+----------+----------+--------+------+------------+--------------+\n",
      "only showing top 20 rows"
     ]
    }
   ],
   "source": [
    "df5.show()"
   ]
  },
  {
   "cell_type": "code",
   "execution_count": 118,
   "id": "9eb8ebcc-64d7-4682-97b8-7c28b90d3235",
   "metadata": {
    "execution": {
     "iopub.execute_input": "2022-02-09T12:09:02.736921Z",
     "iopub.status.busy": "2022-02-09T12:09:02.736678Z",
     "iopub.status.idle": "2022-02-09T12:09:03.025941Z",
     "shell.execute_reply": "2022-02-09T12:09:02.983897Z",
     "shell.execute_reply.started": "2022-02-09T12:09:02.736894Z"
    },
    "tags": []
   },
   "outputs": [
    {
     "data": {
      "application/vnd.jupyter.widget-view+json": {
       "model_id": "36322434069645cd9a8785c873d11e54",
       "version_major": 2,
       "version_minor": 0
      },
      "text/plain": [
       "VBox()"
      ]
     },
     "metadata": {},
     "output_type": "display_data"
    },
    {
     "data": {
      "application/vnd.jupyter.widget-view+json": {
       "model_id": "",
       "version_major": 2,
       "version_minor": 0
      },
      "text/plain": [
       "FloatProgress(value=0.0, bar_style='info', description='Progress:', layout=Layout(height='25px', width='50%'),…"
      ]
     },
     "metadata": {},
     "output_type": "display_data"
    }
   ],
   "source": [
    "pattern1 = \"dd/MMM/yyyy:HH:mm:ss ZZZZ\""
   ]
  },
  {
   "cell_type": "code",
   "execution_count": 132,
   "id": "a8f38b81-8ddc-45b6-9d0e-497fca42d2f0",
   "metadata": {
    "execution": {
     "iopub.execute_input": "2022-02-09T12:31:30.474528Z",
     "iopub.status.busy": "2022-02-09T12:31:30.474283Z",
     "iopub.status.idle": "2022-02-09T12:31:30.648502Z",
     "shell.execute_reply": "2022-02-09T12:31:30.647660Z",
     "shell.execute_reply.started": "2022-02-09T12:31:30.474498Z"
    },
    "tags": []
   },
   "outputs": [
    {
     "data": {
      "application/vnd.jupyter.widget-view+json": {
       "model_id": "7d132eb46e9b424cb5177e50e2580966",
       "version_major": 2,
       "version_minor": 0
      },
      "text/plain": [
       "VBox()"
      ]
     },
     "metadata": {},
     "output_type": "display_data"
    },
    {
     "data": {
      "application/vnd.jupyter.widget-view+json": {
       "model_id": "",
       "version_major": 2,
       "version_minor": 0
      },
      "text/plain": [
       "FloatProgress(value=0.0, bar_style='info', description='Progress:', layout=Layout(height='25px', width='50%'),…"
      ]
     },
     "metadata": {},
     "output_type": "display_data"
    }
   ],
   "source": [
    "df5 = df5.drop('full_date_time')"
   ]
  },
  {
   "cell_type": "code",
   "execution_count": 168,
   "id": "9f7a79c8-e41e-489a-907f-c6da018181ec",
   "metadata": {
    "execution": {
     "iopub.execute_input": "2022-02-09T13:09:49.864337Z",
     "iopub.status.busy": "2022-02-09T13:09:49.864093Z",
     "iopub.status.idle": "2022-02-09T13:09:50.270314Z",
     "shell.execute_reply": "2022-02-09T13:09:50.269640Z",
     "shell.execute_reply.started": "2022-02-09T13:09:49.864308Z"
    },
    "tags": []
   },
   "outputs": [
    {
     "data": {
      "application/vnd.jupyter.widget-view+json": {
       "model_id": "cd004f3063cd4d968915cd6161f2f152",
       "version_major": 2,
       "version_minor": 0
      },
      "text/plain": [
       "VBox()"
      ]
     },
     "metadata": {},
     "output_type": "display_data"
    },
    {
     "data": {
      "application/vnd.jupyter.widget-view+json": {
       "model_id": "",
       "version_major": 2,
       "version_minor": 0
      },
      "text/plain": [
       "FloatProgress(value=0.0, bar_style='info', description='Progress:', layout=Layout(height='25px', width='50%'),…"
      ]
     },
     "metadata": {},
     "output_type": "display_data"
    }
   ],
   "source": [
    "df5 = df5.withColumn('date_id', lit(None).cast(IntegerType()))\n",
    "df5 =  df5.withColumn(\"date_id\", rank().over(Window.partitionBy(\"year\").orderBy([\"month\",\"day\"])))"
   ]
  },
  {
   "cell_type": "code",
   "execution_count": 169,
   "id": "3a240997-0d37-4bd1-bbec-821245e07ded",
   "metadata": {
    "execution": {
     "iopub.execute_input": "2022-02-09T13:09:52.927505Z",
     "iopub.status.busy": "2022-02-09T13:09:52.927202Z",
     "iopub.status.idle": "2022-02-09T13:10:53.880624Z",
     "shell.execute_reply": "2022-02-09T13:10:53.879945Z",
     "shell.execute_reply.started": "2022-02-09T13:09:52.927467Z"
    },
    "tags": []
   },
   "outputs": [
    {
     "data": {
      "application/vnd.jupyter.widget-view+json": {
       "model_id": "f10f97d788b340d6a76fd4c5f4a3951a",
       "version_major": 2,
       "version_minor": 0
      },
      "text/plain": [
       "VBox()"
      ]
     },
     "metadata": {},
     "output_type": "display_data"
    },
    {
     "data": {
      "application/vnd.jupyter.widget-view+json": {
       "model_id": "",
       "version_major": 2,
       "version_minor": 0
      },
      "text/plain": [
       "FloatProgress(value=0.0, bar_style='info', description='Progress:', layout=Layout(height='25px', width='50%'),…"
      ]
     },
     "metadata": {},
     "output_type": "display_data"
    },
    {
     "name": "stdout",
     "output_type": "stream",
     "text": [
      "+-----+--------+----------+------+------------+--------------+--------+--------------------+----------+------------+------------+-----------------+------------+-------------------+----+---+----+----------------+-----------------+-----------+-------+-------+------------------+-----------+-----------+---------------+-------+--------+--------+----------+--------+-------+----------+----------+--------+-------+------------+--------------+-------+\n",
      "|month| weekday|atm_status|atm_id|atm_location|atm_streetname|currency|           card_type|   service|message_code|message_text|weather_city_name|weather_main|weather_description|year|day|hour|atm_manufacturer|atm_street_number|atm_zipcode|atm_lat|atm_lon|transaction_amount|weather_lat|weather_lon|weather_city_id|   temp|pressure|humidity|wind_speed|wind_deg|rain_3h|clouds_all|weather_id|trans_id| loc_id|card_type_id|full_date_time|date_id|\n",
      "+-----+--------+----------+------+------------+--------------+--------+--------------------+----------+------------+------------+-----------------+------------+-------------------+----+---+----+----------------+-----------------+-----------+-------+-------+------------------+-----------+-----------+---------------+-------+--------+--------+----------+--------+-------+----------+----------+--------+-------+------------+--------------+-------+\n",
      "|April|Saturday|  Inactive|    50|      Aarhus|SÃƒÂ¸nder Alle|     DKK|              CIRRUS|Withdrawal|        null|        null|            Arhus|      Clouds|   scattered clouds|2017|  1|  11|            null|               11|       8000| 56.153| 10.206|              9028|     56.157|     10.211|        2624652| 287.15|  1011.0|      71|         4|     240|      0|        48|       802|   16886| 128443|           1|    1/Apr/2017|      1|\n",
      "|April|Saturday|    Active|    58| StÃƒÂ¸vring|   Baunebakken|     DKK|Visa Dankort - on-us|Withdrawal|        null|        null|         Stovring|      Clouds|    overcast clouds|2017|  1|  14|            null|                4|       9530|  56.89|  9.836|              1767|     56.885|      9.838|        2612500|286.114|  1021.0|      71|         4|     247|      0|        88|       804|   32488|1936003|     1718634|    1/Apr/2017|      1|\n",
      "|April|Saturday|    Active|    49|    Bindslev|   NÃƒÂ¸rrebro|     DKK|              CIRRUS|Withdrawal|        null|        null|           Sindal|      Clouds|      broken clouds|2017|  1|   8|            null|               18|       9881| 57.541|   10.2|              5085|     57.471|     10.203|        2614010|282.792|  1021.0|     100|         3|     234|      0|        64|       803|   16189| 264080|           1|    1/Apr/2017|      1|\n",
      "|April|Saturday|    Active|    58| StÃƒÂ¸vring|   Baunebakken|     DKK|Visa Dankort - on-us|Withdrawal|        null|        null|         Stovring|      Clouds|    overcast clouds|2017|  1|  14|            null|                4|       9530|  56.89|  9.836|              3160|     56.885|      9.838|        2612500|286.114|  1021.0|      71|         4|     247|      0|        88|       804|   32489|1936003|     1718634|    1/Apr/2017|      1|\n",
      "|April|Saturday|    Active|    49|    Bindslev|   NÃƒÂ¸rrebro|     DKK|              CIRRUS|Withdrawal|        null|        null|           Sindal|      Clouds|      broken clouds|2017|  1|  17|            null|               18|       9881| 57.541|   10.2|              4140|     57.471|     10.203|        2614010|284.047|  1022.0|      69|         3|     251|      0|        64|       803|   16219| 264080|           1|    1/Apr/2017|      1|\n",
      "+-----+--------+----------+------+------------+--------------+--------+--------------------+----------+------------+------------+-----------------+------------+-------------------+----+---+----+----------------+-----------------+-----------+-------+-------+------------------+-----------+-----------+---------------+-------+--------+--------+----------+--------+-------+----------+----------+--------+-------+------------+--------------+-------+\n",
      "only showing top 5 rows"
     ]
    }
   ],
   "source": [
    "df5.show(5)"
   ]
  },
  {
   "cell_type": "code",
   "execution_count": 170,
   "id": "2a6eeaf9-d2df-43e4-b74d-0ff7634a04b7",
   "metadata": {
    "execution": {
     "iopub.execute_input": "2022-02-09T13:11:37.315616Z",
     "iopub.status.busy": "2022-02-09T13:11:37.315376Z",
     "iopub.status.idle": "2022-02-09T13:11:37.547595Z",
     "shell.execute_reply": "2022-02-09T13:11:37.546825Z",
     "shell.execute_reply.started": "2022-02-09T13:11:37.315589Z"
    },
    "tags": []
   },
   "outputs": [
    {
     "data": {
      "application/vnd.jupyter.widget-view+json": {
       "model_id": "c352866e6134423b8cc8f8ab40bbd568",
       "version_major": 2,
       "version_minor": 0
      },
      "text/plain": [
       "VBox()"
      ]
     },
     "metadata": {},
     "output_type": "display_data"
    },
    {
     "data": {
      "application/vnd.jupyter.widget-view+json": {
       "model_id": "",
       "version_major": 2,
       "version_minor": 0
      },
      "text/plain": [
       "FloatProgress(value=0.0, bar_style='info', description='Progress:', layout=Layout(height='25px', width='50%'),…"
      ]
     },
     "metadata": {},
     "output_type": "display_data"
    }
   ],
   "source": [
    "df5 = df5.drop('trans_id')"
   ]
  },
  {
   "cell_type": "code",
   "execution_count": 171,
   "id": "58ddd7c7-aa95-40af-aaad-3975418b68a5",
   "metadata": {
    "execution": {
     "iopub.execute_input": "2022-02-09T13:11:45.290354Z",
     "iopub.status.busy": "2022-02-09T13:11:45.290079Z",
     "iopub.status.idle": "2022-02-09T13:11:45.679759Z",
     "shell.execute_reply": "2022-02-09T13:11:45.678877Z",
     "shell.execute_reply.started": "2022-02-09T13:11:45.290326Z"
    },
    "tags": []
   },
   "outputs": [
    {
     "data": {
      "application/vnd.jupyter.widget-view+json": {
       "model_id": "e225aab2859245199c49437922fab5f4",
       "version_major": 2,
       "version_minor": 0
      },
      "text/plain": [
       "VBox()"
      ]
     },
     "metadata": {},
     "output_type": "display_data"
    },
    {
     "data": {
      "application/vnd.jupyter.widget-view+json": {
       "model_id": "",
       "version_major": 2,
       "version_minor": 0
      },
      "text/plain": [
       "FloatProgress(value=0.0, bar_style='info', description='Progress:', layout=Layout(height='25px', width='50%'),…"
      ]
     },
     "metadata": {},
     "output_type": "display_data"
    }
   ],
   "source": [
    "df5 = df5.withColumn('trans_id', lit(None).cast(IntegerType()))\n",
    "df5 =  df5.withColumn(\"trans_id\", row_number().over(Window.partitionBy(\"atm_location\").orderBy(\"weather_id\")))"
   ]
  },
  {
   "cell_type": "code",
   "execution_count": 172,
   "id": "3ec100dc-6c77-4c9d-a95b-e2f8adbacad1",
   "metadata": {
    "execution": {
     "iopub.execute_input": "2022-02-09T13:11:47.839552Z",
     "iopub.status.busy": "2022-02-09T13:11:47.839293Z",
     "iopub.status.idle": "2022-02-09T13:12:46.141415Z",
     "shell.execute_reply": "2022-02-09T13:12:46.140605Z",
     "shell.execute_reply.started": "2022-02-09T13:11:47.839523Z"
    },
    "tags": []
   },
   "outputs": [
    {
     "data": {
      "application/vnd.jupyter.widget-view+json": {
       "model_id": "309655e122c44ab299ed21bbd73ac033",
       "version_major": 2,
       "version_minor": 0
      },
      "text/plain": [
       "VBox()"
      ]
     },
     "metadata": {},
     "output_type": "display_data"
    },
    {
     "data": {
      "application/vnd.jupyter.widget-view+json": {
       "model_id": "",
       "version_major": 2,
       "version_minor": 0
      },
      "text/plain": [
       "FloatProgress(value=0.0, bar_style='info', description='Progress:', layout=Layout(height='25px', width='50%'),…"
      ]
     },
     "metadata": {},
     "output_type": "display_data"
    },
    {
     "name": "stdout",
     "output_type": "stream",
     "text": [
      "+--------+--------+----------+------+------------+---------------+--------+--------------------+----------+------------+--------------------+-----------------+------------+-------------------+----+---+----+----------------+-----------------+-----------+-------+-------+------------------+-----------+-----------+---------------+----+--------+--------+----------+--------+-------+----------+----------+------+------------+--------------+-------+--------+\n",
      "|   month| weekday|atm_status|atm_id|atm_location| atm_streetname|currency|           card_type|   service|message_code|        message_text|weather_city_name|weather_main|weather_description|year|day|hour|atm_manufacturer|atm_street_number|atm_zipcode|atm_lat|atm_lon|transaction_amount|weather_lat|weather_lon|weather_city_id|temp|pressure|humidity|wind_speed|wind_deg|rain_3h|clouds_all|weather_id|loc_id|card_type_id|full_date_time|date_id|trans_id|\n",
      "+--------+--------+----------+------+------------+---------------+--------+--------------------+----------+------------+--------------------+-----------------+------------+-------------------+----+---+----+----------------+-----------------+-----------+-------+-------+------------------+-----------+-----------+---------------+----+--------+--------+----------+--------+-------+----------+----------+------+------------+--------------+-------+--------+\n",
      "|   April|  Monday|    Active|    43|        Aars|Himmerlandsgade|     DKK|Visa Dankort - on-us|Withdrawal|        4017|Suspected malfunc...|             null|        null|               null|2017|  3|  11|            null|               70|       9600| 56.803|  9.518|               149|       null|       null|           null|null|    null|    null|      null|    null|   null|      null|      null|157225|     1718634|    3/Apr/2017|  15690|       1|\n",
      "|   April|  Monday|    Active|    43|        Aars|Himmerlandsgade|     DKK|Visa Dankort - on-us|Withdrawal|        4017|Suspected malfunc...|             null|        null|               null|2017|  3|  11|            null|               70|       9600| 56.803|  9.518|              1087|       null|       null|           null|null|    null|    null|      null|    null|   null|      null|      null|157225|     1718634|    3/Apr/2017|  15690|       2|\n",
      "|   April|  Monday|    Active|    43|        Aars|Himmerlandsgade|     DKK|Visa Dankort - on-us|Withdrawal|        4017|Suspected malfunc...|             null|        null|               null|2017|  3|  15|            null|               70|       9600| 56.803|  9.518|              4864|       null|       null|           null|null|    null|    null|      null|    null|   null|      null|      null|157225|     1718634|    3/Apr/2017|  15690|       3|\n",
      "|December|Saturday|    Active|    43|        Aars|Himmerlandsgade|     DKK|  Mastercard - on-us|Withdrawal|        4017|Suspected malfunc...|             null|        null|               null|2017| 30|   4|            null|               70|       9600| 56.803|  9.518|              3460|       null|       null|           null|null|    null|    null|      null|    null|   null|      null|      null|157225|      661740|   30/Dec/2017| 623255|       4|\n",
      "|    June|  Monday|    Active|    43|        Aars|Himmerlandsgade|     DKK|          MasterCard|Withdrawal|        4017|Suspected malfunc...|             null|        null|               null|2017| 12|  15|            null|               70|       9600| 56.803|  9.518|              3220|       null|       null|           null|null|    null|    null|      null|    null|   null|      null|      null|157225|      261233|   12/Jun/2017|1309836|       5|\n",
      "+--------+--------+----------+------+------------+---------------+--------+--------------------+----------+------------+--------------------+-----------------+------------+-------------------+----+---+----+----------------+-----------------+-----------+-------+-------+------------------+-----------+-----------+---------------+----+--------+--------+----------+--------+-------+----------+----------+------+------------+--------------+-------+--------+\n",
      "only showing top 5 rows"
     ]
    }
   ],
   "source": [
    "df5.show(5)"
   ]
  },
  {
   "cell_type": "code",
   "execution_count": 154,
   "id": "22391034-f37b-4dc0-9dc2-7437ccd3a9ce",
   "metadata": {
    "execution": {
     "iopub.execute_input": "2022-02-09T12:58:33.367454Z",
     "iopub.status.busy": "2022-02-09T12:58:33.367095Z",
     "iopub.status.idle": "2022-02-09T12:59:01.356633Z",
     "shell.execute_reply": "2022-02-09T12:59:01.355838Z",
     "shell.execute_reply.started": "2022-02-09T12:58:33.367420Z"
    },
    "tags": []
   },
   "outputs": [
    {
     "data": {
      "application/vnd.jupyter.widget-view+json": {
       "model_id": "73170fe1a27f43d09cbf5e0e36055207",
       "version_major": 2,
       "version_minor": 0
      },
      "text/plain": [
       "VBox()"
      ]
     },
     "metadata": {},
     "output_type": "display_data"
    },
    {
     "data": {
      "application/vnd.jupyter.widget-view+json": {
       "model_id": "",
       "version_major": 2,
       "version_minor": 0
      },
      "text/plain": [
       "FloatProgress(value=0.0, bar_style='info', description='Progress:', layout=Layout(height='25px', width='50%'),…"
      ]
     },
     "metadata": {},
     "output_type": "display_data"
    },
    {
     "name": "stdout",
     "output_type": "stream",
     "text": [
      "61821"
     ]
    }
   ],
   "source": [
    "df5.select(\"trans_id\").distinct().count()"
   ]
  },
  {
   "cell_type": "code",
   "execution_count": 173,
   "id": "684c5250-32c3-4c0d-942a-492705e7c120",
   "metadata": {
    "execution": {
     "iopub.execute_input": "2022-02-09T13:13:14.384196Z",
     "iopub.status.busy": "2022-02-09T13:13:14.383841Z",
     "iopub.status.idle": "2022-02-09T13:13:14.776560Z",
     "shell.execute_reply": "2022-02-09T13:13:14.775869Z",
     "shell.execute_reply.started": "2022-02-09T13:13:14.384163Z"
    },
    "tags": []
   },
   "outputs": [
    {
     "data": {
      "application/vnd.jupyter.widget-view+json": {
       "model_id": "bf329669e237402a951c1ca486dd8a26",
       "version_major": 2,
       "version_minor": 0
      },
      "text/plain": [
       "VBox()"
      ]
     },
     "metadata": {},
     "output_type": "display_data"
    },
    {
     "data": {
      "application/vnd.jupyter.widget-view+json": {
       "model_id": "",
       "version_major": 2,
       "version_minor": 0
      },
      "text/plain": [
       "FloatProgress(value=0.0, bar_style='info', description='Progress:', layout=Layout(height='25px', width='50%'),…"
      ]
     },
     "metadata": {},
     "output_type": "display_data"
    }
   ],
   "source": [
    "df5.registerTempTable(\"bank_data2\")"
   ]
  },
  {
   "cell_type": "code",
   "execution_count": 174,
   "id": "c3e96cdc-b9e3-4014-8024-77ff45f32df5",
   "metadata": {
    "execution": {
     "iopub.execute_input": "2022-02-09T13:13:21.102151Z",
     "iopub.status.busy": "2022-02-09T13:13:21.101901Z",
     "iopub.status.idle": "2022-02-09T13:14:13.320123Z",
     "shell.execute_reply": "2022-02-09T13:14:13.319298Z",
     "shell.execute_reply.started": "2022-02-09T13:13:21.102121Z"
    },
    "tags": []
   },
   "outputs": [
    {
     "data": {
      "application/vnd.jupyter.widget-view+json": {
       "model_id": "280aa1da294642f49ba5425d32686bd8",
       "version_major": 2,
       "version_minor": 0
      },
      "text/plain": [
       "VBox()"
      ]
     },
     "metadata": {},
     "output_type": "display_data"
    },
    {
     "data": {
      "application/vnd.jupyter.widget-view+json": {
       "model_id": "",
       "version_major": 2,
       "version_minor": 0
      },
      "text/plain": [
       "FloatProgress(value=0.0, bar_style='info', description='Progress:', layout=Layout(height='25px', width='50%'),…"
      ]
     },
     "metadata": {},
     "output_type": "display_data"
    },
    {
     "name": "stdout",
     "output_type": "stream",
     "text": [
      "+-----+-------+----------+------+------------+---------------+--------+--------------------+----------+------------+--------------------+-----------------+------------+-------------------+----+---+----+----------------+-----------------+-----------+-------+-------+------------------+-----------+-----------+---------------+----+--------+--------+----------+--------+-------+----------+----------+------+------------+--------------+-------+--------+\n",
      "|month|weekday|atm_status|atm_id|atm_location| atm_streetname|currency|           card_type|   service|message_code|        message_text|weather_city_name|weather_main|weather_description|year|day|hour|atm_manufacturer|atm_street_number|atm_zipcode|atm_lat|atm_lon|transaction_amount|weather_lat|weather_lon|weather_city_id|temp|pressure|humidity|wind_speed|wind_deg|rain_3h|clouds_all|weather_id|loc_id|card_type_id|full_date_time|date_id|trans_id|\n",
      "+-----+-------+----------+------+------------+---------------+--------+--------------------+----------+------------+--------------------+-----------------+------------+-------------------+----+---+----+----------------+-----------------+-----------+-------+-------+------------------+-----------+-----------+---------------+----+--------+--------+----------+--------+-------+----------+----------+------+------------+--------------+-------+--------+\n",
      "|April| Monday|    Active|    43|        Aars|Himmerlandsgade|     DKK|Visa Dankort - on-us|Withdrawal|        4017|Suspected malfunc...|             null|        null|               null|2017|  3|  11|            null|               70|       9600| 56.803|  9.518|               149|       null|       null|           null|null|    null|    null|      null|    null|   null|      null|      null|157225|     1718634|    3/Apr/2017|  15690|       1|\n",
      "|April| Monday|    Active|    43|        Aars|Himmerlandsgade|     DKK|Visa Dankort - on-us|Withdrawal|        4017|Suspected malfunc...|             null|        null|               null|2017|  3|  11|            null|               70|       9600| 56.803|  9.518|              1087|       null|       null|           null|null|    null|    null|      null|    null|   null|      null|      null|157225|     1718634|    3/Apr/2017|  15690|       2|\n",
      "|April| Monday|    Active|    43|        Aars|Himmerlandsgade|     DKK|Visa Dankort - on-us|Withdrawal|        4017|Suspected malfunc...|             null|        null|               null|2017|  3|  15|            null|               70|       9600| 56.803|  9.518|              4864|       null|       null|           null|null|    null|    null|      null|    null|   null|      null|      null|157225|     1718634|    3/Apr/2017|  15690|       3|\n",
      "+-----+-------+----------+------+------------+---------------+--------+--------------------+----------+------------+--------------------+-----------------+------------+-------------------+----+---+----+----------------+-----------------+-----------+-------+-------+------------------+-----------+-----------+---------------+----+--------+--------+----------+--------+-------+----------+----------+------+------------+--------------+-------+--------+\n",
      "only showing top 3 rows"
     ]
    }
   ],
   "source": [
    "spark.sql(\"SELECT * FROM bank_data2\").show(3)"
   ]
  },
  {
   "cell_type": "code",
   "execution_count": 175,
   "id": "d287e81f-2927-4485-89b7-8a46866a2368",
   "metadata": {
    "execution": {
     "iopub.execute_input": "2022-02-09T13:15:15.159891Z",
     "iopub.status.busy": "2022-02-09T13:15:15.159577Z",
     "iopub.status.idle": "2022-02-09T13:15:15.602957Z",
     "shell.execute_reply": "2022-02-09T13:15:15.602174Z",
     "shell.execute_reply.started": "2022-02-09T13:15:15.159797Z"
    },
    "tags": []
   },
   "outputs": [
    {
     "data": {
      "application/vnd.jupyter.widget-view+json": {
       "model_id": "6715c26829d344879ace37a5367b911c",
       "version_major": 2,
       "version_minor": 0
      },
      "text/plain": [
       "VBox()"
      ]
     },
     "metadata": {},
     "output_type": "display_data"
    },
    {
     "data": {
      "application/vnd.jupyter.widget-view+json": {
       "model_id": "",
       "version_major": 2,
       "version_minor": 0
      },
      "text/plain": [
       "FloatProgress(value=0.0, bar_style='info', description='Progress:', layout=Layout(height='25px', width='50%'),…"
      ]
     },
     "metadata": {},
     "output_type": "display_data"
    },
    {
     "name": "stdout",
     "output_type": "stream",
     "text": [
      "DataFrame[]"
     ]
    }
   ],
   "source": [
    "sqlContext.sql(\"CREATE TABLE IF NOT EXISTS DIMLOCATION(location_id INT, location STRING, streetname STRING, street_number INT, zipcode INT, lat FLOAT, lon FLOAT) ROW FORMAT DELIMITED FIELDS TERMINATED BY ',' LINES TERMINATED BY '\\n'\")"
   ]
  },
  {
   "cell_type": "code",
   "execution_count": 178,
   "id": "7763f0ab-bc3a-42d7-9de4-ad06010f3bfb",
   "metadata": {
    "execution": {
     "iopub.execute_input": "2022-02-09T13:17:07.006677Z",
     "iopub.status.busy": "2022-02-09T13:17:07.006426Z",
     "iopub.status.idle": "2022-02-09T13:17:07.998778Z",
     "shell.execute_reply": "2022-02-09T13:17:07.998116Z",
     "shell.execute_reply.started": "2022-02-09T13:17:07.006649Z"
    },
    "tags": []
   },
   "outputs": [
    {
     "data": {
      "application/vnd.jupyter.widget-view+json": {
       "model_id": "850b26c8f7cc49a5b5f1e8ad51515450",
       "version_major": 2,
       "version_minor": 0
      },
      "text/plain": [
       "VBox()"
      ]
     },
     "metadata": {},
     "output_type": "display_data"
    },
    {
     "data": {
      "application/vnd.jupyter.widget-view+json": {
       "model_id": "",
       "version_major": 2,
       "version_minor": 0
      },
      "text/plain": [
       "FloatProgress(value=0.0, bar_style='info', description='Progress:', layout=Layout(height='25px', width='50%'),…"
      ]
     },
     "metadata": {},
     "output_type": "display_data"
    },
    {
     "name": "stdout",
     "output_type": "stream",
     "text": [
      "+-----------+------------------+--------------------+-------------+-------+------+------+\n",
      "|location_id|          location|          streetname|street_number|zipcode|   lat|   lon|\n",
      "+-----------+------------------+--------------------+-------------+-------+------+------+\n",
      "|          1|        NÃƒÂ¦stved|         Farimagsvej|            8|   4700| 55.23|11.761|\n",
      "|          2|          Vejgaard|          Hadsundvej|           20|   9000|57.048| 9.935|\n",
      "|          2|          Vejgaard|          Hadsundvej|           20|   9000|57.048| 9.935|\n",
      "|          3|             Ikast| RÃƒÂ¥dhusstrÃƒÂ¦det|           12|   7430|56.139| 9.158|\n",
      "|          4|        Svogerslev|        BrÃƒÂ¸nsager|            1|   4000|55.642| 12.08|\n",
      "|          5|              Nibe|              Torvet|            1|   9240|56.981| 9.639|\n",
      "|          6|        Fredericia|    SjÃƒÂ¦llandsgade|           33|   7000|55.566| 9.753|\n",
      "|          7|         Hjallerup|   Hjallerup Centret|           18|   9320|57.165|10.146|\n",
      "|          8|       GlyngÃƒÂ¸re|         FÃƒÂ¦rgevej|            1|   7870|56.793| 8.853|\n",
      "|          9|           Hadsund|           Storegade|           12|   9560|56.715|10.117|\n",
      "|         10|    NÃƒÂ¸rresundby|              Torvet|            6|   9400|57.048| 9.919|\n",
      "|         11|         Sauersvej|Fridtjof Nansens Vej|            2|   9210|57.048| 9.935|\n",
      "|          2|          Vejgaard|          Hadsundvej|           20|   9000|57.048| 9.935|\n",
      "|         12|ÃƒËœsterÃƒÂ¥  Duus|        ÃƒËœsterÃƒÂ¥|           12|   9000|57.048| 9.919|\n",
      "|         13|           SÃƒÂ¦by|          Vestergade|            3|   9300|57.441|10.537|\n",
      "|         14|        HÃƒÂ¸rning|        NÃƒÂ¸rrealle|           12|   8362|56.157|10.211|\n",
      "|         15|            Vestre|           Kastetvej|           36|   9000|57.048| 9.919|\n",
      "|         12|ÃƒËœsterÃƒÂ¥  Duus|        ÃƒËœsterÃƒÂ¥|           12|   9000|57.048| 9.919|\n",
      "|         16|             Skive|            Adelgade|            8|   7800|56.567| 9.033|\n",
      "|         17|           Randers|        ÃƒËœstervold|           16|   8900|56.715|10.117|\n",
      "+-----------+------------------+--------------------+-------------+-------+------+------+\n",
      "only showing top 20 rows"
     ]
    }
   ],
   "source": [
    "spark.sql(\"select * from DIMLOCATION\").show()"
   ]
  },
  {
   "cell_type": "code",
   "execution_count": 218,
   "id": "0ccc9653-af14-4b5d-80fb-6bfd4c0f5e5e",
   "metadata": {
    "execution": {
     "iopub.execute_input": "2022-02-09T14:43:19.540907Z",
     "iopub.status.busy": "2022-02-09T14:43:19.540663Z",
     "iopub.status.idle": "2022-02-09T14:43:19.761720Z",
     "shell.execute_reply": "2022-02-09T14:43:19.760861Z",
     "shell.execute_reply.started": "2022-02-09T14:43:19.540879Z"
    }
   },
   "outputs": [
    {
     "data": {
      "application/vnd.jupyter.widget-view+json": {
       "model_id": "85f5c9983c0d4b04a876e9e20ca933a5",
       "version_major": 2,
       "version_minor": 0
      },
      "text/plain": [
       "VBox()"
      ]
     },
     "metadata": {},
     "output_type": "display_data"
    },
    {
     "data": {
      "application/vnd.jupyter.widget-view+json": {
       "model_id": "",
       "version_major": 2,
       "version_minor": 0
      },
      "text/plain": [
       "FloatProgress(value=0.0, bar_style='info', description='Progress:', layout=Layout(height='25px', width='50%'),…"
      ]
     },
     "metadata": {},
     "output_type": "display_data"
    }
   ],
   "source": [
    "location = spark.sql(\"select * from DIMLOCATION\")"
   ]
  },
  {
   "cell_type": "code",
   "execution_count": 177,
   "id": "9b5e9c95-8a21-4a32-911c-faf7bd8be1e4",
   "metadata": {
    "execution": {
     "iopub.execute_input": "2022-02-09T13:16:21.401881Z",
     "iopub.status.busy": "2022-02-09T13:16:21.401615Z",
     "iopub.status.idle": "2022-02-09T13:16:55.609828Z",
     "shell.execute_reply": "2022-02-09T13:16:55.608933Z",
     "shell.execute_reply.started": "2022-02-09T13:16:21.401851Z"
    },
    "tags": []
   },
   "outputs": [
    {
     "data": {
      "application/vnd.jupyter.widget-view+json": {
       "model_id": "d2c6e66bf54441d99ca5bb2eed541507",
       "version_major": 2,
       "version_minor": 0
      },
      "text/plain": [
       "VBox()"
      ]
     },
     "metadata": {},
     "output_type": "display_data"
    },
    {
     "data": {
      "application/vnd.jupyter.widget-view+json": {
       "model_id": "",
       "version_major": 2,
       "version_minor": 0
      },
      "text/plain": [
       "FloatProgress(value=0.0, bar_style='info', description='Progress:', layout=Layout(height='25px', width='50%'),…"
      ]
     },
     "metadata": {},
     "output_type": "display_data"
    },
    {
     "name": "stdout",
     "output_type": "stream",
     "text": [
      "DataFrame[]"
     ]
    }
   ],
   "source": [
    "spark.sql(\"insert into DIMLOCATION SELECT loc_id, atm_location, atm_streetname, atm_street_number, atm_zipcode, weather_lat, weather_lon from bank_data2\")"
   ]
  },
  {
   "cell_type": "code",
   "execution_count": 179,
   "id": "45c2a0c2-1dc3-4a42-8283-83346865bbca",
   "metadata": {
    "execution": {
     "iopub.execute_input": "2022-02-09T13:17:52.047737Z",
     "iopub.status.busy": "2022-02-09T13:17:52.047433Z",
     "iopub.status.idle": "2022-02-09T13:17:52.641556Z",
     "shell.execute_reply": "2022-02-09T13:17:52.640860Z",
     "shell.execute_reply.started": "2022-02-09T13:17:52.047702Z"
    },
    "tags": []
   },
   "outputs": [
    {
     "data": {
      "application/vnd.jupyter.widget-view+json": {
       "model_id": "7204c0c014804de496ead56dc59991ee",
       "version_major": 2,
       "version_minor": 0
      },
      "text/plain": [
       "VBox()"
      ]
     },
     "metadata": {},
     "output_type": "display_data"
    },
    {
     "data": {
      "application/vnd.jupyter.widget-view+json": {
       "model_id": "",
       "version_major": 2,
       "version_minor": 0
      },
      "text/plain": [
       "FloatProgress(value=0.0, bar_style='info', description='Progress:', layout=Layout(height='25px', width='50%'),…"
      ]
     },
     "metadata": {},
     "output_type": "display_data"
    },
    {
     "name": "stdout",
     "output_type": "stream",
     "text": [
      "DataFrame[]"
     ]
    }
   ],
   "source": [
    "sqlContext.sql(\"CREATE TABLE IF NOT EXISTS DIMATM(atm_id INT, atm_number STRING, atm_manufacturer STRING, atm_location_id INT) ROW FORMAT DELIMITED FIELDS TERMINATED BY ',' LINES TERMINATED BY '\\n'\")"
   ]
  },
  {
   "cell_type": "code",
   "execution_count": 180,
   "id": "aa77ff9b-c13c-461b-8466-d94d0096fe61",
   "metadata": {
    "execution": {
     "iopub.execute_input": "2022-02-09T13:21:17.139936Z",
     "iopub.status.busy": "2022-02-09T13:21:17.139700Z",
     "iopub.status.idle": "2022-02-09T13:21:49.039171Z",
     "shell.execute_reply": "2022-02-09T13:21:49.038320Z",
     "shell.execute_reply.started": "2022-02-09T13:21:17.139909Z"
    }
   },
   "outputs": [
    {
     "data": {
      "application/vnd.jupyter.widget-view+json": {
       "model_id": "d2a574c3f09b46e2af1b3589b4d651d3",
       "version_major": 2,
       "version_minor": 0
      },
      "text/plain": [
       "VBox()"
      ]
     },
     "metadata": {},
     "output_type": "display_data"
    },
    {
     "data": {
      "application/vnd.jupyter.widget-view+json": {
       "model_id": "",
       "version_major": 2,
       "version_minor": 0
      },
      "text/plain": [
       "FloatProgress(value=0.0, bar_style='info', description='Progress:', layout=Layout(height='25px', width='50%'),…"
      ]
     },
     "metadata": {},
     "output_type": "display_data"
    },
    {
     "name": "stdout",
     "output_type": "stream",
     "text": [
      "DataFrame[]"
     ]
    }
   ],
   "source": [
    "spark.sql(\"insert into DIMATM SELECT atm_id, atm_street_number, atm_manufacturer, loc_id from bank_data2\")"
   ]
  },
  {
   "cell_type": "code",
   "execution_count": 181,
   "id": "ce563e7e-4c8b-445f-bd03-1bc7716d2a76",
   "metadata": {
    "execution": {
     "iopub.execute_input": "2022-02-09T13:22:05.813548Z",
     "iopub.status.busy": "2022-02-09T13:22:05.813257Z",
     "iopub.status.idle": "2022-02-09T13:22:06.789144Z",
     "shell.execute_reply": "2022-02-09T13:22:06.788440Z",
     "shell.execute_reply.started": "2022-02-09T13:22:05.813516Z"
    },
    "tags": []
   },
   "outputs": [
    {
     "data": {
      "application/vnd.jupyter.widget-view+json": {
       "model_id": "da3800d35ae149aba32212d5c8ea814b",
       "version_major": 2,
       "version_minor": 0
      },
      "text/plain": [
       "VBox()"
      ]
     },
     "metadata": {},
     "output_type": "display_data"
    },
    {
     "data": {
      "application/vnd.jupyter.widget-view+json": {
       "model_id": "",
       "version_major": 2,
       "version_minor": 0
      },
      "text/plain": [
       "FloatProgress(value=0.0, bar_style='info', description='Progress:', layout=Layout(height='25px', width='50%'),…"
      ]
     },
     "metadata": {},
     "output_type": "display_data"
    },
    {
     "name": "stdout",
     "output_type": "stream",
     "text": [
      "+------+----------+----------------+---------------+\n",
      "|atm_id|atm_number|atm_manufacturer|atm_location_id|\n",
      "+------+----------+----------------+---------------+\n",
      "|    35|         6|            null|              1|\n",
      "|    35|         6|            null|              1|\n",
      "|    35|         6|            null|              1|\n",
      "|    35|         6|            null|              1|\n",
      "|    35|         6|            null|              1|\n",
      "|    35|         6|            null|              1|\n",
      "|    35|         6|            null|              1|\n",
      "|    35|         6|            null|              1|\n",
      "|    35|         6|            null|              1|\n",
      "|    35|         6|            null|              1|\n",
      "|    35|         6|            null|              1|\n",
      "|    35|         6|            null|              1|\n",
      "|    35|         6|            null|              1|\n",
      "|    35|         6|            null|              1|\n",
      "|    35|         6|            null|              1|\n",
      "|    35|         6|            null|              1|\n",
      "|    35|         6|            null|              1|\n",
      "|    35|         6|            null|              1|\n",
      "|    35|         6|            null|              1|\n",
      "|    35|         6|            null|              1|\n",
      "+------+----------+----------------+---------------+\n",
      "only showing top 20 rows"
     ]
    }
   ],
   "source": [
    "spark.sql(\"SELECT * from DIMATM\").show()"
   ]
  },
  {
   "cell_type": "code",
   "execution_count": 220,
   "id": "f8108e0c-e51c-41c2-8e28-480366d76fb0",
   "metadata": {
    "execution": {
     "iopub.execute_input": "2022-02-09T14:46:25.577101Z",
     "iopub.status.busy": "2022-02-09T14:46:25.576828Z",
     "iopub.status.idle": "2022-02-09T14:46:25.758151Z",
     "shell.execute_reply": "2022-02-09T14:46:25.757377Z",
     "shell.execute_reply.started": "2022-02-09T14:46:25.577073Z"
    }
   },
   "outputs": [
    {
     "data": {
      "application/vnd.jupyter.widget-view+json": {
       "model_id": "306735d6f5d347f1b057bb80df110d5d",
       "version_major": 2,
       "version_minor": 0
      },
      "text/plain": [
       "VBox()"
      ]
     },
     "metadata": {},
     "output_type": "display_data"
    },
    {
     "data": {
      "application/vnd.jupyter.widget-view+json": {
       "model_id": "",
       "version_major": 2,
       "version_minor": 0
      },
      "text/plain": [
       "FloatProgress(value=0.0, bar_style='info', description='Progress:', layout=Layout(height='25px', width='50%'),…"
      ]
     },
     "metadata": {},
     "output_type": "display_data"
    }
   ],
   "source": [
    "atm = spark.sql(\"SELECT * from DIMATM\")"
   ]
  },
  {
   "cell_type": "code",
   "execution_count": 186,
   "id": "76920a2b-0997-4b1e-be9e-99f870b24c81",
   "metadata": {
    "execution": {
     "iopub.execute_input": "2022-02-09T13:31:04.090641Z",
     "iopub.status.busy": "2022-02-09T13:31:04.090392Z",
     "iopub.status.idle": "2022-02-09T13:31:04.253497Z",
     "shell.execute_reply": "2022-02-09T13:31:04.252836Z",
     "shell.execute_reply.started": "2022-02-09T13:31:04.090611Z"
    },
    "tags": []
   },
   "outputs": [
    {
     "data": {
      "application/vnd.jupyter.widget-view+json": {
       "model_id": "d9e7c063fb8946dfbedbb0831925331e",
       "version_major": 2,
       "version_minor": 0
      },
      "text/plain": [
       "VBox()"
      ]
     },
     "metadata": {},
     "output_type": "display_data"
    },
    {
     "data": {
      "application/vnd.jupyter.widget-view+json": {
       "model_id": "",
       "version_major": 2,
       "version_minor": 0
      },
      "text/plain": [
       "FloatProgress(value=0.0, bar_style='info', description='Progress:', layout=Layout(height='25px', width='50%'),…"
      ]
     },
     "metadata": {},
     "output_type": "display_data"
    },
    {
     "name": "stdout",
     "output_type": "stream",
     "text": [
      "DataFrame[]"
     ]
    }
   ],
   "source": [
    "sqlContext.sql(\"CREATE TABLE IF NOT EXISTS DIMDATE(date_id INT, full_date_time STRING, year INT, month STRING, day INT, hour INT, weekday STRING) ROW FORMAT DELIMITED FIELDS TERMINATED BY ',' LINES TERMINATED BY '\\n'\")"
   ]
  },
  {
   "cell_type": "code",
   "execution_count": 187,
   "id": "3051c14d-ef20-4eb3-a934-8283005290d3",
   "metadata": {
    "execution": {
     "iopub.execute_input": "2022-02-09T13:31:07.003357Z",
     "iopub.status.busy": "2022-02-09T13:31:07.003106Z",
     "iopub.status.idle": "2022-02-09T13:31:36.734572Z",
     "shell.execute_reply": "2022-02-09T13:31:36.733921Z",
     "shell.execute_reply.started": "2022-02-09T13:31:07.003328Z"
    },
    "tags": []
   },
   "outputs": [
    {
     "data": {
      "application/vnd.jupyter.widget-view+json": {
       "model_id": "b8f5608b1ed34ab3ba26f27c5946db3a",
       "version_major": 2,
       "version_minor": 0
      },
      "text/plain": [
       "VBox()"
      ]
     },
     "metadata": {},
     "output_type": "display_data"
    },
    {
     "data": {
      "application/vnd.jupyter.widget-view+json": {
       "model_id": "",
       "version_major": 2,
       "version_minor": 0
      },
      "text/plain": [
       "FloatProgress(value=0.0, bar_style='info', description='Progress:', layout=Layout(height='25px', width='50%'),…"
      ]
     },
     "metadata": {},
     "output_type": "display_data"
    },
    {
     "name": "stdout",
     "output_type": "stream",
     "text": [
      "DataFrame[]"
     ]
    }
   ],
   "source": [
    "spark.sql(\"insert into DIMDATE SELECT date_id, full_date_time, year, month, day, hour, weekday from bank_data2\")"
   ]
  },
  {
   "cell_type": "code",
   "execution_count": 188,
   "id": "0e355cc6-4d14-4788-91a7-a6bc6478367a",
   "metadata": {
    "execution": {
     "iopub.execute_input": "2022-02-09T13:31:55.306833Z",
     "iopub.status.busy": "2022-02-09T13:31:55.306589Z",
     "iopub.status.idle": "2022-02-09T13:31:56.201126Z",
     "shell.execute_reply": "2022-02-09T13:31:56.200358Z",
     "shell.execute_reply.started": "2022-02-09T13:31:55.306805Z"
    },
    "tags": []
   },
   "outputs": [
    {
     "data": {
      "application/vnd.jupyter.widget-view+json": {
       "model_id": "c2193af8841e4abca63771c118e1596e",
       "version_major": 2,
       "version_minor": 0
      },
      "text/plain": [
       "VBox()"
      ]
     },
     "metadata": {},
     "output_type": "display_data"
    },
    {
     "data": {
      "application/vnd.jupyter.widget-view+json": {
       "model_id": "",
       "version_major": 2,
       "version_minor": 0
      },
      "text/plain": [
       "FloatProgress(value=0.0, bar_style='info', description='Progress:', layout=Layout(height='25px', width='50%'),…"
      ]
     },
     "metadata": {},
     "output_type": "display_data"
    },
    {
     "name": "stdout",
     "output_type": "stream",
     "text": [
      "+-------+--------------+----+-----+---+----+--------+\n",
      "|date_id|full_date_time|year|month|day|hour| weekday|\n",
      "+-------+--------------+----+-----+---+----+--------+\n",
      "|      1|          null|2017|April|  1|   0|Saturday|\n",
      "|      1|          null|2017|April|  1|   0|Saturday|\n",
      "|      1|          null|2017|April|  1|   0|Saturday|\n",
      "|      1|          null|2017|April|  1|   0|Saturday|\n",
      "|      1|          null|2017|April|  1|   0|Saturday|\n",
      "|      1|          null|2017|April|  1|   0|Saturday|\n",
      "|      1|          null|2017|April|  1|   0|Saturday|\n",
      "|      1|          null|2017|April|  1|   0|Saturday|\n",
      "|      1|          null|2017|April|  1|   0|Saturday|\n",
      "|      1|          null|2017|April|  1|   0|Saturday|\n",
      "|      1|          null|2017|April|  1|   0|Saturday|\n",
      "|      1|          null|2017|April|  1|   0|Saturday|\n",
      "|      1|          null|2017|April|  1|   0|Saturday|\n",
      "|      1|          null|2017|April|  1|   0|Saturday|\n",
      "|      1|          null|2017|April|  1|   0|Saturday|\n",
      "|      1|          null|2017|April|  1|   0|Saturday|\n",
      "|      1|          null|2017|April|  1|   0|Saturday|\n",
      "|      1|          null|2017|April|  1|   0|Saturday|\n",
      "|      1|          null|2017|April|  1|   0|Saturday|\n",
      "|      1|          null|2017|April|  1|   0|Saturday|\n",
      "+-------+--------------+----+-----+---+----+--------+\n",
      "only showing top 20 rows"
     ]
    }
   ],
   "source": [
    "spark.sql(\"select * from DIMDATE\").show()"
   ]
  },
  {
   "cell_type": "code",
   "execution_count": 216,
   "id": "3c585739-7e93-4aa9-9842-dce232b41a3d",
   "metadata": {
    "execution": {
     "iopub.execute_input": "2022-02-09T14:40:02.448987Z",
     "iopub.status.busy": "2022-02-09T14:40:02.448726Z",
     "iopub.status.idle": "2022-02-09T14:40:02.667102Z",
     "shell.execute_reply": "2022-02-09T14:40:02.665850Z",
     "shell.execute_reply.started": "2022-02-09T14:40:02.448955Z"
    }
   },
   "outputs": [
    {
     "data": {
      "application/vnd.jupyter.widget-view+json": {
       "model_id": "bd198d6ffc0f45749ba29e04360c376a",
       "version_major": 2,
       "version_minor": 0
      },
      "text/plain": [
       "VBox()"
      ]
     },
     "metadata": {},
     "output_type": "display_data"
    },
    {
     "data": {
      "application/vnd.jupyter.widget-view+json": {
       "model_id": "",
       "version_major": 2,
       "version_minor": 0
      },
      "text/plain": [
       "FloatProgress(value=0.0, bar_style='info', description='Progress:', layout=Layout(height='25px', width='50%'),…"
      ]
     },
     "metadata": {},
     "output_type": "display_data"
    }
   ],
   "source": [
    "date = spark.sql(\"select * from DIMDATE\")"
   ]
  },
  {
   "cell_type": "code",
   "execution_count": 189,
   "id": "a69352f7-fc9a-4326-a769-e92ea5df8bb5",
   "metadata": {
    "execution": {
     "iopub.execute_input": "2022-02-09T13:33:05.187285Z",
     "iopub.status.busy": "2022-02-09T13:33:05.187021Z",
     "iopub.status.idle": "2022-02-09T13:33:05.358780Z",
     "shell.execute_reply": "2022-02-09T13:33:05.357843Z",
     "shell.execute_reply.started": "2022-02-09T13:33:05.187238Z"
    },
    "tags": []
   },
   "outputs": [
    {
     "data": {
      "application/vnd.jupyter.widget-view+json": {
       "model_id": "2fed87ff4eda46c3bea2fcf59c4cd968",
       "version_major": 2,
       "version_minor": 0
      },
      "text/plain": [
       "VBox()"
      ]
     },
     "metadata": {},
     "output_type": "display_data"
    },
    {
     "data": {
      "application/vnd.jupyter.widget-view+json": {
       "model_id": "",
       "version_major": 2,
       "version_minor": 0
      },
      "text/plain": [
       "FloatProgress(value=0.0, bar_style='info', description='Progress:', layout=Layout(height='25px', width='50%'),…"
      ]
     },
     "metadata": {},
     "output_type": "display_data"
    },
    {
     "name": "stdout",
     "output_type": "stream",
     "text": [
      "DataFrame[]"
     ]
    }
   ],
   "source": [
    "sqlContext.sql(\"CREATE TABLE IF NOT EXISTS DIMCARDTYPE(card_id INT, card_type STRING) ROW FORMAT DELIMITED FIELDS TERMINATED BY ',' LINES TERMINATED BY '\\n'\")"
   ]
  },
  {
   "cell_type": "code",
   "execution_count": 190,
   "id": "b9cb6885-11ac-4c4e-8425-0120cad0e9ff",
   "metadata": {
    "execution": {
     "iopub.execute_input": "2022-02-09T13:34:38.520780Z",
     "iopub.status.busy": "2022-02-09T13:34:38.520521Z",
     "iopub.status.idle": "2022-02-09T13:35:04.644665Z",
     "shell.execute_reply": "2022-02-09T13:35:04.643679Z",
     "shell.execute_reply.started": "2022-02-09T13:34:38.520742Z"
    }
   },
   "outputs": [
    {
     "data": {
      "application/vnd.jupyter.widget-view+json": {
       "model_id": "5c86f49928324141a11b1ae1879358dc",
       "version_major": 2,
       "version_minor": 0
      },
      "text/plain": [
       "VBox()"
      ]
     },
     "metadata": {},
     "output_type": "display_data"
    },
    {
     "data": {
      "application/vnd.jupyter.widget-view+json": {
       "model_id": "",
       "version_major": 2,
       "version_minor": 0
      },
      "text/plain": [
       "FloatProgress(value=0.0, bar_style='info', description='Progress:', layout=Layout(height='25px', width='50%'),…"
      ]
     },
     "metadata": {},
     "output_type": "display_data"
    },
    {
     "name": "stdout",
     "output_type": "stream",
     "text": [
      "DataFrame[]"
     ]
    }
   ],
   "source": [
    "spark.sql(\"insert into DIMCARDTYPE SELECT card_type_id, card_type from bank_data2\")"
   ]
  },
  {
   "cell_type": "code",
   "execution_count": 191,
   "id": "30b64513-635c-4d58-9ce9-4dbcf96d5065",
   "metadata": {
    "execution": {
     "iopub.execute_input": "2022-02-09T13:35:26.526693Z",
     "iopub.status.busy": "2022-02-09T13:35:26.526432Z",
     "iopub.status.idle": "2022-02-09T13:35:27.542913Z",
     "shell.execute_reply": "2022-02-09T13:35:27.542274Z",
     "shell.execute_reply.started": "2022-02-09T13:35:26.526664Z"
    }
   },
   "outputs": [
    {
     "data": {
      "application/vnd.jupyter.widget-view+json": {
       "model_id": "567134dd001a4cde82281cba16b5a8a0",
       "version_major": 2,
       "version_minor": 0
      },
      "text/plain": [
       "VBox()"
      ]
     },
     "metadata": {},
     "output_type": "display_data"
    },
    {
     "data": {
      "application/vnd.jupyter.widget-view+json": {
       "model_id": "",
       "version_major": 2,
       "version_minor": 0
      },
      "text/plain": [
       "FloatProgress(value=0.0, bar_style='info', description='Progress:', layout=Layout(height='25px', width='50%'),…"
      ]
     },
     "metadata": {},
     "output_type": "display_data"
    },
    {
     "name": "stdout",
     "output_type": "stream",
     "text": [
      "+-------+---------+\n",
      "|card_id|card_type|\n",
      "+-------+---------+\n",
      "|      1|   CIRRUS|\n",
      "|      1|   CIRRUS|\n",
      "|      1|   CIRRUS|\n",
      "|      1|   CIRRUS|\n",
      "|      1|   CIRRUS|\n",
      "|      1|   CIRRUS|\n",
      "|      1|   CIRRUS|\n",
      "|      1|   CIRRUS|\n",
      "|      1|   CIRRUS|\n",
      "|      1|   CIRRUS|\n",
      "|      1|   CIRRUS|\n",
      "|      1|   CIRRUS|\n",
      "|      1|   CIRRUS|\n",
      "|      1|   CIRRUS|\n",
      "|      1|   CIRRUS|\n",
      "|      1|   CIRRUS|\n",
      "|      1|   CIRRUS|\n",
      "|      1|   CIRRUS|\n",
      "|      1|   CIRRUS|\n",
      "|      1|   CIRRUS|\n",
      "+-------+---------+\n",
      "only showing top 20 rows"
     ]
    }
   ],
   "source": [
    "spark.sql(\"select * from DIMCARDTYPE\").show()"
   ]
  },
  {
   "cell_type": "code",
   "execution_count": 213,
   "id": "f5cc1d42-07da-40dd-bdde-784351f74b57",
   "metadata": {
    "execution": {
     "iopub.execute_input": "2022-02-09T14:36:09.765470Z",
     "iopub.status.busy": "2022-02-09T14:36:09.765174Z",
     "iopub.status.idle": "2022-02-09T14:36:09.951744Z",
     "shell.execute_reply": "2022-02-09T14:36:09.951004Z",
     "shell.execute_reply.started": "2022-02-09T14:36:09.765439Z"
    }
   },
   "outputs": [
    {
     "data": {
      "application/vnd.jupyter.widget-view+json": {
       "model_id": "1b4edbfb67754fec98d31365bc92f4da",
       "version_major": 2,
       "version_minor": 0
      },
      "text/plain": [
       "VBox()"
      ]
     },
     "metadata": {},
     "output_type": "display_data"
    },
    {
     "data": {
      "application/vnd.jupyter.widget-view+json": {
       "model_id": "",
       "version_major": 2,
       "version_minor": 0
      },
      "text/plain": [
       "FloatProgress(value=0.0, bar_style='info', description='Progress:', layout=Layout(height='25px', width='50%'),…"
      ]
     },
     "metadata": {},
     "output_type": "display_data"
    }
   ],
   "source": [
    "card = spark.sql(\"select * from DIMCARDTYPE\")"
   ]
  },
  {
   "cell_type": "code",
   "execution_count": 214,
   "id": "afe0b31b-ef3c-4cd8-8f5c-85d436018351",
   "metadata": {
    "execution": {
     "iopub.execute_input": "2022-02-09T14:36:30.096179Z",
     "iopub.status.busy": "2022-02-09T14:36:30.095913Z",
     "iopub.status.idle": "2022-02-09T14:36:41.839079Z",
     "shell.execute_reply": "2022-02-09T14:36:41.838315Z",
     "shell.execute_reply.started": "2022-02-09T14:36:30.096151Z"
    }
   },
   "outputs": [
    {
     "data": {
      "application/vnd.jupyter.widget-view+json": {
       "model_id": "c7ae231c1add477ba3aef22cf81c77b1",
       "version_major": 2,
       "version_minor": 0
      },
      "text/plain": [
       "VBox()"
      ]
     },
     "metadata": {},
     "output_type": "display_data"
    },
    {
     "data": {
      "application/vnd.jupyter.widget-view+json": {
       "model_id": "",
       "version_major": 2,
       "version_minor": 0
      },
      "text/plain": [
       "FloatProgress(value=0.0, bar_style='info', description='Progress:', layout=Layout(height='25px', width='50%'),…"
      ]
     },
     "metadata": {},
     "output_type": "display_data"
    },
    {
     "name": "stdout",
     "output_type": "stream",
     "text": [
      "+-------+---------+\n",
      "|card_id|card_type|\n",
      "+-------+---------+\n",
      "|      1|   CIRRUS|\n",
      "|      1|   CIRRUS|\n",
      "|      1|   CIRRUS|\n",
      "+-------+---------+\n",
      "only showing top 3 rows"
     ]
    }
   ],
   "source": [
    "card.show(3)"
   ]
  },
  {
   "cell_type": "code",
   "execution_count": 192,
   "id": "75f84b7b-fa8f-4398-bea3-c9ba5c8412a6",
   "metadata": {
    "execution": {
     "iopub.execute_input": "2022-02-09T13:41:11.371117Z",
     "iopub.status.busy": "2022-02-09T13:41:11.370866Z",
     "iopub.status.idle": "2022-02-09T13:41:11.788455Z",
     "shell.execute_reply": "2022-02-09T13:41:11.787633Z",
     "shell.execute_reply.started": "2022-02-09T13:41:11.371089Z"
    }
   },
   "outputs": [
    {
     "data": {
      "application/vnd.jupyter.widget-view+json": {
       "model_id": "e6836f8cf1714b23b75e5e1175f048cb",
       "version_major": 2,
       "version_minor": 0
      },
      "text/plain": [
       "VBox()"
      ]
     },
     "metadata": {},
     "output_type": "display_data"
    },
    {
     "data": {
      "application/vnd.jupyter.widget-view+json": {
       "model_id": "",
       "version_major": 2,
       "version_minor": 0
      },
      "text/plain": [
       "FloatProgress(value=0.0, bar_style='info', description='Progress:', layout=Layout(height='25px', width='50%'),…"
      ]
     },
     "metadata": {},
     "output_type": "display_data"
    },
    {
     "name": "stdout",
     "output_type": "stream",
     "text": [
      "DataFrame[]"
     ]
    }
   ],
   "source": [
    "sqlContext.sql(\"CREATE TABLE IF NOT EXISTS FACT_ATM_TRANS(trans_id INT, atm_id INT, weather_loc_id INT, date_id INT, card_type_id INT, atm_status STRING, currency STRING, service STRING, transaction_amount INT, message_code STRING, message_text STRING, rain_3h FLOAT, clouds_all INT, weather_id INT, weather_main STRING, weather_description STRING) ROW FORMAT DELIMITED FIELDS TERMINATED BY ',' LINES TERMINATED BY '\\n'\")"
   ]
  },
  {
   "cell_type": "code",
   "execution_count": 195,
   "id": "619e8e5b-ca1f-4426-9670-30becdb7d555",
   "metadata": {
    "execution": {
     "iopub.execute_input": "2022-02-09T13:44:34.597560Z",
     "iopub.status.busy": "2022-02-09T13:44:34.597267Z",
     "iopub.status.idle": "2022-02-09T13:45:50.949899Z",
     "shell.execute_reply": "2022-02-09T13:45:50.949128Z",
     "shell.execute_reply.started": "2022-02-09T13:44:34.597529Z"
    },
    "tags": []
   },
   "outputs": [
    {
     "data": {
      "application/vnd.jupyter.widget-view+json": {
       "model_id": "1cb3b1a4a670435a88fdc4f5183f83bc",
       "version_major": 2,
       "version_minor": 0
      },
      "text/plain": [
       "VBox()"
      ]
     },
     "metadata": {},
     "output_type": "display_data"
    },
    {
     "data": {
      "application/vnd.jupyter.widget-view+json": {
       "model_id": "",
       "version_major": 2,
       "version_minor": 0
      },
      "text/plain": [
       "FloatProgress(value=0.0, bar_style='info', description='Progress:', layout=Layout(height='25px', width='50%'),…"
      ]
     },
     "metadata": {},
     "output_type": "display_data"
    },
    {
     "name": "stdout",
     "output_type": "stream",
     "text": [
      "+-----+-------+----------+------+------------+---------------+--------+--------------------+----------+------------+--------------------+-----------------+------------+-------------------+----+---+----+----------------+-----------------+-----------+-------+-------+------------------+-----------+-----------+---------------+----+--------+--------+----------+--------+-------+----------+----------+------+------------+--------------+-------+--------+\n",
      "|month|weekday|atm_status|atm_id|atm_location| atm_streetname|currency|           card_type|   service|message_code|        message_text|weather_city_name|weather_main|weather_description|year|day|hour|atm_manufacturer|atm_street_number|atm_zipcode|atm_lat|atm_lon|transaction_amount|weather_lat|weather_lon|weather_city_id|temp|pressure|humidity|wind_speed|wind_deg|rain_3h|clouds_all|weather_id|loc_id|card_type_id|full_date_time|date_id|trans_id|\n",
      "+-----+-------+----------+------+------------+---------------+--------+--------------------+----------+------------+--------------------+-----------------+------------+-------------------+----+---+----+----------------+-----------------+-----------+-------+-------+------------------+-----------+-----------+---------------+----+--------+--------+----------+--------+-------+----------+----------+------+------------+--------------+-------+--------+\n",
      "|April| Monday|    Active|    43|        Aars|Himmerlandsgade|     DKK|Visa Dankort - on-us|Withdrawal|        4017|Suspected malfunc...|             null|        null|               null|2017|  3|  11|            null|               70|       9600| 56.803|  9.518|               149|       null|       null|           null|null|    null|    null|      null|    null|   null|      null|      null|157225|     1718634|    3/Apr/2017|  15690|       1|\n",
      "+-----+-------+----------+------+------------+---------------+--------+--------------------+----------+------------+--------------------+-----------------+------------+-------------------+----+---+----+----------------+-----------------+-----------+-------+-------+------------------+-----------+-----------+---------------+----+--------+--------+----------+--------+-------+----------+----------+------+------------+--------------+-------+--------+\n",
      "only showing top 1 row"
     ]
    }
   ],
   "source": [
    "spark.sql('SELECT * FROM bank_data2').show(1)"
   ]
  },
  {
   "cell_type": "code",
   "execution_count": 197,
   "id": "89c2216a-236d-413e-91f1-9e7a22711961",
   "metadata": {
    "execution": {
     "iopub.execute_input": "2022-02-09T13:55:03.605165Z",
     "iopub.status.busy": "2022-02-09T13:55:03.604858Z",
     "iopub.status.idle": "2022-02-09T13:56:10.076135Z",
     "shell.execute_reply": "2022-02-09T13:56:10.075472Z",
     "shell.execute_reply.started": "2022-02-09T13:55:03.605130Z"
    },
    "tags": []
   },
   "outputs": [
    {
     "data": {
      "application/vnd.jupyter.widget-view+json": {
       "model_id": "3094834ec28442578fc5efc3810230b3",
       "version_major": 2,
       "version_minor": 0
      },
      "text/plain": [
       "VBox()"
      ]
     },
     "metadata": {},
     "output_type": "display_data"
    },
    {
     "data": {
      "application/vnd.jupyter.widget-view+json": {
       "model_id": "",
       "version_major": 2,
       "version_minor": 0
      },
      "text/plain": [
       "FloatProgress(value=0.0, bar_style='info', description='Progress:', layout=Layout(height='25px', width='50%'),…"
      ]
     },
     "metadata": {},
     "output_type": "display_data"
    },
    {
     "name": "stdout",
     "output_type": "stream",
     "text": [
      "DataFrame[]"
     ]
    }
   ],
   "source": [
    "spark.sql(\"insert into FACT_ATM_TRANS SELECT trans_id, atm_id, weather_city_id, date_id, card_type_id, atm_status, currency, service, transaction_amount, message_code, message_text, rain_3h, clouds_all, weather_id, weather_description, weather_main from bank_data2\")"
   ]
  },
  {
   "cell_type": "code",
   "execution_count": 198,
   "id": "9d5dc4bd-66ad-46e0-a22b-ccbd6c048fcd",
   "metadata": {
    "execution": {
     "iopub.execute_input": "2022-02-09T13:56:34.755938Z",
     "iopub.status.busy": "2022-02-09T13:56:34.755624Z",
     "iopub.status.idle": "2022-02-09T13:56:36.263916Z",
     "shell.execute_reply": "2022-02-09T13:56:36.263254Z",
     "shell.execute_reply.started": "2022-02-09T13:56:34.755906Z"
    }
   },
   "outputs": [
    {
     "data": {
      "application/vnd.jupyter.widget-view+json": {
       "model_id": "5d0f677094a049429bceeea1358dc2ff",
       "version_major": 2,
       "version_minor": 0
      },
      "text/plain": [
       "VBox()"
      ]
     },
     "metadata": {},
     "output_type": "display_data"
    },
    {
     "data": {
      "application/vnd.jupyter.widget-view+json": {
       "model_id": "",
       "version_major": 2,
       "version_minor": 0
      },
      "text/plain": [
       "FloatProgress(value=0.0, bar_style='info', description='Progress:', layout=Layout(height='25px', width='50%'),…"
      ]
     },
     "metadata": {},
     "output_type": "display_data"
    },
    {
     "name": "stdout",
     "output_type": "stream",
     "text": [
      "+--------+------+--------------+-------+------------+----------+--------+----------+------------------+------------+--------------------+-------+----------+----------+--------------------+-------------------+\n",
      "|trans_id|atm_id|weather_loc_id|date_id|card_type_id|atm_status|currency|   service|transaction_amount|message_code|        message_text|rain_3h|clouds_all|weather_id|        weather_main|weather_description|\n",
      "+--------+------+--------------+-------+------------+----------+--------+----------+------------------+------------+--------------------+-------+----------+----------+--------------------+-------------------+\n",
      "|       1|    43|          null|  15690|     1718634|    Active|     DKK|Withdrawal|               149|        4017|Suspected malfunc...|    0.0|        56|        10|             2624602|              0.000|\n",
      "|       2|    43|          null|  15690|     1718634|    Active|     DKK|Withdrawal|              1087|        4017|Suspected malfunc...|    0.0|        56|        10|             2624602|              0.000|\n",
      "|       3|    43|          null|  15690|     1718634|    Active|     DKK|Withdrawal|              4864|        4017|Suspected malfunc...|    0.0|        56|        10|             2624602|              0.000|\n",
      "|       4|    43|          null| 623255|      661740|    Active|     DKK|Withdrawal|              3460|        4017|Suspected malfunc...|    0.0|        56|        10|             2624602|              0.000|\n",
      "|       5|    43|          null|1309836|      261233|    Active|     DKK|Withdrawal|              3220|        4017|Suspected malfunc...|    0.0|        56|        10|             2624602|              0.000|\n",
      "|       6|    43|          null|1641094|      261233|    Active|     DKK|Withdrawal|               462|        4019|Timed-out taking ...|    0.0|        56|        10|             2624602|              0.000|\n",
      "|       7|    43|          null|1939454|     1718634|    Active|     DKK|Withdrawal|              1759|        4017|Suspected malfunc...|    0.0|        56|        10|             2624602|              0.000|\n",
      "|       8|    43|          null|2192459|     1718634|    Active|     DKK|Withdrawal|              5175|        4017|Suspected malfunc...|    0.0|        56|        10|             2624602|              0.000|\n",
      "|       9|    43|       2624602| 322694|      661740|    Active|     DKK|Withdrawal|              3909|        null|                null|    0.0|        75|       200|thunderstorm with...|       Thunderstorm|\n",
      "|      10|    43|       2624602| 322694|      661740|    Active|     DKK|Withdrawal|              4703|        null|                null|    0.0|        75|       200|thunderstorm with...|       Thunderstorm|\n",
      "|      11|    43|       2624602| 322694|      661740|    Active|     DKK|Withdrawal|              9565|        null|                null|    0.0|        75|       200|thunderstorm with...|       Thunderstorm|\n",
      "|      12|    43|       2624602| 322694|      661740|    Active|     DKK|Withdrawal|               940|        null|                null|    0.0|        75|       200|thunderstorm with...|       Thunderstorm|\n",
      "|      13|    43|       2624602| 322694|      661740|    Active|     DKK|Withdrawal|              9805|        null|                null|    0.0|        75|       200|thunderstorm with...|       Thunderstorm|\n",
      "|      14|    43|       2624602| 322694|      661740|    Active|     DKK|Withdrawal|               960|        null|                null|    0.0|        75|       200|thunderstorm with...|       Thunderstorm|\n",
      "|      15|    43|       2624602| 322694|     1290794|    Active|     DKK|Withdrawal|              4882|        null|                null|    0.0|        75|       200|thunderstorm with...|       Thunderstorm|\n",
      "|      16|    43|       2624602| 322694|     1718634|    Active|     DKK|Withdrawal|              9600|        null|                null|    0.0|        75|       200|thunderstorm with...|       Thunderstorm|\n",
      "|      17|    43|       2624602| 350918|      261233|    Active|     DKK|Withdrawal|              5314|        null|                null|    0.0|        40|       200|thunderstorm with...|       Thunderstorm|\n",
      "|      18|    43|       2624602| 350918|      661740|    Active|     DKK|Withdrawal|              6651|        null|                null|    0.0|        40|       200|thunderstorm with...|       Thunderstorm|\n",
      "|      19|    43|       2624602| 350918|      661740|    Active|     DKK|Withdrawal|              3798|        null|                null|    0.0|        40|       200|thunderstorm with...|       Thunderstorm|\n",
      "|      20|    43|       2624602| 350918|     1290794|    Active|     DKK|Withdrawal|              4506|        null|                null|    0.0|        40|       200|thunderstorm with...|       Thunderstorm|\n",
      "+--------+------+--------------+-------+------------+----------+--------+----------+------------------+------------+--------------------+-------+----------+----------+--------------------+-------------------+\n",
      "only showing top 20 rows"
     ]
    }
   ],
   "source": [
    "spark.sql(\"select * from FACT_ATM_TRANS\").show()"
   ]
  },
  {
   "cell_type": "code",
   "execution_count": 199,
   "id": "8ec82fee-c3a6-428c-acf5-0608f4d28fea",
   "metadata": {
    "execution": {
     "iopub.execute_input": "2022-02-09T14:01:41.153088Z",
     "iopub.status.busy": "2022-02-09T14:01:41.152839Z",
     "iopub.status.idle": "2022-02-09T14:01:41.356040Z",
     "shell.execute_reply": "2022-02-09T14:01:41.355293Z",
     "shell.execute_reply.started": "2022-02-09T14:01:41.153059Z"
    }
   },
   "outputs": [
    {
     "data": {
      "application/vnd.jupyter.widget-view+json": {
       "model_id": "4da8f194f9a74ecfab76a010d1398151",
       "version_major": 2,
       "version_minor": 0
      },
      "text/plain": [
       "VBox()"
      ]
     },
     "metadata": {},
     "output_type": "display_data"
    },
    {
     "data": {
      "application/vnd.jupyter.widget-view+json": {
       "model_id": "",
       "version_major": 2,
       "version_minor": 0
      },
      "text/plain": [
       "FloatProgress(value=0.0, bar_style='info', description='Progress:', layout=Layout(height='25px', width='50%'),…"
      ]
     },
     "metadata": {},
     "output_type": "display_data"
    }
   ],
   "source": [
    "trans = spark.sql(\"select * from FACT_ATM_TRANS\")"
   ]
  },
  {
   "cell_type": "code",
   "execution_count": 202,
   "id": "ba2ad7d3-ab66-4bb5-ba18-4f81c9bae38d",
   "metadata": {
    "execution": {
     "iopub.execute_input": "2022-02-09T14:09:50.920739Z",
     "iopub.status.busy": "2022-02-09T14:09:50.920396Z",
     "iopub.status.idle": "2022-02-09T14:10:00.819027Z",
     "shell.execute_reply": "2022-02-09T14:10:00.817893Z",
     "shell.execute_reply.started": "2022-02-09T14:09:50.920702Z"
    },
    "tags": []
   },
   "outputs": [
    {
     "data": {
      "application/vnd.jupyter.widget-view+json": {
       "model_id": "b65a5fd59ba847f3b42b83858c38133c",
       "version_major": 2,
       "version_minor": 0
      },
      "text/plain": [
       "VBox()"
      ]
     },
     "metadata": {},
     "output_type": "display_data"
    },
    {
     "data": {
      "application/vnd.jupyter.widget-view+json": {
       "model_id": "",
       "version_major": 2,
       "version_minor": 0
      },
      "text/plain": [
       "FloatProgress(value=0.0, bar_style='info', description='Progress:', layout=Layout(height='25px', width='50%'),…"
      ]
     },
     "metadata": {},
     "output_type": "display_data"
    },
    {
     "name": "stdout",
     "output_type": "stream",
     "text": [
      "+--------+------+--------------+-------+------------+----------+--------+----------+------------------+------------+--------------------+-------+----------+----------+------------+-------------------+\n",
      "|trans_id|atm_id|weather_loc_id|date_id|card_type_id|atm_status|currency|   service|transaction_amount|message_code|        message_text|rain_3h|clouds_all|weather_id|weather_main|weather_description|\n",
      "+--------+------+--------------+-------+------------+----------+--------+----------+------------------+------------+--------------------+-------+----------+----------+------------+-------------------+\n",
      "|       1|    43|          null|  15690|     1718634|    Active|     DKK|Withdrawal|               149|        4017|Suspected malfunc...|    0.0|        56|        10|     2624602|              0.000|\n",
      "|       2|    43|          null|  15690|     1718634|    Active|     DKK|Withdrawal|              1087|        4017|Suspected malfunc...|    0.0|        56|        10|     2624602|              0.000|\n",
      "|       3|    43|          null|  15690|     1718634|    Active|     DKK|Withdrawal|              4864|        4017|Suspected malfunc...|    0.0|        56|        10|     2624602|              0.000|\n",
      "|       4|    43|          null| 623255|      661740|    Active|     DKK|Withdrawal|              3460|        4017|Suspected malfunc...|    0.0|        56|        10|     2624602|              0.000|\n",
      "|       5|    43|          null|1309836|      261233|    Active|     DKK|Withdrawal|              3220|        4017|Suspected malfunc...|    0.0|        56|        10|     2624602|              0.000|\n",
      "+--------+------+--------------+-------+------------+----------+--------+----------+------------------+------------+--------------------+-------+----------+----------+------------+-------------------+\n",
      "only showing top 5 rows"
     ]
    }
   ],
   "source": [
    "trans.show(5)"
   ]
  },
  {
   "cell_type": "code",
   "execution_count": 211,
   "id": "c97aa13b-f13f-4d11-9553-82d3468694cc",
   "metadata": {
    "execution": {
     "iopub.execute_input": "2022-02-09T14:33:58.627701Z",
     "iopub.status.busy": "2022-02-09T14:33:58.627458Z",
     "iopub.status.idle": "2022-02-09T14:33:58.858605Z",
     "shell.execute_reply": "2022-02-09T14:33:58.857546Z",
     "shell.execute_reply.started": "2022-02-09T14:33:58.627672Z"
    },
    "tags": []
   },
   "outputs": [
    {
     "data": {
      "application/vnd.jupyter.widget-view+json": {
       "model_id": "70d385c529ac4005b5b00c7b4938a5be",
       "version_major": 2,
       "version_minor": 0
      },
      "text/plain": [
       "VBox()"
      ]
     },
     "metadata": {},
     "output_type": "display_data"
    },
    {
     "data": {
      "application/vnd.jupyter.widget-view+json": {
       "model_id": "",
       "version_major": 2,
       "version_minor": 0
      },
      "text/plain": [
       "FloatProgress(value=0.0, bar_style='info', description='Progress:', layout=Layout(height='25px', width='50%'),…"
      ]
     },
     "metadata": {},
     "output_type": "display_data"
    }
   ],
   "source": [
    "hdpConf = sc._jsc.hadoopConfiguration()\n",
    "hdpConf.set(\"fs.s3a.fast.upload\", \"true\")\n",
    "hdpConf.set(\"fs.s3a.fast.upload.buffer\", \"bytebuffer\")"
   ]
  },
  {
   "cell_type": "code",
   "execution_count": 212,
   "id": "659c6fa7-65ff-4249-8330-2c8f6745f08e",
   "metadata": {
    "execution": {
     "iopub.execute_input": "2022-02-09T14:34:36.842178Z",
     "iopub.status.busy": "2022-02-09T14:34:36.841919Z",
     "iopub.status.idle": "2022-02-09T14:35:16.941325Z",
     "shell.execute_reply": "2022-02-09T14:35:16.940321Z",
     "shell.execute_reply.started": "2022-02-09T14:34:36.842150Z"
    },
    "tags": []
   },
   "outputs": [
    {
     "data": {
      "application/vnd.jupyter.widget-view+json": {
       "model_id": "02fb710cd4674ad89d8547810f5cc2be",
       "version_major": 2,
       "version_minor": 0
      },
      "text/plain": [
       "VBox()"
      ]
     },
     "metadata": {},
     "output_type": "display_data"
    },
    {
     "data": {
      "application/vnd.jupyter.widget-view+json": {
       "model_id": "",
       "version_major": 2,
       "version_minor": 0
      },
      "text/plain": [
       "FloatProgress(value=0.0, bar_style='info', description='Progress:', layout=Layout(height='25px', width='50%'),…"
      ]
     },
     "metadata": {},
     "output_type": "display_data"
    },
    {
     "name": "stderr",
     "output_type": "stream",
     "text": [
      "An error occurred while calling o2534.save.\n",
      ": org.apache.spark.SparkException: Job aborted.\n",
      "\tat org.apache.spark.sql.execution.datasources.FileFormatWriter$.write(FileFormatWriter.scala:198)\n",
      "\tat org.apache.spark.sql.execution.datasources.InsertIntoHadoopFsRelationCommand.run(InsertIntoHadoopFsRelationCommand.scala:165)\n",
      "\tat org.apache.spark.sql.execution.command.DataWritingCommandExec.sideEffectResult$lzycompute(commands.scala:104)\n",
      "\tat org.apache.spark.sql.execution.command.DataWritingCommandExec.sideEffectResult(commands.scala:102)\n",
      "\tat org.apache.spark.sql.execution.command.DataWritingCommandExec.doExecute(commands.scala:122)\n",
      "\tat org.apache.spark.sql.execution.SparkPlan$$anonfun$execute$1.apply(SparkPlan.scala:173)\n",
      "\tat org.apache.spark.sql.execution.SparkPlan$$anonfun$execute$1.apply(SparkPlan.scala:169)\n",
      "\tat org.apache.spark.sql.execution.SparkPlan$$anonfun$executeQuery$1.apply(SparkPlan.scala:197)\n",
      "\tat org.apache.spark.rdd.RDDOperationScope$.withScope(RDDOperationScope.scala:151)\n",
      "\tat org.apache.spark.sql.execution.SparkPlan.executeQuery(SparkPlan.scala:194)\n",
      "\tat org.apache.spark.sql.execution.SparkPlan.execute(SparkPlan.scala:169)\n",
      "\tat org.apache.spark.sql.execution.QueryExecution.toRdd$lzycompute(QueryExecution.scala:114)\n",
      "\tat org.apache.spark.sql.execution.QueryExecution.toRdd(QueryExecution.scala:112)\n",
      "\tat org.apache.spark.sql.DataFrameWriter$$anonfun$runCommand$1.apply(DataFrameWriter.scala:676)\n",
      "\tat org.apache.spark.sql.DataFrameWriter$$anonfun$runCommand$1.apply(DataFrameWriter.scala:676)\n",
      "\tat org.apache.spark.sql.execution.SQLExecution$.org$apache$spark$sql$execution$SQLExecution$$executeQuery$1(SQLExecution.scala:83)\n",
      "\tat org.apache.spark.sql.execution.SQLExecution$$anonfun$withNewExecutionId$1$$anonfun$apply$1.apply(SQLExecution.scala:94)\n",
      "\tat org.apache.spark.sql.execution.QueryExecutionMetrics$.withMetrics(QueryExecutionMetrics.scala:141)\n",
      "\tat org.apache.spark.sql.execution.SQLExecution$.org$apache$spark$sql$execution$SQLExecution$$withMetrics(SQLExecution.scala:178)\n",
      "\tat org.apache.spark.sql.execution.SQLExecution$$anonfun$withNewExecutionId$1.apply(SQLExecution.scala:93)\n",
      "\tat org.apache.spark.sql.execution.SQLExecution$.withSQLConfPropagated(SQLExecution.scala:200)\n",
      "\tat org.apache.spark.sql.execution.SQLExecution$.withNewExecutionId(SQLExecution.scala:92)\n",
      "\tat org.apache.spark.sql.DataFrameWriter.runCommand(DataFrameWriter.scala:676)\n",
      "\tat org.apache.spark.sql.DataFrameWriter.saveToV1Source(DataFrameWriter.scala:285)\n",
      "\tat org.apache.spark.sql.DataFrameWriter.save(DataFrameWriter.scala:271)\n",
      "\tat org.apache.spark.sql.DataFrameWriter.save(DataFrameWriter.scala:229)\n",
      "\tat sun.reflect.NativeMethodAccessorImpl.invoke0(Native Method)\n",
      "\tat sun.reflect.NativeMethodAccessorImpl.invoke(NativeMethodAccessorImpl.java:62)\n",
      "\tat sun.reflect.DelegatingMethodAccessorImpl.invoke(DelegatingMethodAccessorImpl.java:43)\n",
      "\tat java.lang.reflect.Method.invoke(Method.java:498)\n",
      "\tat py4j.reflection.MethodInvoker.invoke(MethodInvoker.java:244)\n",
      "\tat py4j.reflection.ReflectionEngine.invoke(ReflectionEngine.java:357)\n",
      "\tat py4j.Gateway.invoke(Gateway.java:282)\n",
      "\tat py4j.commands.AbstractCommand.invokeMethod(AbstractCommand.java:132)\n",
      "\tat py4j.commands.CallCommand.execute(CallCommand.java:79)\n",
      "\tat py4j.GatewayConnection.run(GatewayConnection.java:238)\n",
      "\tat java.lang.Thread.run(Thread.java:750)\n",
      "Caused by: org.apache.hadoop.util.DiskChecker$DiskErrorException: No space available in any of the local directories.\n",
      "\tat org.apache.hadoop.fs.LocalDirAllocator$AllocatorPerContext.getLocalPathForWrite(LocalDirAllocator.java:399)\n",
      "\tat org.apache.hadoop.fs.LocalDirAllocator$AllocatorPerContext.createTmpFileForWrite(LocalDirAllocator.java:460)\n",
      "\tat org.apache.hadoop.fs.LocalDirAllocator.createTmpFileForWrite(LocalDirAllocator.java:199)\n",
      "\tat org.apache.hadoop.fs.s3a.S3AFileSystem.createTmpFileForWrite(S3AFileSystem.java:412)\n",
      "\tat org.apache.hadoop.fs.s3a.S3AOutputStream.<init>(S3AOutputStream.java:67)\n",
      "\tat org.apache.hadoop.fs.s3a.S3AFileSystem.create(S3AFileSystem.java:591)\n",
      "\tat org.apache.hadoop.fs.FileSystem.create(FileSystem.java:932)\n",
      "\tat org.apache.hadoop.fs.FileSystem.create(FileSystem.java:913)\n",
      "\tat org.apache.hadoop.fs.FileSystem.create(FileSystem.java:810)\n",
      "\tat org.apache.hadoop.fs.FileSystem.create(FileSystem.java:799)\n",
      "\tat org.apache.hadoop.mapreduce.lib.output.FileOutputCommitter.commitJobInternal(FileOutputCommitter.java:422)\n",
      "\tat org.apache.hadoop.mapreduce.lib.output.FileOutputCommitter.commitJob(FileOutputCommitter.java:360)\n",
      "\tat org.apache.hadoop.mapreduce.lib.output.DirectFileOutputCommitter.commitJob(DirectFileOutputCommitter.java:111)\n",
      "\tat org.apache.spark.internal.io.HadoopMapReduceCommitProtocol.commitJob(HadoopMapReduceCommitProtocol.scala:126)\n",
      "\tat org.apache.spark.sql.execution.datasources.SQLEmrOptimizedCommitProtocol.commitJob(SQLEmrOptimizedCommitProtocol.scala:121)\n",
      "\tat org.apache.spark.sql.execution.datasources.FileFormatWriter$.write(FileFormatWriter.scala:187)\n",
      "\t... 36 more\n",
      "\n",
      "Traceback (most recent call last):\n",
      "  File \"/usr/lib/spark/python/lib/pyspark.zip/pyspark/sql/readwriter.py\", line 739, in save\n",
      "    self._jwrite.save(path)\n",
      "  File \"/usr/lib/spark/python/lib/py4j-0.10.7-src.zip/py4j/java_gateway.py\", line 1257, in __call__\n",
      "    answer, self.gateway_client, self.target_id, self.name)\n",
      "  File \"/usr/lib/spark/python/lib/pyspark.zip/pyspark/sql/utils.py\", line 63, in deco\n",
      "    return f(*a, **kw)\n",
      "  File \"/usr/lib/spark/python/lib/py4j-0.10.7-src.zip/py4j/protocol.py\", line 328, in get_return_value\n",
      "    format(target_id, \".\", name), value)\n",
      "py4j.protocol.Py4JJavaError: An error occurred while calling o2534.save.\n",
      ": org.apache.spark.SparkException: Job aborted.\n",
      "\tat org.apache.spark.sql.execution.datasources.FileFormatWriter$.write(FileFormatWriter.scala:198)\n",
      "\tat org.apache.spark.sql.execution.datasources.InsertIntoHadoopFsRelationCommand.run(InsertIntoHadoopFsRelationCommand.scala:165)\n",
      "\tat org.apache.spark.sql.execution.command.DataWritingCommandExec.sideEffectResult$lzycompute(commands.scala:104)\n",
      "\tat org.apache.spark.sql.execution.command.DataWritingCommandExec.sideEffectResult(commands.scala:102)\n",
      "\tat org.apache.spark.sql.execution.command.DataWritingCommandExec.doExecute(commands.scala:122)\n",
      "\tat org.apache.spark.sql.execution.SparkPlan$$anonfun$execute$1.apply(SparkPlan.scala:173)\n",
      "\tat org.apache.spark.sql.execution.SparkPlan$$anonfun$execute$1.apply(SparkPlan.scala:169)\n",
      "\tat org.apache.spark.sql.execution.SparkPlan$$anonfun$executeQuery$1.apply(SparkPlan.scala:197)\n",
      "\tat org.apache.spark.rdd.RDDOperationScope$.withScope(RDDOperationScope.scala:151)\n",
      "\tat org.apache.spark.sql.execution.SparkPlan.executeQuery(SparkPlan.scala:194)\n",
      "\tat org.apache.spark.sql.execution.SparkPlan.execute(SparkPlan.scala:169)\n",
      "\tat org.apache.spark.sql.execution.QueryExecution.toRdd$lzycompute(QueryExecution.scala:114)\n",
      "\tat org.apache.spark.sql.execution.QueryExecution.toRdd(QueryExecution.scala:112)\n",
      "\tat org.apache.spark.sql.DataFrameWriter$$anonfun$runCommand$1.apply(DataFrameWriter.scala:676)\n",
      "\tat org.apache.spark.sql.DataFrameWriter$$anonfun$runCommand$1.apply(DataFrameWriter.scala:676)\n",
      "\tat org.apache.spark.sql.execution.SQLExecution$.org$apache$spark$sql$execution$SQLExecution$$executeQuery$1(SQLExecution.scala:83)\n",
      "\tat org.apache.spark.sql.execution.SQLExecution$$anonfun$withNewExecutionId$1$$anonfun$apply$1.apply(SQLExecution.scala:94)\n",
      "\tat org.apache.spark.sql.execution.QueryExecutionMetrics$.withMetrics(QueryExecutionMetrics.scala:141)\n",
      "\tat org.apache.spark.sql.execution.SQLExecution$.org$apache$spark$sql$execution$SQLExecution$$withMetrics(SQLExecution.scala:178)\n",
      "\tat org.apache.spark.sql.execution.SQLExecution$$anonfun$withNewExecutionId$1.apply(SQLExecution.scala:93)\n",
      "\tat org.apache.spark.sql.execution.SQLExecution$.withSQLConfPropagated(SQLExecution.scala:200)\n",
      "\tat org.apache.spark.sql.execution.SQLExecution$.withNewExecutionId(SQLExecution.scala:92)\n",
      "\tat org.apache.spark.sql.DataFrameWriter.runCommand(DataFrameWriter.scala:676)\n",
      "\tat org.apache.spark.sql.DataFrameWriter.saveToV1Source(DataFrameWriter.scala:285)\n",
      "\tat org.apache.spark.sql.DataFrameWriter.save(DataFrameWriter.scala:271)\n",
      "\tat org.apache.spark.sql.DataFrameWriter.save(DataFrameWriter.scala:229)\n",
      "\tat sun.reflect.NativeMethodAccessorImpl.invoke0(Native Method)\n",
      "\tat sun.reflect.NativeMethodAccessorImpl.invoke(NativeMethodAccessorImpl.java:62)\n",
      "\tat sun.reflect.DelegatingMethodAccessorImpl.invoke(DelegatingMethodAccessorImpl.java:43)\n",
      "\tat java.lang.reflect.Method.invoke(Method.java:498)\n",
      "\tat py4j.reflection.MethodInvoker.invoke(MethodInvoker.java:244)\n",
      "\tat py4j.reflection.ReflectionEngine.invoke(ReflectionEngine.java:357)\n",
      "\tat py4j.Gateway.invoke(Gateway.java:282)\n",
      "\tat py4j.commands.AbstractCommand.invokeMethod(AbstractCommand.java:132)\n",
      "\tat py4j.commands.CallCommand.execute(CallCommand.java:79)\n",
      "\tat py4j.GatewayConnection.run(GatewayConnection.java:238)\n",
      "\tat java.lang.Thread.run(Thread.java:750)\n",
      "Caused by: org.apache.hadoop.util.DiskChecker$DiskErrorException: No space available in any of the local directories.\n",
      "\tat org.apache.hadoop.fs.LocalDirAllocator$AllocatorPerContext.getLocalPathForWrite(LocalDirAllocator.java:399)\n",
      "\tat org.apache.hadoop.fs.LocalDirAllocator$AllocatorPerContext.createTmpFileForWrite(LocalDirAllocator.java:460)\n",
      "\tat org.apache.hadoop.fs.LocalDirAllocator.createTmpFileForWrite(LocalDirAllocator.java:199)\n",
      "\tat org.apache.hadoop.fs.s3a.S3AFileSystem.createTmpFileForWrite(S3AFileSystem.java:412)\n",
      "\tat org.apache.hadoop.fs.s3a.S3AOutputStream.<init>(S3AOutputStream.java:67)\n",
      "\tat org.apache.hadoop.fs.s3a.S3AFileSystem.create(S3AFileSystem.java:591)\n",
      "\tat org.apache.hadoop.fs.FileSystem.create(FileSystem.java:932)\n",
      "\tat org.apache.hadoop.fs.FileSystem.create(FileSystem.java:913)\n",
      "\tat org.apache.hadoop.fs.FileSystem.create(FileSystem.java:810)\n",
      "\tat org.apache.hadoop.fs.FileSystem.create(FileSystem.java:799)\n",
      "\tat org.apache.hadoop.mapreduce.lib.output.FileOutputCommitter.commitJobInternal(FileOutputCommitter.java:422)\n",
      "\tat org.apache.hadoop.mapreduce.lib.output.FileOutputCommitter.commitJob(FileOutputCommitter.java:360)\n",
      "\tat org.apache.hadoop.mapreduce.lib.output.DirectFileOutputCommitter.commitJob(DirectFileOutputCommitter.java:111)\n",
      "\tat org.apache.spark.internal.io.HadoopMapReduceCommitProtocol.commitJob(HadoopMapReduceCommitProtocol.scala:126)\n",
      "\tat org.apache.spark.sql.execution.datasources.SQLEmrOptimizedCommitProtocol.commitJob(SQLEmrOptimizedCommitProtocol.scala:121)\n",
      "\tat org.apache.spark.sql.execution.datasources.FileFormatWriter$.write(FileFormatWriter.scala:187)\n",
      "\t... 36 more\n",
      "\n",
      "\n"
     ]
    }
   ],
   "source": [
    "trans.repartition(1).write.format('csv').option('header','true').save('s3a://assign-one-assign/trans.csv',mode='overwrite')"
   ]
  },
  {
   "cell_type": "code",
   "execution_count": 215,
   "id": "c48de266-9ea7-4170-8445-9bcc2578747f",
   "metadata": {
    "execution": {
     "iopub.execute_input": "2022-02-09T14:38:17.336323Z",
     "iopub.status.busy": "2022-02-09T14:38:17.336045Z",
     "iopub.status.idle": "2022-02-09T14:38:43.194157Z",
     "shell.execute_reply": "2022-02-09T14:38:43.193239Z",
     "shell.execute_reply.started": "2022-02-09T14:38:17.336294Z"
    }
   },
   "outputs": [
    {
     "data": {
      "application/vnd.jupyter.widget-view+json": {
       "model_id": "1d7116ffc3fc469892bf814c997ae09d",
       "version_major": 2,
       "version_minor": 0
      },
      "text/plain": [
       "VBox()"
      ]
     },
     "metadata": {},
     "output_type": "display_data"
    },
    {
     "data": {
      "application/vnd.jupyter.widget-view+json": {
       "model_id": "",
       "version_major": 2,
       "version_minor": 0
      },
      "text/plain": [
       "FloatProgress(value=0.0, bar_style='info', description='Progress:', layout=Layout(height='25px', width='50%'),…"
      ]
     },
     "metadata": {},
     "output_type": "display_data"
    }
   ],
   "source": [
    "card.repartition(1).write.format('csv').option('header','true').save('s3a://assign-card/card.csv',mode='overwrite')"
   ]
  },
  {
   "cell_type": "code",
   "execution_count": 217,
   "id": "0fc3137e-7dc1-430d-a083-87e1b02f5b75",
   "metadata": {
    "execution": {
     "iopub.execute_input": "2022-02-09T14:41:04.503397Z",
     "iopub.status.busy": "2022-02-09T14:41:04.503070Z",
     "iopub.status.idle": "2022-02-09T14:41:38.440479Z",
     "shell.execute_reply": "2022-02-09T14:41:38.439406Z",
     "shell.execute_reply.started": "2022-02-09T14:41:04.503298Z"
    }
   },
   "outputs": [
    {
     "data": {
      "application/vnd.jupyter.widget-view+json": {
       "model_id": "c265e911dfa246c9a7408b282d30925c",
       "version_major": 2,
       "version_minor": 0
      },
      "text/plain": [
       "VBox()"
      ]
     },
     "metadata": {},
     "output_type": "display_data"
    },
    {
     "data": {
      "application/vnd.jupyter.widget-view+json": {
       "model_id": "",
       "version_major": 2,
       "version_minor": 0
      },
      "text/plain": [
       "FloatProgress(value=0.0, bar_style='info', description='Progress:', layout=Layout(height='25px', width='50%'),…"
      ]
     },
     "metadata": {},
     "output_type": "display_data"
    }
   ],
   "source": [
    "date.repartition(1).write.format('csv').option('header','true').save('s3a://assign-date/date.csv',mode='overwrite')"
   ]
  },
  {
   "cell_type": "code",
   "execution_count": 219,
   "id": "73428f01-2762-4c14-9915-8e446ab79a86",
   "metadata": {
    "execution": {
     "iopub.execute_input": "2022-02-09T14:44:26.350839Z",
     "iopub.status.busy": "2022-02-09T14:44:26.350590Z",
     "iopub.status.idle": "2022-02-09T14:45:08.301294Z",
     "shell.execute_reply": "2022-02-09T14:45:08.300533Z",
     "shell.execute_reply.started": "2022-02-09T14:44:26.350810Z"
    }
   },
   "outputs": [
    {
     "data": {
      "application/vnd.jupyter.widget-view+json": {
       "model_id": "9d06d51d307b4d0c904fc1a751cd1819",
       "version_major": 2,
       "version_minor": 0
      },
      "text/plain": [
       "VBox()"
      ]
     },
     "metadata": {},
     "output_type": "display_data"
    },
    {
     "data": {
      "application/vnd.jupyter.widget-view+json": {
       "model_id": "",
       "version_major": 2,
       "version_minor": 0
      },
      "text/plain": [
       "FloatProgress(value=0.0, bar_style='info', description='Progress:', layout=Layout(height='25px', width='50%'),…"
      ]
     },
     "metadata": {},
     "output_type": "display_data"
    }
   ],
   "source": [
    "location.repartition(1).write.format('csv').option('header','true').save('s3a://assign-location/location.csv',mode='overwrite')"
   ]
  },
  {
   "cell_type": "code",
   "execution_count": 221,
   "id": "f4bcee7a-deef-4c0f-b609-0dd166fc8980",
   "metadata": {
    "execution": {
     "iopub.execute_input": "2022-02-09T14:47:18.780430Z",
     "iopub.status.busy": "2022-02-09T14:47:18.780074Z",
     "iopub.status.idle": "2022-02-09T14:47:46.826688Z",
     "shell.execute_reply": "2022-02-09T14:47:46.825665Z",
     "shell.execute_reply.started": "2022-02-09T14:47:18.780385Z"
    }
   },
   "outputs": [
    {
     "data": {
      "application/vnd.jupyter.widget-view+json": {
       "model_id": "724266bd45e8431b9e1e8654a64642bd",
       "version_major": 2,
       "version_minor": 0
      },
      "text/plain": [
       "VBox()"
      ]
     },
     "metadata": {},
     "output_type": "display_data"
    },
    {
     "data": {
      "application/vnd.jupyter.widget-view+json": {
       "model_id": "",
       "version_major": 2,
       "version_minor": 0
      },
      "text/plain": [
       "FloatProgress(value=0.0, bar_style='info', description='Progress:', layout=Layout(height='25px', width='50%'),…"
      ]
     },
     "metadata": {},
     "output_type": "display_data"
    }
   ],
   "source": [
    "atm.repartition(1).write.format('csv').option('header','true').save('s3a://assign-atm/atm.csv',mode='overwrite')"
   ]
  },
  {
   "cell_type": "code",
   "execution_count": null,
   "id": "20ebe597-30e3-4907-89c0-87f5ed33f596",
   "metadata": {},
   "outputs": [],
   "source": []
  }
 ],
 "metadata": {
  "kernelspec": {
   "display_name": "PySpark",
   "language": "",
   "name": "pysparkkernel"
  },
  "language_info": {
   "codemirror_mode": {
    "name": "python",
    "version": 2
   },
   "mimetype": "text/x-python",
   "name": "pyspark",
   "pygments_lexer": "python2"
  }
 },
 "nbformat": 4,
 "nbformat_minor": 5
}
